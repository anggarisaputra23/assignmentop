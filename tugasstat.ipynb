{
 "cells": [
  {
   "cell_type": "code",
   "execution_count": 8,
   "metadata": {},
   "outputs": [],
   "source": [
    "import numpy as np\n",
    "import seaborn as sns\n",
    "import matplotlib.pyplot as plt\n",
    "import statistics\n",
    "import pandas as pd\n",
    "from scipy import stats\n",
    "import math"
   ]
  },
  {
   "cell_type": "code",
   "execution_count": 2,
   "metadata": {},
   "outputs": [],
   "source": [
    "data=pd.read_excel(r'C:\\Users\\user\\Downloads\\openuniversitygit\\Tugasstat.xlsx')"
   ]
  },
  {
   "cell_type": "code",
   "execution_count": 4,
   "metadata": {},
   "outputs": [
    {
     "data": {
      "text/html": [
       "<div>\n",
       "<style scoped>\n",
       "    .dataframe tbody tr th:only-of-type {\n",
       "        vertical-align: middle;\n",
       "    }\n",
       "\n",
       "    .dataframe tbody tr th {\n",
       "        vertical-align: top;\n",
       "    }\n",
       "\n",
       "    .dataframe thead th {\n",
       "        text-align: right;\n",
       "    }\n",
       "</style>\n",
       "<table border=\"1\" class=\"dataframe\">\n",
       "  <thead>\n",
       "    <tr style=\"text-align: right;\">\n",
       "      <th></th>\n",
       "      <th>pendapatan</th>\n",
       "    </tr>\n",
       "  </thead>\n",
       "  <tbody>\n",
       "    <tr>\n",
       "      <th>0</th>\n",
       "      <td>300000</td>\n",
       "    </tr>\n",
       "    <tr>\n",
       "      <th>1</th>\n",
       "      <td>250000</td>\n",
       "    </tr>\n",
       "    <tr>\n",
       "      <th>2</th>\n",
       "      <td>2000000</td>\n",
       "    </tr>\n",
       "    <tr>\n",
       "      <th>3</th>\n",
       "      <td>320000</td>\n",
       "    </tr>\n",
       "    <tr>\n",
       "      <th>4</th>\n",
       "      <td>525000</td>\n",
       "    </tr>\n",
       "  </tbody>\n",
       "</table>\n",
       "</div>"
      ],
      "text/plain": [
       "   pendapatan\n",
       "0      300000\n",
       "1      250000\n",
       "2     2000000\n",
       "3      320000\n",
       "4      525000"
      ]
     },
     "execution_count": 4,
     "metadata": {},
     "output_type": "execute_result"
    }
   ],
   "source": [
    "data.head()"
   ]
  },
  {
   "cell_type": "code",
   "execution_count": 17,
   "metadata": {},
   "outputs": [],
   "source": [
    "datalog=np.log(data)"
   ]
  },
  {
   "cell_type": "code",
   "execution_count": 18,
   "metadata": {},
   "outputs": [
    {
     "data": {
      "text/html": [
       "<div>\n",
       "<style scoped>\n",
       "    .dataframe tbody tr th:only-of-type {\n",
       "        vertical-align: middle;\n",
       "    }\n",
       "\n",
       "    .dataframe tbody tr th {\n",
       "        vertical-align: top;\n",
       "    }\n",
       "\n",
       "    .dataframe thead th {\n",
       "        text-align: right;\n",
       "    }\n",
       "</style>\n",
       "<table border=\"1\" class=\"dataframe\">\n",
       "  <thead>\n",
       "    <tr style=\"text-align: right;\">\n",
       "      <th></th>\n",
       "      <th>pendapatan</th>\n",
       "    </tr>\n",
       "  </thead>\n",
       "  <tbody>\n",
       "    <tr>\n",
       "      <th>0</th>\n",
       "      <td>12.611538</td>\n",
       "    </tr>\n",
       "    <tr>\n",
       "      <th>1</th>\n",
       "      <td>12.429216</td>\n",
       "    </tr>\n",
       "    <tr>\n",
       "      <th>2</th>\n",
       "      <td>14.508658</td>\n",
       "    </tr>\n",
       "    <tr>\n",
       "      <th>3</th>\n",
       "      <td>12.676076</td>\n",
       "    </tr>\n",
       "    <tr>\n",
       "      <th>4</th>\n",
       "      <td>13.171154</td>\n",
       "    </tr>\n",
       "  </tbody>\n",
       "</table>\n",
       "</div>"
      ],
      "text/plain": [
       "   pendapatan\n",
       "0   12.611538\n",
       "1   12.429216\n",
       "2   14.508658\n",
       "3   12.676076\n",
       "4   13.171154"
      ]
     },
     "execution_count": 18,
     "metadata": {},
     "output_type": "execute_result"
    }
   ],
   "source": [
    "datalog.head()"
   ]
  },
  {
   "cell_type": "code",
   "execution_count": 19,
   "metadata": {},
   "outputs": [
    {
     "name": "stdout",
     "output_type": "stream",
     "text": [
      "    Lower Bin Edge  Upper Bin Edge  Frequency\n",
      "0        12.206073       12.598572          3\n",
      "1        12.598572       12.991070          4\n",
      "2        12.991070       13.383569          7\n",
      "3        13.383569       13.776068          2\n",
      "4        13.776068       14.168567          0\n",
      "5        14.168567       14.561066          1\n",
      "6        14.561066       14.953565          1\n",
      "7        14.953565       15.346064          0\n",
      "8        15.346064       15.738563          0\n",
      "9        15.738563       16.131062          1\n",
      "10       16.131062       16.523561          1\n"
     ]
    }
   ],
   "source": [
    "size=len(data)\n",
    "bins=round(1+(3.3*(math.log(size))))\n",
    "hist, bin_edges = np.histogram(datalog, bins=bins)\n",
    "# Create a DataFrame from the histogram data\n",
    "df = pd.DataFrame({'Lower Bin Edge': bin_edges[:-1], 'Upper Bin Edge': bin_edges[1:], 'Frequency': hist})\n",
    "print(df)"
   ]
  },
  {
   "cell_type": "code",
   "execution_count": 9,
   "metadata": {},
   "outputs": [],
   "source": [
    "#ukuran pemusatan\n",
    "data_mean=np.mean(data['pendapatan'])\n",
    "data_median=np.median(data['pendapatan'])\n",
    "data_mode=statistics.mode(data['pendapatan'])\n",
    "q1=stats.scoreatpercentile(data['pendapatan'], 25)\n",
    "q2=stats.scoreatpercentile(data['pendapatan'], 50)\n",
    "q3=stats.scoreatpercentile(data['pendapatan'], 75)\n",
    "\n",
    "#ukuran pesebaran\n",
    "range=max(data['pendapatan'])-min(data['pendapatan'])\n",
    "varians=np.var(data['pendapatan'])\n",
    "std_dev=np.std(data['pendapatan'])\n",
    "koefisien_varians=(std_dev/data_mean)*100"
   ]
  },
  {
   "cell_type": "code",
   "execution_count": 11,
   "metadata": {},
   "outputs": [
    {
     "name": "stdout",
     "output_type": "stream",
     "text": [
      "\n",
      "berikut ukuran pemusatan dari data\n",
      "mean = 1818000.0\n",
      "median = 512500.0\n",
      "modus = 450000\n",
      "quartile 1 = 318750.0\n",
      "quartile 2 = 512500.0\n",
      "quartile 3 = 662500.0\n",
      "\n",
      "berikut ukuran pemusatan dari data\n",
      "range = 14800000\n",
      "varians = 13593423500000.0\n",
      "standar deviasi = 3686926.023125498\n",
      "koefisien varians = 202.80%\n"
     ]
    }
   ],
   "source": [
    "print(\"\\nberikut ukuran pemusatan dari data\")\n",
    "print(f'mean = {data_mean}')\n",
    "print(f'median = {data_median}')\n",
    "print(f'modus = {data_mode}')\n",
    "print(f'quartile 1 = {q1}')\n",
    "print(f'quartile 2 = {q2}')\n",
    "print(f'quartile 3 = {q3}')\n",
    "\n",
    "print(\"\\nberikut ukuran pemusatan dari data\")\n",
    "print(f'range = {range}')\n",
    "print(f'varians = {varians}')\n",
    "print(f'standar deviasi = {std_dev}')\n",
    "print(f'koefisien varians = {koefisien_varians:.2f}%')"
   ]
  },
  {
   "cell_type": "code",
   "execution_count": 16,
   "metadata": {},
   "outputs": [
    {
     "data": {
      "image/png": "[encoded data removed]",
      "text/plain": [
       "<Figure size 640x480 with 1 Axes>"
      ]
     },
     "metadata": {},
     "output_type": "display_data"
    }
   ],
   "source": [
    "sns.histplot(data=data, bins=bins, kde=True)\n",
    "plt.axvline(x=data_mean, color='red', linestyle='--', label='mean', linewidth=2)\n",
    "plt.axvline(x=data_median, color='blue', linestyle='dashdot', label='median', linewidth=2)\n",
    "plt.axvline(x=q1, color='black', linestyle='dashdot', label='q1', linewidth=2)\n",
    "plt.axvline(x=q3, color='orange', linestyle='dashdot', label='q3', linewidth=2)\n",
    "plt.legend()\n",
    "plt.show()"
   ]
  },
  {
   "cell_type": "code",
   "execution_count": 20,
   "metadata": {},
   "outputs": [],
   "source": [
    "#ukuran pemusatan\n",
    "data_mean=np.mean(datalog['pendapatan'])\n",
    "data_median=np.median(datalog['pendapatan'])\n",
    "data_mode=statistics.mode(datalog['pendapatan'])\n",
    "q1=stats.scoreatpercentile(datalog['pendapatan'], 25)\n",
    "q2=stats.scoreatpercentile(datalog['pendapatan'], 50)\n",
    "q3=stats.scoreatpercentile(datalog['pendapatan'], 75)\n",
    "\n",
    "#ukuran pesebaran\n",
    "range=max(datalog['pendapatan'])-min(datalog['pendapatan'])\n",
    "varians=np.var(datalog['pendapatan'])\n",
    "std_dev=np.std(datalog['pendapatan'])\n",
    "koefisien_varians=(std_dev/data_mean)*100"
   ]
  },
  {
   "cell_type": "code",
   "execution_count": 21,
   "metadata": {},
   "outputs": [
    {
     "name": "stdout",
     "output_type": "stream",
     "text": [
      "\n",
      "berikut ukuran pemusatan dari data\n",
      "mean = 13.42835862560733\n",
      "median = 13.146758459489044\n",
      "modus = 13.017002861746503\n",
      "quartile 1 = 12.672139185533874\n",
      "quartile 2 = 13.146758459489044\n",
      "quartile 3 = 13.403254634910251\n",
      "\n",
      "berikut ukuran pemusatan dari data\n",
      "range = 4.31748811353631\n",
      "varians = 1.2983329967929849\n",
      "standar deviasi = 1.1394441613317368\n",
      "koefisien varians = 8.49%\n"
     ]
    }
   ],
   "source": [
    "print(\"\\nberikut ukuran pemusatan dari data\")\n",
    "print(f'mean = {data_mean}')\n",
    "print(f'median = {data_median}')\n",
    "print(f'modus = {data_mode}')\n",
    "print(f'quartile 1 = {q1}')\n",
    "print(f'quartile 2 = {q2}')\n",
    "print(f'quartile 3 = {q3}')\n",
    "\n",
    "print(\"\\nberikut ukuran pemusatan dari data\")\n",
    "print(f'range = {range}')\n",
    "print(f'varians = {varians}')\n",
    "print(f'standar deviasi = {std_dev}')\n",
    "print(f'koefisien varians = {koefisien_varians:.2f}%')"
   ]
  },
  {
   "cell_type": "code",
   "execution_count": 34,
   "metadata": {},
   "outputs": [
    {
     "data": {
      "image/png": "[encoded data removed]",
      "text/plain": [
       "<Figure size 640x480 with 1 Axes>"
      ]
     },
     "metadata": {},
     "output_type": "display_data"
    }
   ],
   "source": [
    "sns.histplot(data=datalog, bins=bins, kde=True)\n",
    "plt.axvline(x=data_mean, color='red', linestyle='--', label='mean', linewidth=2)\n",
    "plt.axvline(x=data_median, color='blue', linestyle='dashdot', label='median', linewidth=2)\n",
    "plt.axvline(x=data_mode, color='green', linestyle='dashdot', label='mode', linewidth=2)\n",
    "plt.axvline(x=q1, color='black', linestyle='dashdot', label='q1', linewidth=2)\n",
    "plt.axvline(x=q3, color='orange', linestyle='dashdot', label='q3', linewidth=2)\n",
    "\n",
    "# Add value labels\n",
    "plt.text(data_mean, 2, f'{data_mean:.2f}', color='red', ha='center', va='top')\n",
    "plt.text(data_median, 0.5, f'{data_median:.2f}', color='blue', ha='center', va='top')\n",
    "plt.text(data_mode, 0.004, f'{data_mode:.2f}', color='green', ha='center', va='top')\n",
    "plt.text(q1, -0.0002, f'{q1:.2f}', color='black', ha='center', va='top')\n",
    "plt.text(q3, 1, f'{q3:.2f}', color='orange', ha='center', va='top')\n",
    "\n",
    "plt.legend()\n",
    "plt.show()"
   ]
  },
  {
   "cell_type": "code",
   "execution_count": 3,
   "metadata": {},
   "outputs": [],
   "source": [
    "import numpy as np"
   ]
  },
  {
   "cell_type": "code",
   "execution_count": 4,
   "metadata": {},
   "outputs": [
    {
     "data": {
      "text/plain": [
       "-1.2514340816495844"
      ]
     },
     "execution_count": 4,
     "metadata": {},
     "output_type": "execute_result"
    }
   ],
   "source": [
    "(194.8 - 200)/(13.14/np.sqrt(10))"
   ]
  },
  {
   "cell_type": "code",
   "execution_count": 19,
   "metadata": {},
   "outputs": [],
   "source": [
    "x=[2.7, 4.3, 3.3, 2.4, 2.7, 4.6, 4.3, 3.7, 4.2, 2.9, \n",
    "       1.2, 1.5, 2.3, 1.8, 3.9, 4.4, 4.1, 5.3, 5.5, 4,\n",
    "       2.5, 2.2, 2.3, 4.6, 3.1, 3.7, 5.3, 5.8, 4.9, 3.8,\n",
    "       1.1, 3.4, 4, 2.2, 4.2, 3.9, 4.9, 4.6, 4.2, 4.1,\n",
    "       2.5, 4.3, 2.5, 4, 5.5, 5.9, 4.5, 2.1, 2.2, 2,\n",
    "       1.1, 2.2, 3.3, 4.4, 5.5, 5.6, 5.8, 5.9, 5.1, 5]"
   ]
  },
  {
   "cell_type": "code",
   "execution_count": 20,
   "metadata": {},
   "outputs": [
    {
     "name": "stdout",
     "output_type": "stream",
     "text": [
      "<class 'float'>\n",
      "<class 'float'>\n",
      "<class 'float'>\n",
      "<class 'float'>\n",
      "<class 'float'>\n",
      "<class 'float'>\n",
      "<class 'float'>\n",
      "<class 'float'>\n",
      "<class 'float'>\n",
      "<class 'float'>\n",
      "<class 'float'>\n",
      "<class 'float'>\n",
      "<class 'float'>\n",
      "<class 'float'>\n",
      "<class 'float'>\n",
      "<class 'float'>\n",
      "<class 'float'>\n",
      "<class 'float'>\n",
      "<class 'float'>\n",
      "<class 'int'>\n",
      "<class 'float'>\n",
      "<class 'float'>\n",
      "<class 'float'>\n",
      "<class 'float'>\n",
      "<class 'float'>\n",
      "<class 'float'>\n",
      "<class 'float'>\n",
      "<class 'float'>\n",
      "<class 'float'>\n",
      "<class 'float'>\n",
      "<class 'float'>\n",
      "<class 'float'>\n",
      "<class 'int'>\n",
      "<class 'float'>\n",
      "<class 'float'>\n",
      "<class 'float'>\n",
      "<class 'float'>\n",
      "<class 'float'>\n",
      "<class 'float'>\n",
      "<class 'float'>\n",
      "<class 'float'>\n",
      "<class 'float'>\n",
      "<class 'float'>\n",
      "<class 'int'>\n",
      "<class 'float'>\n",
      "<class 'float'>\n",
      "<class 'float'>\n",
      "<class 'float'>\n",
      "<class 'float'>\n",
      "<class 'int'>\n",
      "<class 'float'>\n",
      "<class 'float'>\n",
      "<class 'float'>\n",
      "<class 'float'>\n",
      "<class 'float'>\n",
      "<class 'float'>\n",
      "<class 'float'>\n",
      "<class 'float'>\n",
      "<class 'float'>\n",
      "<class 'int'>\n"
     ]
    }
   ],
   "source": [
    "for item in x:\n",
    "    print(type(item))"
   ]
  },
  {
   "cell_type": "code",
   "execution_count": 21,
   "metadata": {},
   "outputs": [],
   "source": [
    "x_array=np.array(x)"
   ]
  },
  {
   "cell_type": "code",
   "execution_count": 22,
   "metadata": {},
   "outputs": [
    {
     "data": {
      "text/plain": [
       "array([2.7, 4.3, 3.3, 2.4, 2.7, 4.6, 4.3, 3.7, 4.2, 2.9, 1.2, 1.5, 2.3,\n",
       "       1.8, 3.9, 4.4, 4.1, 5.3, 5.5, 4. , 2.5, 2.2, 2.3, 4.6, 3.1, 3.7,\n",
       "       5.3, 5.8, 4.9, 3.8, 1.1, 3.4, 4. , 2.2, 4.2, 3.9, 4.9, 4.6, 4.2,\n",
       "       4.1, 2.5, 4.3, 2.5, 4. , 5.5, 5.9, 4.5, 2.1, 2.2, 2. , 1.1, 2.2,\n",
       "       3.3, 4.4, 5.5, 5.6, 5.8, 5.9, 5.1, 5. ])"
      ]
     },
     "execution_count": 22,
     "metadata": {},
     "output_type": "execute_result"
    }
   ],
   "source": [
    "x_array"
   ]
  },
  {
   "cell_type": "code",
   "execution_count": 23,
   "metadata": {},
   "outputs": [
    {
     "data": {
      "text/plain": [
       "223.29999999999998"
      ]
     },
     "execution_count": 23,
     "metadata": {},
     "output_type": "execute_result"
    }
   ],
   "source": [
    "sum(x)"
   ]
  },
  {
   "cell_type": "code",
   "execution_count": 24,
   "metadata": {},
   "outputs": [
    {
     "data": {
      "text/plain": [
       "3.7216666666666667"
      ]
     },
     "execution_count": 24,
     "metadata": {},
     "output_type": "execute_result"
    }
   ],
   "source": [
    "np.mean(x)"
   ]
  },
  {
   "cell_type": "code",
   "execution_count": 29,
   "metadata": {},
   "outputs": [],
   "source": [
    "a = np.std(x)"
   ]
  },
  {
   "cell_type": "code",
   "execution_count": 30,
   "metadata": {},
   "outputs": [],
   "source": [
    "b=a/np.sqrt(60)"
   ]
  },
  {
   "cell_type": "code",
   "execution_count": 31,
   "metadata": {},
   "outputs": [
    {
     "data": {
      "text/plain": [
       "0.17161150677987552"
      ]
     },
     "execution_count": 31,
     "metadata": {},
     "output_type": "execute_result"
    }
   ],
   "source": [
    "b"
   ]
  },
  {
   "cell_type": "code",
   "execution_count": 32,
   "metadata": {},
   "outputs": [
    {
     "data": {
      "text/plain": [
       "4.285714285714286"
      ]
     },
     "execution_count": 32,
     "metadata": {},
     "output_type": "execute_result"
    }
   ],
   "source": [
    "(83-80)/(7/np.sqrt(100))"
   ]
  },
  {
   "cell_type": "code",
   "execution_count": 33,
   "metadata": {},
   "outputs": [
    {
     "data": {
      "text/plain": [
       "0.7"
      ]
     },
     "execution_count": 33,
     "metadata": {},
     "output_type": "execute_result"
    }
   ],
   "source": [
    "(7/np.sqrt(100))"
   ]
  },
  {
   "cell_type": "code",
   "execution_count": 34,
   "metadata": {},
   "outputs": [
    {
     "data": {
      "text/plain": [
       "4.285714285714286"
      ]
     },
     "execution_count": 34,
     "metadata": {},
     "output_type": "execute_result"
    }
   ],
   "source": [
    "3/0.7"
   ]
  },
  {
   "cell_type": "code",
   "execution_count": 35,
   "metadata": {},
   "outputs": [],
   "source": [
    "a=[7,6,8,10,5,7,3]\n"
   ]
  },
  {
   "cell_type": "code",
   "execution_count": 37,
   "metadata": {},
   "outputs": [],
   "source": [
    "b=[4,3,2,6,12,10,6]\n"
   ]
  },
  {
   "cell_type": "code",
   "execution_count": 40,
   "metadata": {},
   "outputs": [
    {
     "data": {
      "text/plain": [
       "7"
      ]
     },
     "execution_count": 40,
     "metadata": {},
     "output_type": "execute_result"
    }
   ],
   "source": [
    "len(a)"
   ]
  },
  {
   "cell_type": "code",
   "execution_count": 42,
   "metadata": {},
   "outputs": [],
   "source": [
    "s1=np.std(a)"
   ]
  },
  {
   "cell_type": "code",
   "execution_count": 41,
   "metadata": {},
   "outputs": [],
   "source": [
    "s2=np.std(b)"
   ]
  },
  {
   "cell_type": "code",
   "execution_count": 43,
   "metadata": {},
   "outputs": [],
   "source": [
    "sp=((s1**2)*(len(a)-1))-((s2**2)*(len(b)-1))/(len(a)+len(b)-2)"
   ]
  },
  {
   "cell_type": "code",
   "execution_count": 44,
   "metadata": {},
   "outputs": [
    {
     "data": {
      "text/plain": [
       "19.693877551020417"
      ]
     },
     "execution_count": 44,
     "metadata": {},
     "output_type": "execute_result"
    }
   ],
   "source": [
    "sp"
   ]
  },
  {
   "cell_type": "code",
   "execution_count": 45,
   "metadata": {},
   "outputs": [],
   "source": [
    "u1=np.mean(a)"
   ]
  },
  {
   "cell_type": "code",
   "execution_count": 46,
   "metadata": {},
   "outputs": [
    {
     "data": {
      "text/plain": [
       "6.571428571428571"
      ]
     },
     "execution_count": 46,
     "metadata": {},
     "output_type": "execute_result"
    }
   ],
   "source": [
    "u1"
   ]
  },
  {
   "cell_type": "code",
   "execution_count": 47,
   "metadata": {},
   "outputs": [],
   "source": [
    "u2=np.mean(b)"
   ]
  },
  {
   "cell_type": "code",
   "execution_count": 48,
   "metadata": {},
   "outputs": [
    {
     "data": {
      "text/plain": [
       "6.142857142857143"
      ]
     },
     "execution_count": 48,
     "metadata": {},
     "output_type": "execute_result"
    }
   ],
   "source": [
    "u2"
   ]
  },
  {
   "cell_type": "code",
   "execution_count": 55,
   "metadata": {},
   "outputs": [],
   "source": [
    "t=(u1-u2)/(sp*(np.sqrt(((s1**2)/len(a))+((s2**2)/len(b)))))"
   ]
  },
  {
   "cell_type": "code",
   "execution_count": 56,
   "metadata": {},
   "outputs": [
    {
     "data": {
      "text/plain": [
       "0.014486669795707395"
      ]
     },
     "execution_count": 56,
     "metadata": {},
     "output_type": "execute_result"
    }
   ],
   "source": [
    "t"
   ]
  },
  {
   "cell_type": "code",
   "execution_count": 63,
   "metadata": {},
   "outputs": [],
   "source": [
    "d=((s1**2)/len(a))+((s2**2)/len(b))"
   ]
  },
  {
   "cell_type": "code",
   "execution_count": 64,
   "metadata": {},
   "outputs": [],
   "source": [
    "f1=(((s1**2)/len(a))**2)/6"
   ]
  },
  {
   "cell_type": "code",
   "execution_count": 65,
   "metadata": {},
   "outputs": [],
   "source": [
    "f2=(((s2**2)/len(b))**2)/6"
   ]
  },
  {
   "cell_type": "code",
   "execution_count": 66,
   "metadata": {},
   "outputs": [],
   "source": [
    "v=(d**2)/(f1+f2)"
   ]
  },
  {
   "cell_type": "code",
   "execution_count": 67,
   "metadata": {},
   "outputs": [
    {
     "data": {
      "text/plain": [
       "9.885198833947529"
      ]
     },
     "execution_count": 67,
     "metadata": {},
     "output_type": "execute_result"
    }
   ],
   "source": [
    "v"
   ]
  },
  {
   "cell_type": "code",
   "execution_count": 1,
   "metadata": {},
   "outputs": [],
   "source": [
    "def soal(x):\n",
    "    y=(1/4)*(x**4)-(2/3)*(x**3)-(1/2)*(x**2)+(2*x)-1\n",
    "    return y"
   ]
  },
  {
   "cell_type": "code",
   "execution_count": 38,
   "metadata": {},
   "outputs": [],
   "source": [
    "def tur(x):\n",
    "    y=(x**3)-((2)*(x**2))-x+2\n",
    "    return y"
   ]
  },
  {
   "cell_type": "code",
   "execution_count": 33,
   "metadata": {},
   "outputs": [],
   "source": [
    "import numpy as np"
   ]
  },
  {
   "cell_type": "code",
   "execution_count": 36,
   "metadata": {},
   "outputs": [],
   "source": [
    "f=[]\n",
    "x=np.arange(-2, 4, 0.1).tolist()\n",
    "for i in x:\n",
    "    f.append(soal(i))"
   ]
  },
  {
   "cell_type": "code",
   "execution_count": 37,
   "metadata": {},
   "outputs": [
    {
     "data": {
      "text/plain": [
       "<Axes: >"
      ]
     },
     "execution_count": 37,
     "metadata": {},
     "output_type": "execute_result"
    },
    {
     "data": {
      "image/png": "[encoded data removed]",
      "text/plain": [
       "<Figure size 640x480 with 1 Axes>"
      ]
     },
     "metadata": {},
     "output_type": "display_data"
    }
   ],
   "source": [
    "import seaborn as sns\n",
    "\n",
    "sns.lineplot(x=x, y=f)"
   ]
  },
  {
   "cell_type": "code",
   "execution_count": 43,
   "metadata": {},
   "outputs": [
    {
     "data": {
      "text/plain": [
       "2"
      ]
     },
     "execution_count": 43,
     "metadata": {},
     "output_type": "execute_result"
    }
   ],
   "source": [
    "tur(0)"
   ]
  },
  {
   "cell_type": "code",
   "execution_count": 44,
   "metadata": {},
   "outputs": [],
   "source": [
    "def tur2(x):\n",
    "    y=(3*(x**2))-((4)*(x))-1\n",
    "    return y"
   ]
  },
  {
   "cell_type": "code",
   "execution_count": 46,
   "metadata": {},
   "outputs": [
    {
     "data": {
      "text/plain": [
       "-0.21525043702153024"
      ]
     },
     "execution_count": 46,
     "metadata": {},
     "output_type": "execute_result"
    }
   ],
   "source": [
    "(4-np.sqrt(28))/6"
   ]
  },
  {
   "cell_type": "code",
   "execution_count": 48,
   "metadata": {},
   "outputs": [
    {
     "data": {
      "text/plain": [
       "0"
      ]
     },
     "execution_count": 48,
     "metadata": {},
     "output_type": "execute_result"
    }
   ],
   "source": [
    "round(tur2(-0.21525043702153024))"
   ]
  },
  {
   "cell_type": "code",
   "execution_count": 55,
   "metadata": {},
   "outputs": [
    {
     "data": {
      "text/plain": [
       "3"
      ]
     },
     "execution_count": 55,
     "metadata": {},
     "output_type": "execute_result"
    }
   ],
   "source": [
    "tur2(2)"
   ]
  },
  {
   "cell_type": "code",
   "execution_count": 56,
   "metadata": {},
   "outputs": [],
   "source": [
    "def soal1(x):\n",
    "    y=((x**2)-x-2)/(x-1)\n",
    "    return y"
   ]
  },
  {
   "cell_type": "code",
   "execution_count": 59,
   "metadata": {},
   "outputs": [],
   "source": [
    "f=[]\n",
    "x=[-3,-2,-1,0,0.1,0.2,0.3,0.4,0.5,0.6,1.9,1.8,1.7,1.6,1.5,1.4,2,3,4,5,6,7,8]\n",
    "for i in x:\n",
    "    f.append(soal1(i))"
   ]
  },
  {
   "cell_type": "code",
   "execution_count": 60,
   "metadata": {},
   "outputs": [
    {
     "data": {
      "text/plain": [
       "<Axes: >"
      ]
     },
     "execution_count": 60,
     "metadata": {},
     "output_type": "execute_result"
    },
    {
     "data": {
      "image/png": "[encoded data removed]",
      "text/plain": [
       "<Figure size 640x480 with 1 Axes>"
      ]
     },
     "metadata": {},
     "output_type": "display_data"
    }
   ],
   "source": [
    "import seaborn as sns\n",
    "\n",
    "sns.lineplot(x=x, y=f)"
   ]
  },
  {
   "cell_type": "code",
   "execution_count": 61,
   "metadata": {},
   "outputs": [],
   "source": [
    "def soal3(x):\n",
    "    y=(x**2)+1\n",
    "    return y"
   ]
  },
  {
   "cell_type": "code",
   "execution_count": 66,
   "metadata": {},
   "outputs": [],
   "source": [
    "f=[]\n",
    "x=np.arange(-4, 4, 0.1).tolist()\n",
    "for i in x:\n",
    "    f.append(soal3(i))"
   ]
  },
  {
   "cell_type": "code",
   "execution_count": 67,
   "metadata": {},
   "outputs": [
    {
     "data": {
      "text/plain": [
       "<Axes: >"
      ]
     },
     "execution_count": 67,
     "metadata": {},
     "output_type": "execute_result"
    },
    {
     "data": {
      "image/png": "[encoded data removed]",
      "text/plain": [
       "<Figure size 640x480 with 1 Axes>"
      ]
     },
     "metadata": {},
     "output_type": "display_data"
    }
   ],
   "source": [
    "sns.lineplot(x=x, y=f)"
   ]
  },
  {
   "cell_type": "code",
   "execution_count": 68,
   "metadata": {},
   "outputs": [],
   "source": [
    "def soal4(x):\n",
    "    y=(x**3)-((180)*(x**2))+(8100*x)\n",
    "    return y"
   ]
  },
  {
   "cell_type": "code",
   "execution_count": 73,
   "metadata": {},
   "outputs": [],
   "source": [
    "f=[]\n",
    "x=np.arange(0, 150, 10).tolist()\n",
    "for i in x:\n",
    "    f.append(soal4(i))"
   ]
  },
  {
   "cell_type": "code",
   "execution_count": 74,
   "metadata": {},
   "outputs": [
    {
     "data": {
      "text/plain": [
       "<Axes: >"
      ]
     },
     "execution_count": 74,
     "metadata": {},
     "output_type": "execute_result"
    },
    {
     "data": {
      "image/png": "[encoded data removed]",
      "text/plain": [
       "<Figure size 640x480 with 1 Axes>"
      ]
     },
     "metadata": {},
     "output_type": "display_data"
    }
   ],
   "source": [
    "sns.lineplot(x=x, y=f)"
   ]
  },
  {
   "cell_type": "code",
   "execution_count": 75,
   "metadata": {},
   "outputs": [
    {
     "data": {
      "text/plain": [
       "108000"
      ]
     },
     "execution_count": 75,
     "metadata": {},
     "output_type": "execute_result"
    }
   ],
   "source": [
    "soal4(30)"
   ]
  }
 ],
 "metadata": {
  "kernelspec": {
   "display_name": "myenv",
   "language": "python",
   "name": "python3"
  },
  "language_info": {
   "codemirror_mode": {
    "name": "ipython",
    "version": 3
   },
   "file_extension": ".py",
   "mimetype": "text/x-python",
   "name": "python",
   "nbconvert_exporter": "python",
   "pygments_lexer": "ipython3",
   "version": "3.11.1"
  }
 },
 "nbformat": 4,
 "nbformat_minor": 2
}
