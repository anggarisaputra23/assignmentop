{
 "cells": [
  {
   "cell_type": "code",
   "execution_count": 1,
   "id": "8e61de5e",
   "metadata": {},
   "outputs": [],
   "source": [
    "# Importing libraries for data preparation and visualization\n",
    "import numpy as np\n",
    "import pandas as pd\n",
    "import matplotlib.pyplot as plt\n",
    "import seaborn as sns"
   ]
  },
  {
   "cell_type": "code",
   "execution_count": 59,
   "id": "47aed3fe",
   "metadata": {},
   "outputs": [
    {
     "data": {
      "application/vnd.microsoft.datawrangler.viewer.v0+json": {
       "columns": [
        {
         "name": "index",
         "rawType": "int64",
         "type": "integer"
        },
        {
         "name": "fitur 1",
         "rawType": "int64",
         "type": "integer"
        },
        {
         "name": "fitur 2",
         "rawType": "int64",
         "type": "integer"
        }
       ],
       "conversionMethod": "pd.DataFrame",
       "ref": "cad13ac5-10bb-4053-9abe-d5c9fb54ce9c",
       "rows": [
        [
         "0",
         "1",
         "6"
        ],
        [
         "1",
         "2",
         "2"
        ],
        [
         "2",
         "5",
         "1"
        ],
        [
         "3",
         "4",
         "3"
        ],
        [
         "4",
         "7",
         "5"
        ],
        [
         "5",
         "8",
         "9"
        ]
       ],
       "shape": {
        "columns": 2,
        "rows": 6
       }
      },
      "text/html": [
       "<div>\n",
       "<style scoped>\n",
       "    .dataframe tbody tr th:only-of-type {\n",
       "        vertical-align: middle;\n",
       "    }\n",
       "\n",
       "    .dataframe tbody tr th {\n",
       "        vertical-align: top;\n",
       "    }\n",
       "\n",
       "    .dataframe thead th {\n",
       "        text-align: right;\n",
       "    }\n",
       "</style>\n",
       "<table border=\"1\" class=\"dataframe\">\n",
       "  <thead>\n",
       "    <tr style=\"text-align: right;\">\n",
       "      <th></th>\n",
       "      <th>fitur 1</th>\n",
       "      <th>fitur 2</th>\n",
       "    </tr>\n",
       "  </thead>\n",
       "  <tbody>\n",
       "    <tr>\n",
       "      <th>0</th>\n",
       "      <td>1</td>\n",
       "      <td>6</td>\n",
       "    </tr>\n",
       "    <tr>\n",
       "      <th>1</th>\n",
       "      <td>2</td>\n",
       "      <td>2</td>\n",
       "    </tr>\n",
       "    <tr>\n",
       "      <th>2</th>\n",
       "      <td>5</td>\n",
       "      <td>1</td>\n",
       "    </tr>\n",
       "    <tr>\n",
       "      <th>3</th>\n",
       "      <td>4</td>\n",
       "      <td>3</td>\n",
       "    </tr>\n",
       "    <tr>\n",
       "      <th>4</th>\n",
       "      <td>7</td>\n",
       "      <td>5</td>\n",
       "    </tr>\n",
       "    <tr>\n",
       "      <th>5</th>\n",
       "      <td>8</td>\n",
       "      <td>9</td>\n",
       "    </tr>\n",
       "  </tbody>\n",
       "</table>\n",
       "</div>"
      ],
      "text/plain": [
       "   fitur 1  fitur 2\n",
       "0        1        6\n",
       "1        2        2\n",
       "2        5        1\n",
       "3        4        3\n",
       "4        7        5\n",
       "5        8        9"
      ]
     },
     "execution_count": 59,
     "metadata": {},
     "output_type": "execute_result"
    }
   ],
   "source": [
    "data = {\n",
    "    'fitur 1': [1,2,5,4,7,8],\n",
    "    'fitur 2': [6,2,1,3,5,9]}\n",
    "df=pd.DataFrame(data)\n",
    "df"
   ]
  },
  {
   "cell_type": "code",
   "execution_count": 60,
   "id": "7a7e8aa3",
   "metadata": {},
   "outputs": [
    {
     "data": {
      "text/plain": [
       "<Axes: >"
      ]
     },
     "execution_count": 60,
     "metadata": {},
     "output_type": "execute_result"
    },
    {
     "data": {
      "image/png": "[encoded data removed]",
      "text/plain": [
       "<Figure size 1500x500 with 2 Axes>"
      ]
     },
     "metadata": {},
     "output_type": "display_data"
    }
   ],
   "source": [
    "fig, axs= plt.subplots(1,2, figsize=(15,5))\n",
    "sns.boxplot(data=df, ax=axs[0])\n",
    "sns.scatterplot(data=df, ax=axs[1])"
   ]
  },
  {
   "cell_type": "markdown",
   "id": "a15fe653",
   "metadata": {},
   "source": [
    "# NORMALISASI 1"
   ]
  },
  {
   "cell_type": "code",
   "execution_count": 79,
   "id": "be6d0443",
   "metadata": {},
   "outputs": [],
   "source": [
    "df=pd.DataFrame(data)"
   ]
  },
  {
   "cell_type": "code",
   "execution_count": 80,
   "id": "fb1e8cee",
   "metadata": {},
   "outputs": [
    {
     "data": {
      "application/vnd.microsoft.datawrangler.viewer.v0+json": {
       "columns": [
        {
         "name": "index",
         "rawType": "int64",
         "type": "integer"
        },
        {
         "name": "fitur 1",
         "rawType": "int64",
         "type": "integer"
        },
        {
         "name": "fitur 2",
         "rawType": "int64",
         "type": "integer"
        },
        {
         "name": "mean fitur 1",
         "rawType": "float64",
         "type": "float"
        },
        {
         "name": "standar dev fitur 1",
         "rawType": "float64",
         "type": "float"
        },
        {
         "name": "normalisasi fitur 1",
         "rawType": "float64",
         "type": "float"
        },
        {
         "name": "mean fitur 2",
         "rawType": "float64",
         "type": "float"
        },
        {
         "name": "standar dev fitur 2",
         "rawType": "float64",
         "type": "float"
        },
        {
         "name": "normalisasi fitur 2",
         "rawType": "float64",
         "type": "float"
        }
       ],
       "conversionMethod": "pd.DataFrame",
       "ref": "65b7d0c2-f28a-43d7-adb1-2a040eb80e90",
       "rows": [
        [
         "0",
         "1",
         "6",
         "4.5",
         "2.7386127875258306",
         "-1.2780193008453875",
         "4.333333333333333",
         "2.9439202887759492",
         "0.5661385170722979"
        ],
        [
         "1",
         "2",
         "2",
         "4.5",
         "2.7386127875258306",
         "-0.9128709291752769",
         "4.333333333333333",
         "2.9439202887759492",
         "-0.7925939239012169"
        ],
        [
         "2",
         "5",
         "1",
         "4.5",
         "2.7386127875258306",
         "0.18257418583505536",
         "4.333333333333333",
         "2.9439202887759492",
         "-1.1322770341445956"
        ],
        [
         "3",
         "4",
         "3",
         "4.5",
         "2.7386127875258306",
         "-0.18257418583505536",
         "4.333333333333333",
         "2.9439202887759492",
         "-0.45291081365783814"
        ],
        [
         "4",
         "7",
         "5",
         "4.5",
         "2.7386127875258306",
         "0.9128709291752769",
         "4.333333333333333",
         "2.9439202887759492",
         "0.22645540682891924"
        ],
        [
         "5",
         "8",
         "9",
         "4.5",
         "2.7386127875258306",
         "1.2780193008453875",
         "4.333333333333333",
         "2.9439202887759492",
         "1.585187847802434"
        ]
       ],
       "shape": {
        "columns": 8,
        "rows": 6
       }
      },
      "text/html": [
       "<div>\n",
       "<style scoped>\n",
       "    .dataframe tbody tr th:only-of-type {\n",
       "        vertical-align: middle;\n",
       "    }\n",
       "\n",
       "    .dataframe tbody tr th {\n",
       "        vertical-align: top;\n",
       "    }\n",
       "\n",
       "    .dataframe thead th {\n",
       "        text-align: right;\n",
       "    }\n",
       "</style>\n",
       "<table border=\"1\" class=\"dataframe\">\n",
       "  <thead>\n",
       "    <tr style=\"text-align: right;\">\n",
       "      <th></th>\n",
       "      <th>fitur 1</th>\n",
       "      <th>fitur 2</th>\n",
       "      <th>mean fitur 1</th>\n",
       "      <th>standar dev fitur 1</th>\n",
       "      <th>normalisasi fitur 1</th>\n",
       "      <th>mean fitur 2</th>\n",
       "      <th>standar dev fitur 2</th>\n",
       "      <th>normalisasi fitur 2</th>\n",
       "    </tr>\n",
       "  </thead>\n",
       "  <tbody>\n",
       "    <tr>\n",
       "      <th>0</th>\n",
       "      <td>1</td>\n",
       "      <td>6</td>\n",
       "      <td>4.5</td>\n",
       "      <td>2.738613</td>\n",
       "      <td>-1.278019</td>\n",
       "      <td>4.333333</td>\n",
       "      <td>2.94392</td>\n",
       "      <td>0.566139</td>\n",
       "    </tr>\n",
       "    <tr>\n",
       "      <th>1</th>\n",
       "      <td>2</td>\n",
       "      <td>2</td>\n",
       "      <td>4.5</td>\n",
       "      <td>2.738613</td>\n",
       "      <td>-0.912871</td>\n",
       "      <td>4.333333</td>\n",
       "      <td>2.94392</td>\n",
       "      <td>-0.792594</td>\n",
       "    </tr>\n",
       "    <tr>\n",
       "      <th>2</th>\n",
       "      <td>5</td>\n",
       "      <td>1</td>\n",
       "      <td>4.5</td>\n",
       "      <td>2.738613</td>\n",
       "      <td>0.182574</td>\n",
       "      <td>4.333333</td>\n",
       "      <td>2.94392</td>\n",
       "      <td>-1.132277</td>\n",
       "    </tr>\n",
       "    <tr>\n",
       "      <th>3</th>\n",
       "      <td>4</td>\n",
       "      <td>3</td>\n",
       "      <td>4.5</td>\n",
       "      <td>2.738613</td>\n",
       "      <td>-0.182574</td>\n",
       "      <td>4.333333</td>\n",
       "      <td>2.94392</td>\n",
       "      <td>-0.452911</td>\n",
       "    </tr>\n",
       "    <tr>\n",
       "      <th>4</th>\n",
       "      <td>7</td>\n",
       "      <td>5</td>\n",
       "      <td>4.5</td>\n",
       "      <td>2.738613</td>\n",
       "      <td>0.912871</td>\n",
       "      <td>4.333333</td>\n",
       "      <td>2.94392</td>\n",
       "      <td>0.226455</td>\n",
       "    </tr>\n",
       "    <tr>\n",
       "      <th>5</th>\n",
       "      <td>8</td>\n",
       "      <td>9</td>\n",
       "      <td>4.5</td>\n",
       "      <td>2.738613</td>\n",
       "      <td>1.278019</td>\n",
       "      <td>4.333333</td>\n",
       "      <td>2.94392</td>\n",
       "      <td>1.585188</td>\n",
       "    </tr>\n",
       "  </tbody>\n",
       "</table>\n",
       "</div>"
      ],
      "text/plain": [
       "   fitur 1  fitur 2  mean fitur 1  standar dev fitur 1  normalisasi fitur 1  \\\n",
       "0        1        6           4.5             2.738613            -1.278019   \n",
       "1        2        2           4.5             2.738613            -0.912871   \n",
       "2        5        1           4.5             2.738613             0.182574   \n",
       "3        4        3           4.5             2.738613            -0.182574   \n",
       "4        7        5           4.5             2.738613             0.912871   \n",
       "5        8        9           4.5             2.738613             1.278019   \n",
       "\n",
       "   mean fitur 2  standar dev fitur 2  normalisasi fitur 2  \n",
       "0      4.333333              2.94392             0.566139  \n",
       "1      4.333333              2.94392            -0.792594  \n",
       "2      4.333333              2.94392            -1.132277  \n",
       "3      4.333333              2.94392            -0.452911  \n",
       "4      4.333333              2.94392             0.226455  \n",
       "5      4.333333              2.94392             1.585188  "
      ]
     },
     "execution_count": 80,
     "metadata": {},
     "output_type": "execute_result"
    }
   ],
   "source": [
    "def normalize(column):\n",
    "    normal_data=(column - column.mean()) /column.std(ddof=1)\n",
    "    return normal_data\n",
    "\n",
    "for col in df.columns:\n",
    "    df[f'mean {col}'] = df[col].mean()\n",
    "    df[f'standar dev {col}']= df[col].std(ddof=1)\n",
    "    df[f'normalisasi {col}'] = normalize(df[col])\n",
    "\n",
    "\n",
    "df"
   ]
  },
  {
   "cell_type": "code",
   "execution_count": 55,
   "id": "b90db1f2",
   "metadata": {},
   "outputs": [
    {
     "data": {
      "text/plain": [
       "<Axes: >"
      ]
     },
     "execution_count": 55,
     "metadata": {},
     "output_type": "execute_result"
    },
    {
     "data": {
      "image/png": "[encoded data removed]",
      "text/plain": [
       "<Figure size 1500x500 with 2 Axes>"
      ]
     },
     "metadata": {},
     "output_type": "display_data"
    }
   ],
   "source": [
    "fig, axs= plt.subplots(1,2, figsize=(15,5))\n",
    "sns.boxplot(data=df[['normalisasi fitur 1', 'normalisasi fitur 2']], ax=axs[0])\n",
    "sns.scatterplot(data=df[['normalisasi fitur 1', 'normalisasi fitur 2']], ax=axs[1])"
   ]
  },
  {
   "cell_type": "markdown",
   "id": "30c3314a",
   "metadata": {},
   "source": [
    "# NORMALISASI 2"
   ]
  },
  {
   "cell_type": "code",
   "execution_count": 70,
   "id": "dc55a1f1",
   "metadata": {},
   "outputs": [],
   "source": [
    "df=pd.DataFrame(data)"
   ]
  },
  {
   "cell_type": "code",
   "execution_count": 71,
   "id": "0ca16a2b",
   "metadata": {},
   "outputs": [
    {
     "data": {
      "application/vnd.microsoft.datawrangler.viewer.v0+json": {
       "columns": [
        {
         "name": "index",
         "rawType": "int64",
         "type": "integer"
        },
        {
         "name": "fitur 1",
         "rawType": "int64",
         "type": "integer"
        },
        {
         "name": "fitur 2",
         "rawType": "int64",
         "type": "integer"
        },
        {
         "name": "normalisasi fitur 1",
         "rawType": "float64",
         "type": "float"
        },
        {
         "name": "normalisasi fitur 2",
         "rawType": "float64",
         "type": "float"
        }
       ],
       "conversionMethod": "pd.DataFrame",
       "ref": "1b1ebd4c-ecf5-49cc-addb-c4b409aef394",
       "rows": [
        [
         "0",
         "1",
         "6",
         "0.0",
         "0.625"
        ],
        [
         "1",
         "2",
         "2",
         "0.14285714285714285",
         "0.125"
        ],
        [
         "2",
         "5",
         "1",
         "0.5714285714285714",
         "0.0"
        ],
        [
         "3",
         "4",
         "3",
         "0.42857142857142855",
         "0.25"
        ],
        [
         "4",
         "7",
         "5",
         "0.8571428571428571",
         "0.5"
        ],
        [
         "5",
         "8",
         "9",
         "1.0",
         "1.0"
        ]
       ],
       "shape": {
        "columns": 4,
        "rows": 6
       }
      },
      "text/html": [
       "<div>\n",
       "<style scoped>\n",
       "    .dataframe tbody tr th:only-of-type {\n",
       "        vertical-align: middle;\n",
       "    }\n",
       "\n",
       "    .dataframe tbody tr th {\n",
       "        vertical-align: top;\n",
       "    }\n",
       "\n",
       "    .dataframe thead th {\n",
       "        text-align: right;\n",
       "    }\n",
       "</style>\n",
       "<table border=\"1\" class=\"dataframe\">\n",
       "  <thead>\n",
       "    <tr style=\"text-align: right;\">\n",
       "      <th></th>\n",
       "      <th>fitur 1</th>\n",
       "      <th>fitur 2</th>\n",
       "      <th>normalisasi fitur 1</th>\n",
       "      <th>normalisasi fitur 2</th>\n",
       "    </tr>\n",
       "  </thead>\n",
       "  <tbody>\n",
       "    <tr>\n",
       "      <th>0</th>\n",
       "      <td>1</td>\n",
       "      <td>6</td>\n",
       "      <td>0.000000</td>\n",
       "      <td>0.625</td>\n",
       "    </tr>\n",
       "    <tr>\n",
       "      <th>1</th>\n",
       "      <td>2</td>\n",
       "      <td>2</td>\n",
       "      <td>0.142857</td>\n",
       "      <td>0.125</td>\n",
       "    </tr>\n",
       "    <tr>\n",
       "      <th>2</th>\n",
       "      <td>5</td>\n",
       "      <td>1</td>\n",
       "      <td>0.571429</td>\n",
       "      <td>0.000</td>\n",
       "    </tr>\n",
       "    <tr>\n",
       "      <th>3</th>\n",
       "      <td>4</td>\n",
       "      <td>3</td>\n",
       "      <td>0.428571</td>\n",
       "      <td>0.250</td>\n",
       "    </tr>\n",
       "    <tr>\n",
       "      <th>4</th>\n",
       "      <td>7</td>\n",
       "      <td>5</td>\n",
       "      <td>0.857143</td>\n",
       "      <td>0.500</td>\n",
       "    </tr>\n",
       "    <tr>\n",
       "      <th>5</th>\n",
       "      <td>8</td>\n",
       "      <td>9</td>\n",
       "      <td>1.000000</td>\n",
       "      <td>1.000</td>\n",
       "    </tr>\n",
       "  </tbody>\n",
       "</table>\n",
       "</div>"
      ],
      "text/plain": [
       "   fitur 1  fitur 2  normalisasi fitur 1  normalisasi fitur 2\n",
       "0        1        6             0.000000                0.625\n",
       "1        2        2             0.142857                0.125\n",
       "2        5        1             0.571429                0.000\n",
       "3        4        3             0.428571                0.250\n",
       "4        7        5             0.857143                0.500\n",
       "5        8        9             1.000000                1.000"
      ]
     },
     "execution_count": 71,
     "metadata": {},
     "output_type": "execute_result"
    }
   ],
   "source": [
    "def normalize(column):\n",
    "    normal_data=(column - column.min()) / (column.max() - column.min())\n",
    "    return normal_data\n",
    "\n",
    "for col in df.columns:\n",
    "    df[f'normalisasi {col}'] = normalize(df[col])\n",
    "\n",
    "df\n"
   ]
  },
  {
   "cell_type": "code",
   "execution_count": 72,
   "id": "71394940",
   "metadata": {},
   "outputs": [
    {
     "data": {
      "text/plain": [
       "<Axes: >"
      ]
     },
     "execution_count": 72,
     "metadata": {},
     "output_type": "execute_result"
    },
    {
     "data": {
      "image/png": "[encoded data removed]",
      "text/plain": [
       "<Figure size 1500x500 with 2 Axes>"
      ]
     },
     "metadata": {},
     "output_type": "display_data"
    }
   ],
   "source": [
    "fig, axs= plt.subplots(1,2, figsize=(15,5))\n",
    "sns.boxplot(data=df[['normalisasi fitur 1', 'normalisasi fitur 2']], ax=axs[0])\n",
    "sns.scatterplot(data=df[['normalisasi fitur 1', 'normalisasi fitur 2']], ax=axs[1])"
   ]
  },
  {
   "cell_type": "markdown",
   "id": "06f50e25",
   "metadata": {},
   "source": [
    "# Normalisasi 3"
   ]
  },
  {
   "cell_type": "code",
   "execution_count": 73,
   "id": "3bc35010",
   "metadata": {},
   "outputs": [],
   "source": [
    "df=pd.DataFrame(data)"
   ]
  },
  {
   "cell_type": "code",
   "execution_count": 74,
   "id": "6877649a",
   "metadata": {},
   "outputs": [
    {
     "data": {
      "application/vnd.microsoft.datawrangler.viewer.v0+json": {
       "columns": [
        {
         "name": "index",
         "rawType": "int64",
         "type": "integer"
        },
        {
         "name": "fitur 1",
         "rawType": "int64",
         "type": "integer"
        },
        {
         "name": "fitur 2",
         "rawType": "int64",
         "type": "integer"
        },
        {
         "name": "normalisasi fitur 1",
         "rawType": "float64",
         "type": "float"
        },
        {
         "name": "normalisasi fitur 2",
         "rawType": "float64",
         "type": "float"
        }
       ],
       "conversionMethod": "pd.DataFrame",
       "ref": "fd62f89a-db14-4bc4-b7c1-14e48e3069c3",
       "rows": [
        [
         "0",
         "1",
         "6",
         "-1.0",
         "0.25"
        ],
        [
         "1",
         "2",
         "2",
         "-0.7142857142857143",
         "-0.75"
        ],
        [
         "2",
         "5",
         "1",
         "0.14285714285714285",
         "-1.0"
        ],
        [
         "3",
         "4",
         "3",
         "-0.14285714285714285",
         "-0.5"
        ],
        [
         "4",
         "7",
         "5",
         "0.7142857142857143",
         "0.0"
        ],
        [
         "5",
         "8",
         "9",
         "1.0",
         "1.0"
        ]
       ],
       "shape": {
        "columns": 4,
        "rows": 6
       }
      },
      "text/html": [
       "<div>\n",
       "<style scoped>\n",
       "    .dataframe tbody tr th:only-of-type {\n",
       "        vertical-align: middle;\n",
       "    }\n",
       "\n",
       "    .dataframe tbody tr th {\n",
       "        vertical-align: top;\n",
       "    }\n",
       "\n",
       "    .dataframe thead th {\n",
       "        text-align: right;\n",
       "    }\n",
       "</style>\n",
       "<table border=\"1\" class=\"dataframe\">\n",
       "  <thead>\n",
       "    <tr style=\"text-align: right;\">\n",
       "      <th></th>\n",
       "      <th>fitur 1</th>\n",
       "      <th>fitur 2</th>\n",
       "      <th>normalisasi fitur 1</th>\n",
       "      <th>normalisasi fitur 2</th>\n",
       "    </tr>\n",
       "  </thead>\n",
       "  <tbody>\n",
       "    <tr>\n",
       "      <th>0</th>\n",
       "      <td>1</td>\n",
       "      <td>6</td>\n",
       "      <td>-1.000000</td>\n",
       "      <td>0.25</td>\n",
       "    </tr>\n",
       "    <tr>\n",
       "      <th>1</th>\n",
       "      <td>2</td>\n",
       "      <td>2</td>\n",
       "      <td>-0.714286</td>\n",
       "      <td>-0.75</td>\n",
       "    </tr>\n",
       "    <tr>\n",
       "      <th>2</th>\n",
       "      <td>5</td>\n",
       "      <td>1</td>\n",
       "      <td>0.142857</td>\n",
       "      <td>-1.00</td>\n",
       "    </tr>\n",
       "    <tr>\n",
       "      <th>3</th>\n",
       "      <td>4</td>\n",
       "      <td>3</td>\n",
       "      <td>-0.142857</td>\n",
       "      <td>-0.50</td>\n",
       "    </tr>\n",
       "    <tr>\n",
       "      <th>4</th>\n",
       "      <td>7</td>\n",
       "      <td>5</td>\n",
       "      <td>0.714286</td>\n",
       "      <td>0.00</td>\n",
       "    </tr>\n",
       "    <tr>\n",
       "      <th>5</th>\n",
       "      <td>8</td>\n",
       "      <td>9</td>\n",
       "      <td>1.000000</td>\n",
       "      <td>1.00</td>\n",
       "    </tr>\n",
       "  </tbody>\n",
       "</table>\n",
       "</div>"
      ],
      "text/plain": [
       "   fitur 1  fitur 2  normalisasi fitur 1  normalisasi fitur 2\n",
       "0        1        6            -1.000000                 0.25\n",
       "1        2        2            -0.714286                -0.75\n",
       "2        5        1             0.142857                -1.00\n",
       "3        4        3            -0.142857                -0.50\n",
       "4        7        5             0.714286                 0.00\n",
       "5        8        9             1.000000                 1.00"
      ]
     },
     "execution_count": 74,
     "metadata": {},
     "output_type": "execute_result"
    }
   ],
   "source": [
    "def normalize(column):\n",
    "    normal_data=(2*column - (column.max() + column.min())) / (column.max() - column.min())\n",
    "    return normal_data\n",
    "\n",
    "for col in df.columns:\n",
    "    df[f'normalisasi {col}'] = normalize(df[col])\n",
    "\n",
    "df"
   ]
  },
  {
   "cell_type": "code",
   "execution_count": 75,
   "id": "703cab61",
   "metadata": {},
   "outputs": [
    {
     "data": {
      "text/plain": [
       "<Axes: >"
      ]
     },
     "execution_count": 75,
     "metadata": {},
     "output_type": "execute_result"
    },
    {
     "data": {
      "image/png": "[encoded data removed]",
      "text/plain": [
       "<Figure size 1500x500 with 2 Axes>"
      ]
     },
     "metadata": {},
     "output_type": "display_data"
    }
   ],
   "source": [
    "fig, axs= plt.subplots(1,2, figsize=(15,5))\n",
    "sns.boxplot(data=df[['normalisasi fitur 1', 'normalisasi fitur 2']], ax=axs[0])\n",
    "sns.scatterplot(data=df[['normalisasi fitur 1', 'normalisasi fitur 2']], ax=axs[1])"
   ]
  },
  {
   "cell_type": "markdown",
   "id": "5c4b5e9b",
   "metadata": {},
   "source": [
    "# Kode tidak terpakai"
   ]
  },
  {
   "cell_type": "code",
   "execution_count": null,
   "id": "696bc6b2",
   "metadata": {},
   "outputs": [],
   "source": [
    "df=pd.DataFrame(data)"
   ]
  },
  {
   "cell_type": "code",
   "execution_count": null,
   "id": "375ef218",
   "metadata": {},
   "outputs": [],
   "source": [
    "#menghitung mean dan standar deviasi tiap fitur\n",
    "mean1 = np.mean(df['fitur 1'])\n",
    "std1 = np.std(df['fitur 1'], ddof=1)\n",
    "\n",
    "mean2 = np.mean(df['fitur 2'])\n",
    "std2 = np.std(df['fitur 2'], ddof=1)"
   ]
  },
  {
   "cell_type": "code",
   "execution_count": null,
   "id": "c4e079e6",
   "metadata": {},
   "outputs": [],
   "source": [
    "normal_fitur_1=[]\n",
    "for i in df['fitur 1']:\n",
    "    normal_data = (i-mean1)/std1\n",
    "    normal_fitur_1.append(normal_data)\n",
    "\n",
    "normal_fitur_2=[]\n",
    "for i in df['fitur 2']:\n",
    "    normal_data = (i-mean2)/std2\n",
    "    normal_fitur_2.append(normal_data)\n",
    "\n",
    "df['mean fitur 1']=mean1\n",
    "df['standar deviasi fitur 1']=std1\n",
    "df['normalisasi fitur 1']=normal_fitur_1\n",
    "\n",
    "df['mean fitur 2']=mean2\n",
    "df['standar deviasi fitur 2']=std2\n",
    "df['normalisasi fitur 2']=normal_fitur_2\n",
    "\n",
    "df"
   ]
  }
 ],
 "metadata": {
  "kernelspec": {
   "display_name": "myenv",
   "language": "python",
   "name": "python3"
  },
  "language_info": {
   "codemirror_mode": {
    "name": "ipython",
    "version": 3
   },
   "file_extension": ".py",
   "mimetype": "text/x-python",
   "name": "python",
   "nbconvert_exporter": "python",
   "pygments_lexer": "ipython3",
   "version": "3.11.1"
  }
 },
 "nbformat": 4,
 "nbformat_minor": 5
}
