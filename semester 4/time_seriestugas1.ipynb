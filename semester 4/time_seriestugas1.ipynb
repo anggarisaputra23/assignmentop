{
 "cells": [
  {
   "cell_type": "code",
   "execution_count": 8,
   "id": "36d68032",
   "metadata": {},
   "outputs": [],
   "source": [
    "from statsmodels.tsa.stattools import acf as sm_acf, pacf_yw\n",
    "from statsmodels.graphics.tsaplots import plot_acf, plot_pacf\n",
    "import pandas as pd\n",
    "import numpy as np\n",
    "import matplotlib.pyplot as plt\n",
    "import seaborn as sns"
   ]
  },
  {
   "cell_type": "markdown",
   "id": "6b79aa41",
   "metadata": {},
   "source": [
    "# SOAL 1"
   ]
  },
  {
   "cell_type": "code",
   "execution_count": 3,
   "id": "7a70d84a",
   "metadata": {},
   "outputs": [
    {
     "name": "stdout",
     "output_type": "stream",
     "text": [
      "             t  visitors\n",
      "date                    \n",
      "2024-01-07   1       820\n",
      "2024-01-14   2       890\n",
      "2024-01-21   3       870\n",
      "2024-01-28   4       950\n",
      "2024-02-04   5      1020\n",
      "2024-02-11   6       980\n",
      "2024-02-18   7      1050\n",
      "2024-02-25   8      1080\n",
      "2024-03-03   9      1150\n",
      "2024-03-10  10      1100\n",
      "2024-03-17  11      1030\n",
      "2024-03-24  12       950\n",
      "2024-03-31  13       900\n",
      "2024-04-07  14       900\n",
      "2024-04-14  15       800\n"
     ]
    }
   ],
   "source": [
    "import pandas as pd\n",
    "\n",
    "# filename: make_timeseries_dataframe.py\n",
    "\n",
    "def make_timeseries_df(start_date=\"2024-01-01\", freq=\"W\"):\n",
    "    # Data dari tabel (gunakan '.' sebagai pemisah ribuan)\n",
    "    weeks = list(range(1, 16))\n",
    "    visitors_str = [\n",
    "        \"820\",\"890\",\"870\",\"950\",\"1.020\",\"980\",\"1.050\",\"1.080\",\n",
    "        \"1.150\",\"1.100\",\"1.030\",\"950\",\"900\",\"900\",\"800\"\n",
    "    ]\n",
    "    visitors = [int(x.replace(\".\", \"\")) for x in visitors_str]\n",
    "\n",
    "    # Buat indeks waktu mingguan\n",
    "    dates = pd.date_range(start=start_date, periods=len(weeks), freq=freq)\n",
    "\n",
    "    # DataFrame siap untuk analisis time-series\n",
    "    df = pd.DataFrame(\n",
    "        {\"t\": weeks, \"visitors\": visitors},\n",
    "        index=dates\n",
    "    )\n",
    "    df.index.name = \"date\"  # indeks datetime untuk time series\n",
    "    return df\n",
    "\n",
    "if __name__ == \"__main__\":\n",
    "    ts_df = make_timeseries_df()\n",
    "    print(ts_df)"
   ]
  },
  {
   "cell_type": "code",
   "execution_count": 5,
   "id": "42c109c5",
   "metadata": {},
   "outputs": [],
   "source": [
    "df=ts_df.copy()"
   ]
  },
  {
   "cell_type": "code",
   "execution_count": 6,
   "id": "7693189c",
   "metadata": {},
   "outputs": [
    {
     "data": {
      "application/vnd.microsoft.datawrangler.viewer.v0+json": {
       "columns": [
        {
         "name": "index",
         "rawType": "object",
         "type": "string"
        },
        {
         "name": "t",
         "rawType": "float64",
         "type": "float"
        },
        {
         "name": "visitors",
         "rawType": "float64",
         "type": "float"
        }
       ],
       "ref": "56560127-d9c7-4dea-be87-f1b06c736da0",
       "rows": [
        [
         "count",
         "15.0",
         "15.0"
        ],
        [
         "mean",
         "8.0",
         "966.0"
        ],
        [
         "std",
         "4.47213595499958",
         "104.25244087584439"
        ],
        [
         "min",
         "1.0",
         "800.0"
        ],
        [
         "25%",
         "4.5",
         "895.0"
        ],
        [
         "50%",
         "8.0",
         "950.0"
        ],
        [
         "75%",
         "11.5",
         "1040.0"
        ],
        [
         "max",
         "15.0",
         "1150.0"
        ]
       ],
       "shape": {
        "columns": 2,
        "rows": 8
       }
      },
      "text/html": [
       "<div>\n",
       "<style scoped>\n",
       "    .dataframe tbody tr th:only-of-type {\n",
       "        vertical-align: middle;\n",
       "    }\n",
       "\n",
       "    .dataframe tbody tr th {\n",
       "        vertical-align: top;\n",
       "    }\n",
       "\n",
       "    .dataframe thead th {\n",
       "        text-align: right;\n",
       "    }\n",
       "</style>\n",
       "<table border=\"1\" class=\"dataframe\">\n",
       "  <thead>\n",
       "    <tr style=\"text-align: right;\">\n",
       "      <th></th>\n",
       "      <th>t</th>\n",
       "      <th>visitors</th>\n",
       "    </tr>\n",
       "  </thead>\n",
       "  <tbody>\n",
       "    <tr>\n",
       "      <th>count</th>\n",
       "      <td>15.000000</td>\n",
       "      <td>15.000000</td>\n",
       "    </tr>\n",
       "    <tr>\n",
       "      <th>mean</th>\n",
       "      <td>8.000000</td>\n",
       "      <td>966.000000</td>\n",
       "    </tr>\n",
       "    <tr>\n",
       "      <th>std</th>\n",
       "      <td>4.472136</td>\n",
       "      <td>104.252441</td>\n",
       "    </tr>\n",
       "    <tr>\n",
       "      <th>min</th>\n",
       "      <td>1.000000</td>\n",
       "      <td>800.000000</td>\n",
       "    </tr>\n",
       "    <tr>\n",
       "      <th>25%</th>\n",
       "      <td>4.500000</td>\n",
       "      <td>895.000000</td>\n",
       "    </tr>\n",
       "    <tr>\n",
       "      <th>50%</th>\n",
       "      <td>8.000000</td>\n",
       "      <td>950.000000</td>\n",
       "    </tr>\n",
       "    <tr>\n",
       "      <th>75%</th>\n",
       "      <td>11.500000</td>\n",
       "      <td>1040.000000</td>\n",
       "    </tr>\n",
       "    <tr>\n",
       "      <th>max</th>\n",
       "      <td>15.000000</td>\n",
       "      <td>1150.000000</td>\n",
       "    </tr>\n",
       "  </tbody>\n",
       "</table>\n",
       "</div>"
      ],
      "text/plain": [
       "               t     visitors\n",
       "count  15.000000    15.000000\n",
       "mean    8.000000   966.000000\n",
       "std     4.472136   104.252441\n",
       "min     1.000000   800.000000\n",
       "25%     4.500000   895.000000\n",
       "50%     8.000000   950.000000\n",
       "75%    11.500000  1040.000000\n",
       "max    15.000000  1150.000000"
      ]
     },
     "execution_count": 6,
     "metadata": {},
     "output_type": "execute_result"
    }
   ],
   "source": [
    "df.describe()"
   ]
  },
  {
   "cell_type": "code",
   "execution_count": 19,
   "id": "73eb8640",
   "metadata": {},
   "outputs": [
    {
     "data": {
      "image/png": "[encoded data removed]",
      "text/plain": [
       "<Figure size 800x450 with 1 Axes>"
      ]
     },
     "metadata": {},
     "output_type": "display_data"
    }
   ],
   "source": [
    "sns.set_style('whitegrid')\n",
    "sns.set_context('paper', font_scale=1.2)\n",
    "fig, ax = plt.subplots(figsize=(8, 4.5))\n",
    "sns.lineplot(data=df, x='t', y='visitors', marker='o', linewidth=2, color='#2a6f97', ax=ax)\n",
    "\n",
    "for x, y in zip(df['t'], df['visitors']):\n",
    "    ax.annotate(f'{y:,}'.replace(',', '.'), xy=(x, y), xytext=(0, 6),\n",
    "                textcoords='offset points', ha='center', fontsize=9, color='#333333')\n",
    "\n",
    "ax.set_title('Analisis Tren Pengunjung Mingguan', fontsize=14, fontweight='bold')\n",
    "ax.set_xlabel('Minggu ke-')\n",
    "ax.set_ylabel('Jumlah Pengunjung')\n",
    "plt.xticks(rotation=45, ha='right')\n",
    "ax.margins(x=0.02)\n",
    "plt.grid(False)\n",
    "plt.tight_layout()"
   ]
  },
  {
   "cell_type": "code",
   "execution_count": 20,
   "id": "d7247f6e",
   "metadata": {},
   "outputs": [
    {
     "name": "stdout",
     "output_type": "stream",
     "text": [
      "n = 15, mean = 966.0, sample variance = 10868.57142857143\n"
     ]
    }
   ],
   "source": [
    "# 1) n, mean, sample variance\n",
    "n = len(df)\n",
    "zbar = df['visitors'].mean()\n",
    "s2 = df['visitors'].var(ddof=1)  # sample variance\n",
    "print(f\"n = {n}, mean = {zbar}, sample variance = {s2}\")"
   ]
  },
  {
   "cell_type": "code",
   "execution_count": 21,
   "id": "8e4a83f1",
   "metadata": {},
   "outputs": [],
   "source": [
    "# 2) First difference\n",
    "diff1 = df['visitors'].diff()"
   ]
  },
  {
   "cell_type": "code",
   "execution_count": 23,
   "id": "0ac83468",
   "metadata": {},
   "outputs": [
    {
     "data": {
      "application/vnd.microsoft.datawrangler.viewer.v0+json": {
       "columns": [
        {
         "name": "date",
         "rawType": "datetime64[ns]",
         "type": "datetime"
        },
        {
         "name": "t",
         "rawType": "category",
         "type": "unknown"
        },
        {
         "name": "visitors",
         "rawType": "int64",
         "type": "integer"
        },
        {
         "name": "diff1",
         "rawType": "float64",
         "type": "float"
        }
       ],
       "ref": "fbd94112-0401-4acb-9b29-2cd7ef8c3489",
       "rows": [
        [
         "2024-01-07 00:00:00",
         "1",
         "820",
         null
        ],
        [
         "2024-01-14 00:00:00",
         "2",
         "890",
         "70.0"
        ],
        [
         "2024-01-21 00:00:00",
         "3",
         "870",
         "-20.0"
        ],
        [
         "2024-01-28 00:00:00",
         "4",
         "950",
         "80.0"
        ],
        [
         "2024-02-04 00:00:00",
         "5",
         "1020",
         "70.0"
        ],
        [
         "2024-02-11 00:00:00",
         "6",
         "980",
         "-40.0"
        ],
        [
         "2024-02-18 00:00:00",
         "7",
         "1050",
         "70.0"
        ],
        [
         "2024-02-25 00:00:00",
         "8",
         "1080",
         "30.0"
        ],
        [
         "2024-03-03 00:00:00",
         "9",
         "1150",
         "70.0"
        ],
        [
         "2024-03-10 00:00:00",
         "10",
         "1100",
         "-50.0"
        ],
        [
         "2024-03-17 00:00:00",
         "11",
         "1030",
         "-70.0"
        ],
        [
         "2024-03-24 00:00:00",
         "12",
         "950",
         "-80.0"
        ],
        [
         "2024-03-31 00:00:00",
         "13",
         "900",
         "-50.0"
        ],
        [
         "2024-04-07 00:00:00",
         "14",
         "900",
         "0.0"
        ],
        [
         "2024-04-14 00:00:00",
         "15",
         "800",
         "-100.0"
        ]
       ],
       "shape": {
        "columns": 3,
        "rows": 15
       }
      },
      "text/html": [
       "<div>\n",
       "<style scoped>\n",
       "    .dataframe tbody tr th:only-of-type {\n",
       "        vertical-align: middle;\n",
       "    }\n",
       "\n",
       "    .dataframe tbody tr th {\n",
       "        vertical-align: top;\n",
       "    }\n",
       "\n",
       "    .dataframe thead th {\n",
       "        text-align: right;\n",
       "    }\n",
       "</style>\n",
       "<table border=\"1\" class=\"dataframe\">\n",
       "  <thead>\n",
       "    <tr style=\"text-align: right;\">\n",
       "      <th></th>\n",
       "      <th>t</th>\n",
       "      <th>visitors</th>\n",
       "      <th>diff1</th>\n",
       "    </tr>\n",
       "    <tr>\n",
       "      <th>date</th>\n",
       "      <th></th>\n",
       "      <th></th>\n",
       "      <th></th>\n",
       "    </tr>\n",
       "  </thead>\n",
       "  <tbody>\n",
       "    <tr>\n",
       "      <th>2024-01-07</th>\n",
       "      <td>1</td>\n",
       "      <td>820</td>\n",
       "      <td>NaN</td>\n",
       "    </tr>\n",
       "    <tr>\n",
       "      <th>2024-01-14</th>\n",
       "      <td>2</td>\n",
       "      <td>890</td>\n",
       "      <td>70.0</td>\n",
       "    </tr>\n",
       "    <tr>\n",
       "      <th>2024-01-21</th>\n",
       "      <td>3</td>\n",
       "      <td>870</td>\n",
       "      <td>-20.0</td>\n",
       "    </tr>\n",
       "    <tr>\n",
       "      <th>2024-01-28</th>\n",
       "      <td>4</td>\n",
       "      <td>950</td>\n",
       "      <td>80.0</td>\n",
       "    </tr>\n",
       "    <tr>\n",
       "      <th>2024-02-04</th>\n",
       "      <td>5</td>\n",
       "      <td>1020</td>\n",
       "      <td>70.0</td>\n",
       "    </tr>\n",
       "    <tr>\n",
       "      <th>2024-02-11</th>\n",
       "      <td>6</td>\n",
       "      <td>980</td>\n",
       "      <td>-40.0</td>\n",
       "    </tr>\n",
       "    <tr>\n",
       "      <th>2024-02-18</th>\n",
       "      <td>7</td>\n",
       "      <td>1050</td>\n",
       "      <td>70.0</td>\n",
       "    </tr>\n",
       "    <tr>\n",
       "      <th>2024-02-25</th>\n",
       "      <td>8</td>\n",
       "      <td>1080</td>\n",
       "      <td>30.0</td>\n",
       "    </tr>\n",
       "    <tr>\n",
       "      <th>2024-03-03</th>\n",
       "      <td>9</td>\n",
       "      <td>1150</td>\n",
       "      <td>70.0</td>\n",
       "    </tr>\n",
       "    <tr>\n",
       "      <th>2024-03-10</th>\n",
       "      <td>10</td>\n",
       "      <td>1100</td>\n",
       "      <td>-50.0</td>\n",
       "    </tr>\n",
       "    <tr>\n",
       "      <th>2024-03-17</th>\n",
       "      <td>11</td>\n",
       "      <td>1030</td>\n",
       "      <td>-70.0</td>\n",
       "    </tr>\n",
       "    <tr>\n",
       "      <th>2024-03-24</th>\n",
       "      <td>12</td>\n",
       "      <td>950</td>\n",
       "      <td>-80.0</td>\n",
       "    </tr>\n",
       "    <tr>\n",
       "      <th>2024-03-31</th>\n",
       "      <td>13</td>\n",
       "      <td>900</td>\n",
       "      <td>-50.0</td>\n",
       "    </tr>\n",
       "    <tr>\n",
       "      <th>2024-04-07</th>\n",
       "      <td>14</td>\n",
       "      <td>900</td>\n",
       "      <td>0.0</td>\n",
       "    </tr>\n",
       "    <tr>\n",
       "      <th>2024-04-14</th>\n",
       "      <td>15</td>\n",
       "      <td>800</td>\n",
       "      <td>-100.0</td>\n",
       "    </tr>\n",
       "  </tbody>\n",
       "</table>\n",
       "</div>"
      ],
      "text/plain": [
       "             t  visitors  diff1\n",
       "date                           \n",
       "2024-01-07   1       820    NaN\n",
       "2024-01-14   2       890   70.0\n",
       "2024-01-21   3       870  -20.0\n",
       "2024-01-28   4       950   80.0\n",
       "2024-02-04   5      1020   70.0\n",
       "2024-02-11   6       980  -40.0\n",
       "2024-02-18   7      1050   70.0\n",
       "2024-02-25   8      1080   30.0\n",
       "2024-03-03   9      1150   70.0\n",
       "2024-03-10  10      1100  -50.0\n",
       "2024-03-17  11      1030  -70.0\n",
       "2024-03-24  12       950  -80.0\n",
       "2024-03-31  13       900  -50.0\n",
       "2024-04-07  14       900    0.0\n",
       "2024-04-14  15       800 -100.0"
      ]
     },
     "execution_count": 23,
     "metadata": {},
     "output_type": "execute_result"
    }
   ],
   "source": [
    "df_s = pd.DataFrame({'t': df['t'], 'visitors': df['visitors'], 'diff1': diff1})\n",
    "df_s"
   ]
  },
  {
   "cell_type": "code",
   "execution_count": 29,
   "id": "f7559518",
   "metadata": {},
   "outputs": [
    {
     "data": {
      "image/png": "[encoded data removed]",
      "text/plain": [
       "<Figure size 800x450 with 1 Axes>"
      ]
     },
     "metadata": {},
     "output_type": "display_data"
    }
   ],
   "source": [
    "# Make the plot more appealing and add data labels via a draw callback\n",
    "sns.set_style('whitegrid')\n",
    "sns.set_context('paper', font_scale=1.1)\n",
    "plt.rcParams.update({\n",
    "    'figure.facecolor': 'white',\n",
    "    'axes.facecolor': '#f9fafb',\n",
    "    'axes.edgecolor': '#e5e7eb',\n",
    "    'axes.titleweight': 'bold',\n",
    "    'axes.labelcolor': '#374151',\n",
    "})\n",
    "\n",
    "fig, _ax_local = plt.subplots(figsize=(8, 4.5))\n",
    "\n",
    "def _enhance_plot(event):\n",
    "    ax_local = event.canvas.figure.axes[0]\n",
    "    if getattr(ax_local, '_enhanced', False):\n",
    "        return\n",
    "    # Zero reference line\n",
    "    ax_local.axhline(0, color='#9ca3af', lw=1, ls='--', zorder=1)\n",
    "    # Overlay colored points (pos/neg)\n",
    "    s = df_s['diff1']\n",
    "    t = df_s['t']\n",
    "    pos = s > 0\n",
    "    neg = s < 0\n",
    "    ax_local.scatter(t[pos], s[pos], color='#2a9d8f', s=50, zorder=3)\n",
    "    ax_local.scatter(t[neg], s[neg], color='#e76f51', s=50, zorder=3)\n",
    "    # Data labels\n",
    "    for x_i, y_i in zip(t, s):\n",
    "        if pd.isna(y_i):\n",
    "            continue\n",
    "        c = '#2a9d8f' if y_i > 0 else ('#e76f51' if y_i < 0 else '#6b7280')\n",
    "        ax_local.annotate(f'{y_i:.0f}', (x_i, y_i), textcoords='offset points',\n",
    "                          xytext=(0, 6), ha='center', fontsize=9, color=c)\n",
    "    ax_local.margins(x=0.02, y=0.15)\n",
    "    ax_local._enhanced = True\n",
    "\n",
    "fig.canvas.mpl_connect('draw_event', _enhance_plot)\n",
    "plt.sca(_ax_local)\n",
    "plt.plot(df_s['t'], df_s['diff1'], marker='o')\n",
    "plt.title('Diferensi Pertama dari z_t')\n",
    "plt.xlabel('Bulan (t)')\n",
    "plt.ylabel('Δz_t = z_t - z_{t-1}')\n",
    "plt.grid(False)\n",
    "plt.show()"
   ]
  },
  {
   "cell_type": "code",
   "execution_count": 30,
   "id": "54e10ab6",
   "metadata": {},
   "outputs": [],
   "source": [
    "# 3) Deviations from mean (z_t - zbar)\n",
    "dev_from_mean = df_s['visitors'] - zbar\n",
    "\n",
    "# Buat DataFrame ringkasan\n",
    "df = pd.DataFrame({\n",
    "    't': df_s['t'],\n",
    "    'z_t': df_s['visitors'],\n",
    "    'Δz_t (first diff)': diff1.values,\n",
    "    'z_t - z̄ (deviasi)': dev_from_mean.values\n",
    "})"
   ]
  },
  {
   "cell_type": "code",
   "execution_count": 31,
   "id": "6906aea2",
   "metadata": {},
   "outputs": [
    {
     "data": {
      "application/vnd.microsoft.datawrangler.viewer.v0+json": {
       "columns": [
        {
         "name": "date",
         "rawType": "datetime64[ns]",
         "type": "datetime"
        },
        {
         "name": "t",
         "rawType": "category",
         "type": "unknown"
        },
        {
         "name": "z_t",
         "rawType": "int64",
         "type": "integer"
        },
        {
         "name": "Δz_t (first diff)",
         "rawType": "float64",
         "type": "float"
        },
        {
         "name": "z_t - z̄ (deviasi)",
         "rawType": "float64",
         "type": "float"
        }
       ],
       "ref": "763e9f00-56d2-4e49-84eb-ba87af936600",
       "rows": [
        [
         "2024-01-07 00:00:00",
         "1",
         "820",
         null,
         "-146.0"
        ],
        [
         "2024-01-14 00:00:00",
         "2",
         "890",
         "70.0",
         "-76.0"
        ],
        [
         "2024-01-21 00:00:00",
         "3",
         "870",
         "-20.0",
         "-96.0"
        ],
        [
         "2024-01-28 00:00:00",
         "4",
         "950",
         "80.0",
         "-16.0"
        ],
        [
         "2024-02-04 00:00:00",
         "5",
         "1020",
         "70.0",
         "54.0"
        ],
        [
         "2024-02-11 00:00:00",
         "6",
         "980",
         "-40.0",
         "14.0"
        ],
        [
         "2024-02-18 00:00:00",
         "7",
         "1050",
         "70.0",
         "84.0"
        ],
        [
         "2024-02-25 00:00:00",
         "8",
         "1080",
         "30.0",
         "114.0"
        ],
        [
         "2024-03-03 00:00:00",
         "9",
         "1150",
         "70.0",
         "184.0"
        ],
        [
         "2024-03-10 00:00:00",
         "10",
         "1100",
         "-50.0",
         "134.0"
        ],
        [
         "2024-03-17 00:00:00",
         "11",
         "1030",
         "-70.0",
         "64.0"
        ],
        [
         "2024-03-24 00:00:00",
         "12",
         "950",
         "-80.0",
         "-16.0"
        ],
        [
         "2024-03-31 00:00:00",
         "13",
         "900",
         "-50.0",
         "-66.0"
        ],
        [
         "2024-04-07 00:00:00",
         "14",
         "900",
         "0.0",
         "-66.0"
        ],
        [
         "2024-04-14 00:00:00",
         "15",
         "800",
         "-100.0",
         "-166.0"
        ]
       ],
       "shape": {
        "columns": 4,
        "rows": 15
       }
      },
      "text/html": [
       "<div>\n",
       "<style scoped>\n",
       "    .dataframe tbody tr th:only-of-type {\n",
       "        vertical-align: middle;\n",
       "    }\n",
       "\n",
       "    .dataframe tbody tr th {\n",
       "        vertical-align: top;\n",
       "    }\n",
       "\n",
       "    .dataframe thead th {\n",
       "        text-align: right;\n",
       "    }\n",
       "</style>\n",
       "<table border=\"1\" class=\"dataframe\">\n",
       "  <thead>\n",
       "    <tr style=\"text-align: right;\">\n",
       "      <th></th>\n",
       "      <th>t</th>\n",
       "      <th>z_t</th>\n",
       "      <th>Δz_t (first diff)</th>\n",
       "      <th>z_t - z̄ (deviasi)</th>\n",
       "    </tr>\n",
       "    <tr>\n",
       "      <th>date</th>\n",
       "      <th></th>\n",
       "      <th></th>\n",
       "      <th></th>\n",
       "      <th></th>\n",
       "    </tr>\n",
       "  </thead>\n",
       "  <tbody>\n",
       "    <tr>\n",
       "      <th>2024-01-07</th>\n",
       "      <td>1</td>\n",
       "      <td>820</td>\n",
       "      <td>NaN</td>\n",
       "      <td>-146.0</td>\n",
       "    </tr>\n",
       "    <tr>\n",
       "      <th>2024-01-14</th>\n",
       "      <td>2</td>\n",
       "      <td>890</td>\n",
       "      <td>70.0</td>\n",
       "      <td>-76.0</td>\n",
       "    </tr>\n",
       "    <tr>\n",
       "      <th>2024-01-21</th>\n",
       "      <td>3</td>\n",
       "      <td>870</td>\n",
       "      <td>-20.0</td>\n",
       "      <td>-96.0</td>\n",
       "    </tr>\n",
       "    <tr>\n",
       "      <th>2024-01-28</th>\n",
       "      <td>4</td>\n",
       "      <td>950</td>\n",
       "      <td>80.0</td>\n",
       "      <td>-16.0</td>\n",
       "    </tr>\n",
       "    <tr>\n",
       "      <th>2024-02-04</th>\n",
       "      <td>5</td>\n",
       "      <td>1020</td>\n",
       "      <td>70.0</td>\n",
       "      <td>54.0</td>\n",
       "    </tr>\n",
       "    <tr>\n",
       "      <th>2024-02-11</th>\n",
       "      <td>6</td>\n",
       "      <td>980</td>\n",
       "      <td>-40.0</td>\n",
       "      <td>14.0</td>\n",
       "    </tr>\n",
       "    <tr>\n",
       "      <th>2024-02-18</th>\n",
       "      <td>7</td>\n",
       "      <td>1050</td>\n",
       "      <td>70.0</td>\n",
       "      <td>84.0</td>\n",
       "    </tr>\n",
       "    <tr>\n",
       "      <th>2024-02-25</th>\n",
       "      <td>8</td>\n",
       "      <td>1080</td>\n",
       "      <td>30.0</td>\n",
       "      <td>114.0</td>\n",
       "    </tr>\n",
       "    <tr>\n",
       "      <th>2024-03-03</th>\n",
       "      <td>9</td>\n",
       "      <td>1150</td>\n",
       "      <td>70.0</td>\n",
       "      <td>184.0</td>\n",
       "    </tr>\n",
       "    <tr>\n",
       "      <th>2024-03-10</th>\n",
       "      <td>10</td>\n",
       "      <td>1100</td>\n",
       "      <td>-50.0</td>\n",
       "      <td>134.0</td>\n",
       "    </tr>\n",
       "    <tr>\n",
       "      <th>2024-03-17</th>\n",
       "      <td>11</td>\n",
       "      <td>1030</td>\n",
       "      <td>-70.0</td>\n",
       "      <td>64.0</td>\n",
       "    </tr>\n",
       "    <tr>\n",
       "      <th>2024-03-24</th>\n",
       "      <td>12</td>\n",
       "      <td>950</td>\n",
       "      <td>-80.0</td>\n",
       "      <td>-16.0</td>\n",
       "    </tr>\n",
       "    <tr>\n",
       "      <th>2024-03-31</th>\n",
       "      <td>13</td>\n",
       "      <td>900</td>\n",
       "      <td>-50.0</td>\n",
       "      <td>-66.0</td>\n",
       "    </tr>\n",
       "    <tr>\n",
       "      <th>2024-04-07</th>\n",
       "      <td>14</td>\n",
       "      <td>900</td>\n",
       "      <td>0.0</td>\n",
       "      <td>-66.0</td>\n",
       "    </tr>\n",
       "    <tr>\n",
       "      <th>2024-04-14</th>\n",
       "      <td>15</td>\n",
       "      <td>800</td>\n",
       "      <td>-100.0</td>\n",
       "      <td>-166.0</td>\n",
       "    </tr>\n",
       "  </tbody>\n",
       "</table>\n",
       "</div>"
      ],
      "text/plain": [
       "             t   z_t  Δz_t (first diff)  z_t - z̄ (deviasi)\n",
       "date                                                       \n",
       "2024-01-07   1   820                NaN              -146.0\n",
       "2024-01-14   2   890               70.0               -76.0\n",
       "2024-01-21   3   870              -20.0               -96.0\n",
       "2024-01-28   4   950               80.0               -16.0\n",
       "2024-02-04   5  1020               70.0                54.0\n",
       "2024-02-11   6   980              -40.0                14.0\n",
       "2024-02-18   7  1050               70.0                84.0\n",
       "2024-02-25   8  1080               30.0               114.0\n",
       "2024-03-03   9  1150               70.0               184.0\n",
       "2024-03-10  10  1100              -50.0               134.0\n",
       "2024-03-17  11  1030              -70.0                64.0\n",
       "2024-03-24  12   950              -80.0               -16.0\n",
       "2024-03-31  13   900              -50.0               -66.0\n",
       "2024-04-07  14   900                0.0               -66.0\n",
       "2024-04-14  15   800             -100.0              -166.0"
      ]
     },
     "execution_count": 31,
     "metadata": {},
     "output_type": "execute_result"
    }
   ],
   "source": [
    "df"
   ]
  },
  {
   "cell_type": "code",
   "execution_count": 35,
   "id": "abacc8ca",
   "metadata": {},
   "outputs": [
    {
     "data": {
      "image/png": "[encoded data removed]",
      "text/plain": [
       "<Figure size 800x450 with 1 Axes>"
      ]
     },
     "metadata": {},
     "output_type": "display_data"
    }
   ],
   "source": [
    "sns.set_style('whitegrid')\n",
    "sns.set_context('paper', font_scale=1.1)\n",
    "\n",
    "fig2, ax2 = plt.subplots(figsize=(8, 4.5))\n",
    "ax2.axhline(0, color='#9ca3af', lw=1, ls='--', zorder=1)\n",
    "\n",
    "# Data labels with sign-based colors\n",
    "for x_i, y_i in zip(df['t'], df['z_t - z̄ (deviasi)']):\n",
    "    c = '#2a9d8f' if y_i > 0 else ('#e76f51' if y_i < 0 else '#6b7280')\n",
    "    ax2.annotate(f'{y_i:.0f}', (x_i, y_i), textcoords='offset points',\n",
    "                 xytext=(0, 6), ha='center', fontsize=9, color=c)\n",
    "\n",
    "ax2.set_xlabel('Tanggal')\n",
    "ax2.set_ylabel('z_t - z̄')\n",
    "plt.xticks(rotation=45, ha='right')\n",
    "ax2.margins(x=0.02, y=0.15)\n",
    "plt.tight_layout()\n",
    "plt.plot(df['t'], df['z_t - z̄ (deviasi)'], marker='o')\n",
    "plt.title('Deviasi dari Rata-rata z̄')\n",
    "plt.grid(False)"
   ]
  },
  {
   "cell_type": "markdown",
   "id": "e9ed2f14",
   "metadata": {},
   "source": [
    "# SOAL 2"
   ]
  },
  {
   "cell_type": "code",
   "execution_count": 36,
   "id": "cdcbae49",
   "metadata": {},
   "outputs": [],
   "source": [
    "df = pd.DataFrame({\n",
    "    't': [1, 2, 3, 4, 5, 6, 7, 8, 9, 10, 11, 12],\n",
    "    'zt': [25, 26, 25, 27, 28, 27.5, 29, 30, 31, 30.5, 29.5, 28.5]\n",
    "})"
   ]
  },
  {
   "cell_type": "code",
   "execution_count": 38,
   "id": "c3eb8d88",
   "metadata": {},
   "outputs": [
    {
     "data": {
      "application/vnd.microsoft.datawrangler.viewer.v0+json": {
       "columns": [
        {
         "name": "index",
         "rawType": "int64",
         "type": "integer"
        },
        {
         "name": "t",
         "rawType": "int64",
         "type": "integer"
        },
        {
         "name": "zt",
         "rawType": "float64",
         "type": "float"
        },
        {
         "name": "z̄",
         "rawType": "float64",
         "type": "float"
        },
        {
         "name": "z̄t",
         "rawType": "float64",
         "type": "float"
        },
        {
         "name": "z̄t+1",
         "rawType": "float64",
         "type": "float"
        }
       ],
       "ref": "bdd4c3b8-1712-4160-95a0-6df52fad31e5",
       "rows": [
        [
         "0",
         "1",
         "25.0",
         "28.083333333333332",
         "-3.083333333333332",
         "-2.083333333333332"
        ],
        [
         "1",
         "2",
         "26.0",
         "28.083333333333332",
         "-2.083333333333332",
         "-3.083333333333332"
        ],
        [
         "2",
         "3",
         "25.0",
         "28.083333333333332",
         "-3.083333333333332",
         "-1.0833333333333321"
        ],
        [
         "3",
         "4",
         "27.0",
         "28.083333333333332",
         "-1.0833333333333321",
         "-0.08333333333333215"
        ],
        [
         "4",
         "5",
         "28.0",
         "28.083333333333332",
         "-0.08333333333333215",
         "-0.5833333333333321"
        ],
        [
         "5",
         "6",
         "27.5",
         "28.083333333333332",
         "-0.5833333333333321",
         "0.9166666666666679"
        ],
        [
         "6",
         "7",
         "29.0",
         "28.083333333333332",
         "0.9166666666666679",
         "1.9166666666666679"
        ],
        [
         "7",
         "8",
         "30.0",
         "28.083333333333332",
         "1.9166666666666679",
         "2.916666666666668"
        ],
        [
         "8",
         "9",
         "31.0",
         "28.083333333333332",
         "2.916666666666668",
         "2.416666666666668"
        ],
        [
         "9",
         "10",
         "30.5",
         "28.083333333333332",
         "2.416666666666668",
         "1.4166666666666679"
        ],
        [
         "10",
         "11",
         "29.5",
         "28.083333333333332",
         "1.4166666666666679",
         "0.41666666666666785"
        ],
        [
         "11",
         "12",
         "28.5",
         "28.083333333333332",
         "0.41666666666666785",
         null
        ]
       ],
       "shape": {
        "columns": 5,
        "rows": 12
       }
      },
      "text/html": [
       "<div>\n",
       "<style scoped>\n",
       "    .dataframe tbody tr th:only-of-type {\n",
       "        vertical-align: middle;\n",
       "    }\n",
       "\n",
       "    .dataframe tbody tr th {\n",
       "        vertical-align: top;\n",
       "    }\n",
       "\n",
       "    .dataframe thead th {\n",
       "        text-align: right;\n",
       "    }\n",
       "</style>\n",
       "<table border=\"1\" class=\"dataframe\">\n",
       "  <thead>\n",
       "    <tr style=\"text-align: right;\">\n",
       "      <th></th>\n",
       "      <th>t</th>\n",
       "      <th>zt</th>\n",
       "      <th>z̄</th>\n",
       "      <th>z̄t</th>\n",
       "      <th>z̄t+1</th>\n",
       "    </tr>\n",
       "  </thead>\n",
       "  <tbody>\n",
       "    <tr>\n",
       "      <th>0</th>\n",
       "      <td>1</td>\n",
       "      <td>25.0</td>\n",
       "      <td>28.083333</td>\n",
       "      <td>-3.083333</td>\n",
       "      <td>-2.083333</td>\n",
       "    </tr>\n",
       "    <tr>\n",
       "      <th>1</th>\n",
       "      <td>2</td>\n",
       "      <td>26.0</td>\n",
       "      <td>28.083333</td>\n",
       "      <td>-2.083333</td>\n",
       "      <td>-3.083333</td>\n",
       "    </tr>\n",
       "    <tr>\n",
       "      <th>2</th>\n",
       "      <td>3</td>\n",
       "      <td>25.0</td>\n",
       "      <td>28.083333</td>\n",
       "      <td>-3.083333</td>\n",
       "      <td>-1.083333</td>\n",
       "    </tr>\n",
       "    <tr>\n",
       "      <th>3</th>\n",
       "      <td>4</td>\n",
       "      <td>27.0</td>\n",
       "      <td>28.083333</td>\n",
       "      <td>-1.083333</td>\n",
       "      <td>-0.083333</td>\n",
       "    </tr>\n",
       "    <tr>\n",
       "      <th>4</th>\n",
       "      <td>5</td>\n",
       "      <td>28.0</td>\n",
       "      <td>28.083333</td>\n",
       "      <td>-0.083333</td>\n",
       "      <td>-0.583333</td>\n",
       "    </tr>\n",
       "    <tr>\n",
       "      <th>5</th>\n",
       "      <td>6</td>\n",
       "      <td>27.5</td>\n",
       "      <td>28.083333</td>\n",
       "      <td>-0.583333</td>\n",
       "      <td>0.916667</td>\n",
       "    </tr>\n",
       "    <tr>\n",
       "      <th>6</th>\n",
       "      <td>7</td>\n",
       "      <td>29.0</td>\n",
       "      <td>28.083333</td>\n",
       "      <td>0.916667</td>\n",
       "      <td>1.916667</td>\n",
       "    </tr>\n",
       "    <tr>\n",
       "      <th>7</th>\n",
       "      <td>8</td>\n",
       "      <td>30.0</td>\n",
       "      <td>28.083333</td>\n",
       "      <td>1.916667</td>\n",
       "      <td>2.916667</td>\n",
       "    </tr>\n",
       "    <tr>\n",
       "      <th>8</th>\n",
       "      <td>9</td>\n",
       "      <td>31.0</td>\n",
       "      <td>28.083333</td>\n",
       "      <td>2.916667</td>\n",
       "      <td>2.416667</td>\n",
       "    </tr>\n",
       "    <tr>\n",
       "      <th>9</th>\n",
       "      <td>10</td>\n",
       "      <td>30.5</td>\n",
       "      <td>28.083333</td>\n",
       "      <td>2.416667</td>\n",
       "      <td>1.416667</td>\n",
       "    </tr>\n",
       "    <tr>\n",
       "      <th>10</th>\n",
       "      <td>11</td>\n",
       "      <td>29.5</td>\n",
       "      <td>28.083333</td>\n",
       "      <td>1.416667</td>\n",
       "      <td>0.416667</td>\n",
       "    </tr>\n",
       "    <tr>\n",
       "      <th>11</th>\n",
       "      <td>12</td>\n",
       "      <td>28.5</td>\n",
       "      <td>28.083333</td>\n",
       "      <td>0.416667</td>\n",
       "      <td>NaN</td>\n",
       "    </tr>\n",
       "  </tbody>\n",
       "</table>\n",
       "</div>"
      ],
      "text/plain": [
       "     t    zt         z̄       z̄t     z̄t+1\n",
       "0    1  25.0  28.083333 -3.083333 -2.083333\n",
       "1    2  26.0  28.083333 -2.083333 -3.083333\n",
       "2    3  25.0  28.083333 -3.083333 -1.083333\n",
       "3    4  27.0  28.083333 -1.083333 -0.083333\n",
       "4    5  28.0  28.083333 -0.083333 -0.583333\n",
       "5    6  27.5  28.083333 -0.583333  0.916667\n",
       "6    7  29.0  28.083333  0.916667  1.916667\n",
       "7    8  30.0  28.083333  1.916667  2.916667\n",
       "8    9  31.0  28.083333  2.916667  2.416667\n",
       "9   10  30.5  28.083333  2.416667  1.416667\n",
       "10  11  29.5  28.083333  1.416667  0.416667\n",
       "11  12  28.5  28.083333  0.416667       NaN"
      ]
     },
     "execution_count": 38,
     "metadata": {},
     "output_type": "execute_result"
    }
   ],
   "source": [
    "zbar = df['zt'].mean()\n",
    "df['z̄']= zbar\n",
    "df['z̄t']=df['zt'] - df['z̄']\n",
    "df['z̄t+1']=df['z̄t'].shift(-1)\n",
    "df"
   ]
  },
  {
   "cell_type": "code",
   "execution_count": 39,
   "id": "b60c69bc",
   "metadata": {},
   "outputs": [
    {
     "data": {
      "application/vnd.microsoft.datawrangler.viewer.v0+json": {
       "columns": [
        {
         "name": "index",
         "rawType": "int64",
         "type": "integer"
        },
        {
         "name": "t",
         "rawType": "int64",
         "type": "integer"
        },
        {
         "name": "zt",
         "rawType": "float64",
         "type": "float"
        },
        {
         "name": "z̄",
         "rawType": "float64",
         "type": "float"
        },
        {
         "name": "z̄t",
         "rawType": "float64",
         "type": "float"
        },
        {
         "name": "z̄t+1",
         "rawType": "float64",
         "type": "float"
        },
        {
         "name": "z̄t*z̄t+1",
         "rawType": "float64",
         "type": "float"
        },
        {
         "name": "z̄t^2",
         "rawType": "float64",
         "type": "float"
        }
       ],
       "ref": "5cf93cf0-46c3-4ae2-9f03-90e231fe6ae0",
       "rows": [
        [
         "0",
         "1",
         "25.0",
         "28.083333333333332",
         "-3.083333333333332",
         "-2.083333333333332",
         "6.423611111111105",
         "9.506944444444438"
        ],
        [
         "1",
         "2",
         "26.0",
         "28.083333333333332",
         "-2.083333333333332",
         "-3.083333333333332",
         "6.423611111111105",
         "4.340277777777773"
        ],
        [
         "2",
         "3",
         "25.0",
         "28.083333333333332",
         "-3.083333333333332",
         "-1.0833333333333321",
         "3.340277777777773",
         "9.506944444444438"
        ],
        [
         "3",
         "4",
         "27.0",
         "28.083333333333332",
         "-1.0833333333333321",
         "-0.08333333333333215",
         "0.0902777777777764",
         "1.1736111111111085"
        ],
        [
         "4",
         "5",
         "28.0",
         "28.083333333333332",
         "-0.08333333333333215",
         "-0.5833333333333321",
         "0.04861111111111032",
         "0.006944444444444247"
        ],
        [
         "5",
         "6",
         "27.5",
         "28.083333333333332",
         "-0.5833333333333321",
         "0.9166666666666679",
         "-0.5347222222222219",
         "0.3402777777777764"
        ],
        [
         "6",
         "7",
         "29.0",
         "28.083333333333332",
         "0.9166666666666679",
         "1.9166666666666679",
         "1.7569444444444478",
         "0.8402777777777799"
        ],
        [
         "7",
         "8",
         "30.0",
         "28.083333333333332",
         "1.9166666666666679",
         "2.916666666666668",
         "5.590277777777784",
         "3.6736111111111156"
        ],
        [
         "8",
         "9",
         "31.0",
         "28.083333333333332",
         "2.916666666666668",
         "2.416666666666668",
         "7.048611111111118",
         "8.506944444444452"
        ],
        [
         "9",
         "10",
         "30.5",
         "28.083333333333332",
         "2.416666666666668",
         "1.4166666666666679",
         "3.4236111111111156",
         "5.840277777777784"
        ],
        [
         "10",
         "11",
         "29.5",
         "28.083333333333332",
         "1.4166666666666679",
         "0.41666666666666785",
         "0.5902777777777799",
         "2.0069444444444478"
        ],
        [
         "11",
         "12",
         "28.5",
         "28.083333333333332",
         "0.41666666666666785",
         null,
         null,
         "0.1736111111111121"
        ]
       ],
       "shape": {
        "columns": 7,
        "rows": 12
       }
      },
      "text/html": [
       "<div>\n",
       "<style scoped>\n",
       "    .dataframe tbody tr th:only-of-type {\n",
       "        vertical-align: middle;\n",
       "    }\n",
       "\n",
       "    .dataframe tbody tr th {\n",
       "        vertical-align: top;\n",
       "    }\n",
       "\n",
       "    .dataframe thead th {\n",
       "        text-align: right;\n",
       "    }\n",
       "</style>\n",
       "<table border=\"1\" class=\"dataframe\">\n",
       "  <thead>\n",
       "    <tr style=\"text-align: right;\">\n",
       "      <th></th>\n",
       "      <th>t</th>\n",
       "      <th>zt</th>\n",
       "      <th>z̄</th>\n",
       "      <th>z̄t</th>\n",
       "      <th>z̄t+1</th>\n",
       "      <th>z̄t*z̄t+1</th>\n",
       "      <th>z̄t^2</th>\n",
       "    </tr>\n",
       "  </thead>\n",
       "  <tbody>\n",
       "    <tr>\n",
       "      <th>0</th>\n",
       "      <td>1</td>\n",
       "      <td>25.0</td>\n",
       "      <td>28.083333</td>\n",
       "      <td>-3.083333</td>\n",
       "      <td>-2.083333</td>\n",
       "      <td>6.423611</td>\n",
       "      <td>9.506944</td>\n",
       "    </tr>\n",
       "    <tr>\n",
       "      <th>1</th>\n",
       "      <td>2</td>\n",
       "      <td>26.0</td>\n",
       "      <td>28.083333</td>\n",
       "      <td>-2.083333</td>\n",
       "      <td>-3.083333</td>\n",
       "      <td>6.423611</td>\n",
       "      <td>4.340278</td>\n",
       "    </tr>\n",
       "    <tr>\n",
       "      <th>2</th>\n",
       "      <td>3</td>\n",
       "      <td>25.0</td>\n",
       "      <td>28.083333</td>\n",
       "      <td>-3.083333</td>\n",
       "      <td>-1.083333</td>\n",
       "      <td>3.340278</td>\n",
       "      <td>9.506944</td>\n",
       "    </tr>\n",
       "    <tr>\n",
       "      <th>3</th>\n",
       "      <td>4</td>\n",
       "      <td>27.0</td>\n",
       "      <td>28.083333</td>\n",
       "      <td>-1.083333</td>\n",
       "      <td>-0.083333</td>\n",
       "      <td>0.090278</td>\n",
       "      <td>1.173611</td>\n",
       "    </tr>\n",
       "    <tr>\n",
       "      <th>4</th>\n",
       "      <td>5</td>\n",
       "      <td>28.0</td>\n",
       "      <td>28.083333</td>\n",
       "      <td>-0.083333</td>\n",
       "      <td>-0.583333</td>\n",
       "      <td>0.048611</td>\n",
       "      <td>0.006944</td>\n",
       "    </tr>\n",
       "    <tr>\n",
       "      <th>5</th>\n",
       "      <td>6</td>\n",
       "      <td>27.5</td>\n",
       "      <td>28.083333</td>\n",
       "      <td>-0.583333</td>\n",
       "      <td>0.916667</td>\n",
       "      <td>-0.534722</td>\n",
       "      <td>0.340278</td>\n",
       "    </tr>\n",
       "    <tr>\n",
       "      <th>6</th>\n",
       "      <td>7</td>\n",
       "      <td>29.0</td>\n",
       "      <td>28.083333</td>\n",
       "      <td>0.916667</td>\n",
       "      <td>1.916667</td>\n",
       "      <td>1.756944</td>\n",
       "      <td>0.840278</td>\n",
       "    </tr>\n",
       "    <tr>\n",
       "      <th>7</th>\n",
       "      <td>8</td>\n",
       "      <td>30.0</td>\n",
       "      <td>28.083333</td>\n",
       "      <td>1.916667</td>\n",
       "      <td>2.916667</td>\n",
       "      <td>5.590278</td>\n",
       "      <td>3.673611</td>\n",
       "    </tr>\n",
       "    <tr>\n",
       "      <th>8</th>\n",
       "      <td>9</td>\n",
       "      <td>31.0</td>\n",
       "      <td>28.083333</td>\n",
       "      <td>2.916667</td>\n",
       "      <td>2.416667</td>\n",
       "      <td>7.048611</td>\n",
       "      <td>8.506944</td>\n",
       "    </tr>\n",
       "    <tr>\n",
       "      <th>9</th>\n",
       "      <td>10</td>\n",
       "      <td>30.5</td>\n",
       "      <td>28.083333</td>\n",
       "      <td>2.416667</td>\n",
       "      <td>1.416667</td>\n",
       "      <td>3.423611</td>\n",
       "      <td>5.840278</td>\n",
       "    </tr>\n",
       "    <tr>\n",
       "      <th>10</th>\n",
       "      <td>11</td>\n",
       "      <td>29.5</td>\n",
       "      <td>28.083333</td>\n",
       "      <td>1.416667</td>\n",
       "      <td>0.416667</td>\n",
       "      <td>0.590278</td>\n",
       "      <td>2.006944</td>\n",
       "    </tr>\n",
       "    <tr>\n",
       "      <th>11</th>\n",
       "      <td>12</td>\n",
       "      <td>28.5</td>\n",
       "      <td>28.083333</td>\n",
       "      <td>0.416667</td>\n",
       "      <td>NaN</td>\n",
       "      <td>NaN</td>\n",
       "      <td>0.173611</td>\n",
       "    </tr>\n",
       "  </tbody>\n",
       "</table>\n",
       "</div>"
      ],
      "text/plain": [
       "     t    zt         z̄       z̄t     z̄t+1  z̄t*z̄t+1     z̄t^2\n",
       "0    1  25.0  28.083333 -3.083333 -2.083333   6.423611  9.506944\n",
       "1    2  26.0  28.083333 -2.083333 -3.083333   6.423611  4.340278\n",
       "2    3  25.0  28.083333 -3.083333 -1.083333   3.340278  9.506944\n",
       "3    4  27.0  28.083333 -1.083333 -0.083333   0.090278  1.173611\n",
       "4    5  28.0  28.083333 -0.083333 -0.583333   0.048611  0.006944\n",
       "5    6  27.5  28.083333 -0.583333  0.916667  -0.534722  0.340278\n",
       "6    7  29.0  28.083333  0.916667  1.916667   1.756944  0.840278\n",
       "7    8  30.0  28.083333  1.916667  2.916667   5.590278  3.673611\n",
       "8    9  31.0  28.083333  2.916667  2.416667   7.048611  8.506944\n",
       "9   10  30.5  28.083333  2.416667  1.416667   3.423611  5.840278\n",
       "10  11  29.5  28.083333  1.416667  0.416667   0.590278  2.006944\n",
       "11  12  28.5  28.083333  0.416667       NaN        NaN  0.173611"
      ]
     },
     "execution_count": 39,
     "metadata": {},
     "output_type": "execute_result"
    }
   ],
   "source": [
    "df['z̄t*z̄t+1']=df['z̄t'] * df['z̄t+1']\n",
    "df['z̄t^2']=df['z̄t'] **2\n",
    "df"
   ]
  },
  {
   "cell_type": "code",
   "execution_count": 40,
   "id": "9e35d419",
   "metadata": {},
   "outputs": [
    {
     "data": {
      "text/plain": [
       "0.7448578342407743"
      ]
     },
     "execution_count": 40,
     "metadata": {},
     "output_type": "execute_result"
    }
   ],
   "source": [
    "r1 = df['z̄t*z̄t+1'].sum() / df['z̄t^2'].sum()\n",
    "r1"
   ]
  },
  {
   "cell_type": "code",
   "execution_count": 41,
   "id": "c6e982be",
   "metadata": {},
   "outputs": [
    {
     "data": {
      "application/vnd.microsoft.datawrangler.viewer.v0+json": {
       "columns": [
        {
         "name": "index",
         "rawType": "int64",
         "type": "integer"
        },
        {
         "name": "t",
         "rawType": "datetime64[ns]",
         "type": "datetime"
        },
        {
         "name": "zt",
         "rawType": "float64",
         "type": "float"
        },
        {
         "name": "z̄",
         "rawType": "float64",
         "type": "float"
        },
        {
         "name": "z̄t",
         "rawType": "float64",
         "type": "float"
        },
        {
         "name": "z̄t+1",
         "rawType": "float64",
         "type": "float"
        },
        {
         "name": "z̄t*z̄t+1",
         "rawType": "float64",
         "type": "float"
        },
        {
         "name": "z̄t^2",
         "rawType": "float64",
         "type": "float"
        }
       ],
       "ref": "b5a8df4a-2dc7-4c83-beab-a76686b0b8df",
       "rows": [
        [
         "0",
         "2025-01-01 00:00:00",
         "25.0",
         "28.083333333333332",
         "-3.083333333333332",
         "-2.083333333333332",
         "6.423611111111105",
         "9.506944444444438"
        ],
        [
         "1",
         "2025-02-01 00:00:00",
         "26.0",
         "28.083333333333332",
         "-2.083333333333332",
         "-3.083333333333332",
         "6.423611111111105",
         "4.340277777777773"
        ],
        [
         "2",
         "2025-03-01 00:00:00",
         "25.0",
         "28.083333333333332",
         "-3.083333333333332",
         "-1.0833333333333321",
         "3.340277777777773",
         "9.506944444444438"
        ],
        [
         "3",
         "2025-04-01 00:00:00",
         "27.0",
         "28.083333333333332",
         "-1.0833333333333321",
         "-0.08333333333333215",
         "0.0902777777777764",
         "1.1736111111111085"
        ],
        [
         "4",
         "2025-05-01 00:00:00",
         "28.0",
         "28.083333333333332",
         "-0.08333333333333215",
         "-0.5833333333333321",
         "0.04861111111111032",
         "0.006944444444444247"
        ],
        [
         "5",
         "2025-06-01 00:00:00",
         "27.5",
         "28.083333333333332",
         "-0.5833333333333321",
         "0.9166666666666679",
         "-0.5347222222222219",
         "0.3402777777777764"
        ],
        [
         "6",
         "2025-07-01 00:00:00",
         "29.0",
         "28.083333333333332",
         "0.9166666666666679",
         "1.9166666666666679",
         "1.7569444444444478",
         "0.8402777777777799"
        ],
        [
         "7",
         "2025-08-01 00:00:00",
         "30.0",
         "28.083333333333332",
         "1.9166666666666679",
         "2.916666666666668",
         "5.590277777777784",
         "3.6736111111111156"
        ],
        [
         "8",
         "2025-09-01 00:00:00",
         "31.0",
         "28.083333333333332",
         "2.916666666666668",
         "2.416666666666668",
         "7.048611111111118",
         "8.506944444444452"
        ],
        [
         "9",
         "2025-10-01 00:00:00",
         "30.5",
         "28.083333333333332",
         "2.416666666666668",
         "1.4166666666666679",
         "3.4236111111111156",
         "5.840277777777784"
        ],
        [
         "10",
         "2025-11-01 00:00:00",
         "29.5",
         "28.083333333333332",
         "1.4166666666666679",
         "0.41666666666666785",
         "0.5902777777777799",
         "2.0069444444444478"
        ],
        [
         "11",
         "2025-12-01 00:00:00",
         "28.5",
         "28.083333333333332",
         "0.41666666666666785",
         null,
         null,
         "0.1736111111111121"
        ]
       ],
       "shape": {
        "columns": 7,
        "rows": 12
       }
      },
      "text/html": [
       "<div>\n",
       "<style scoped>\n",
       "    .dataframe tbody tr th:only-of-type {\n",
       "        vertical-align: middle;\n",
       "    }\n",
       "\n",
       "    .dataframe tbody tr th {\n",
       "        vertical-align: top;\n",
       "    }\n",
       "\n",
       "    .dataframe thead th {\n",
       "        text-align: right;\n",
       "    }\n",
       "</style>\n",
       "<table border=\"1\" class=\"dataframe\">\n",
       "  <thead>\n",
       "    <tr style=\"text-align: right;\">\n",
       "      <th></th>\n",
       "      <th>t</th>\n",
       "      <th>zt</th>\n",
       "      <th>z̄</th>\n",
       "      <th>z̄t</th>\n",
       "      <th>z̄t+1</th>\n",
       "      <th>z̄t*z̄t+1</th>\n",
       "      <th>z̄t^2</th>\n",
       "    </tr>\n",
       "  </thead>\n",
       "  <tbody>\n",
       "    <tr>\n",
       "      <th>0</th>\n",
       "      <td>2025-01-01</td>\n",
       "      <td>25.0</td>\n",
       "      <td>28.083333</td>\n",
       "      <td>-3.083333</td>\n",
       "      <td>-2.083333</td>\n",
       "      <td>6.423611</td>\n",
       "      <td>9.506944</td>\n",
       "    </tr>\n",
       "    <tr>\n",
       "      <th>1</th>\n",
       "      <td>2025-02-01</td>\n",
       "      <td>26.0</td>\n",
       "      <td>28.083333</td>\n",
       "      <td>-2.083333</td>\n",
       "      <td>-3.083333</td>\n",
       "      <td>6.423611</td>\n",
       "      <td>4.340278</td>\n",
       "    </tr>\n",
       "    <tr>\n",
       "      <th>2</th>\n",
       "      <td>2025-03-01</td>\n",
       "      <td>25.0</td>\n",
       "      <td>28.083333</td>\n",
       "      <td>-3.083333</td>\n",
       "      <td>-1.083333</td>\n",
       "      <td>3.340278</td>\n",
       "      <td>9.506944</td>\n",
       "    </tr>\n",
       "    <tr>\n",
       "      <th>3</th>\n",
       "      <td>2025-04-01</td>\n",
       "      <td>27.0</td>\n",
       "      <td>28.083333</td>\n",
       "      <td>-1.083333</td>\n",
       "      <td>-0.083333</td>\n",
       "      <td>0.090278</td>\n",
       "      <td>1.173611</td>\n",
       "    </tr>\n",
       "    <tr>\n",
       "      <th>4</th>\n",
       "      <td>2025-05-01</td>\n",
       "      <td>28.0</td>\n",
       "      <td>28.083333</td>\n",
       "      <td>-0.083333</td>\n",
       "      <td>-0.583333</td>\n",
       "      <td>0.048611</td>\n",
       "      <td>0.006944</td>\n",
       "    </tr>\n",
       "    <tr>\n",
       "      <th>5</th>\n",
       "      <td>2025-06-01</td>\n",
       "      <td>27.5</td>\n",
       "      <td>28.083333</td>\n",
       "      <td>-0.583333</td>\n",
       "      <td>0.916667</td>\n",
       "      <td>-0.534722</td>\n",
       "      <td>0.340278</td>\n",
       "    </tr>\n",
       "    <tr>\n",
       "      <th>6</th>\n",
       "      <td>2025-07-01</td>\n",
       "      <td>29.0</td>\n",
       "      <td>28.083333</td>\n",
       "      <td>0.916667</td>\n",
       "      <td>1.916667</td>\n",
       "      <td>1.756944</td>\n",
       "      <td>0.840278</td>\n",
       "    </tr>\n",
       "    <tr>\n",
       "      <th>7</th>\n",
       "      <td>2025-08-01</td>\n",
       "      <td>30.0</td>\n",
       "      <td>28.083333</td>\n",
       "      <td>1.916667</td>\n",
       "      <td>2.916667</td>\n",
       "      <td>5.590278</td>\n",
       "      <td>3.673611</td>\n",
       "    </tr>\n",
       "    <tr>\n",
       "      <th>8</th>\n",
       "      <td>2025-09-01</td>\n",
       "      <td>31.0</td>\n",
       "      <td>28.083333</td>\n",
       "      <td>2.916667</td>\n",
       "      <td>2.416667</td>\n",
       "      <td>7.048611</td>\n",
       "      <td>8.506944</td>\n",
       "    </tr>\n",
       "    <tr>\n",
       "      <th>9</th>\n",
       "      <td>2025-10-01</td>\n",
       "      <td>30.5</td>\n",
       "      <td>28.083333</td>\n",
       "      <td>2.416667</td>\n",
       "      <td>1.416667</td>\n",
       "      <td>3.423611</td>\n",
       "      <td>5.840278</td>\n",
       "    </tr>\n",
       "    <tr>\n",
       "      <th>10</th>\n",
       "      <td>2025-11-01</td>\n",
       "      <td>29.5</td>\n",
       "      <td>28.083333</td>\n",
       "      <td>1.416667</td>\n",
       "      <td>0.416667</td>\n",
       "      <td>0.590278</td>\n",
       "      <td>2.006944</td>\n",
       "    </tr>\n",
       "    <tr>\n",
       "      <th>11</th>\n",
       "      <td>2025-12-01</td>\n",
       "      <td>28.5</td>\n",
       "      <td>28.083333</td>\n",
       "      <td>0.416667</td>\n",
       "      <td>NaN</td>\n",
       "      <td>NaN</td>\n",
       "      <td>0.173611</td>\n",
       "    </tr>\n",
       "  </tbody>\n",
       "</table>\n",
       "</div>"
      ],
      "text/plain": [
       "            t    zt         z̄       z̄t     z̄t+1  z̄t*z̄t+1     z̄t^2\n",
       "0  2025-01-01  25.0  28.083333 -3.083333 -2.083333   6.423611  9.506944\n",
       "1  2025-02-01  26.0  28.083333 -2.083333 -3.083333   6.423611  4.340278\n",
       "2  2025-03-01  25.0  28.083333 -3.083333 -1.083333   3.340278  9.506944\n",
       "3  2025-04-01  27.0  28.083333 -1.083333 -0.083333   0.090278  1.173611\n",
       "4  2025-05-01  28.0  28.083333 -0.083333 -0.583333   0.048611  0.006944\n",
       "5  2025-06-01  27.5  28.083333 -0.583333  0.916667  -0.534722  0.340278\n",
       "6  2025-07-01  29.0  28.083333  0.916667  1.916667   1.756944  0.840278\n",
       "7  2025-08-01  30.0  28.083333  1.916667  2.916667   5.590278  3.673611\n",
       "8  2025-09-01  31.0  28.083333  2.916667  2.416667   7.048611  8.506944\n",
       "9  2025-10-01  30.5  28.083333  2.416667  1.416667   3.423611  5.840278\n",
       "10 2025-11-01  29.5  28.083333  1.416667  0.416667   0.590278  2.006944\n",
       "11 2025-12-01  28.5  28.083333  0.416667       NaN        NaN  0.173611"
      ]
     },
     "execution_count": 41,
     "metadata": {},
     "output_type": "execute_result"
    }
   ],
   "source": [
    "# Convert 't' (1..12) to monthly datetimes in 2025 without specifying a day\n",
    "df['t'] = pd.to_datetime('2025-' + df['t'].astype(str).str.zfill(2), format='%Y-%m')\n",
    "df"
   ]
  },
  {
   "cell_type": "code",
   "execution_count": 46,
   "id": "f919a15d",
   "metadata": {},
   "outputs": [
    {
     "data": {
      "image/png": "[encoded data removed]",
      "text/plain": [
       "<Figure size 1200x400 with 2 Axes>"
      ]
     },
     "metadata": {},
     "output_type": "display_data"
    }
   ],
   "source": [
    "from statsmodels.graphics.tsaplots import plot_acf, plot_pacf\n",
    "\n",
    "series = df.sort_values('t')['zt']\n",
    "\n",
    "fig, axes = plt.subplots(1, 2, figsize=(12, 4))\n",
    "axes[0].cla()\n",
    "plot_acf(series, lags=min(len(series) - 1, 12), zero=False, ax=axes[0])\n",
    "axes[0].set_title('ACF of Monthly Smartphone Sales (2025)')\n",
    "\n",
    "axes[1].cla()\n",
    "plot_pacf(series, lags=min(len(series) - 1, 6), method='ywm', zero=False, ax=axes[1])\n",
    "axes[1].set_title('PACF of Monthly Smartphone Sales (2025)')\n",
    "plt.tight_layout()"
   ]
  },
  {
   "cell_type": "code",
   "execution_count": 51,
   "id": "c91b5bc0",
   "metadata": {},
   "outputs": [
    {
     "data": {
      "application/vnd.microsoft.datawrangler.viewer.v0+json": {
       "columns": [
        {
         "name": "index",
         "rawType": "int64",
         "type": "integer"
        },
        {
         "name": "lag",
         "rawType": "int32",
         "type": "integer"
        },
        {
         "name": "acf",
         "rawType": "float64",
         "type": "float"
        },
        {
         "name": "pacf",
         "rawType": "float64",
         "type": "float"
        }
       ],
       "ref": "91d1b716-d46d-425a-8ffe-74bf0c3d91c7",
       "rows": [
        [
         "0",
         "0",
         "1.0",
         "1.0"
        ],
        [
         "1",
         "1",
         "0.7448578342407743",
         "0.7448578342407743"
        ],
        [
         "2",
         "2",
         "0.5205686630369026",
         "-0.07692170943114933"
        ],
        [
         "3",
         "3",
         "0.18738656987295835",
         "-0.39067374543127803"
        ],
        [
         "4",
         "4",
         "-0.06503327283726552",
         "-0.11149486313713343"
        ],
        [
         "5",
         "5",
         "-0.2140048396854204",
         "0.06948182040032282"
        ],
        [
         "6",
         "6",
         "-0.40925589836660614",
         "-0.38008049822469786"
        ],
        [
         "7",
         "7",
         "-0.4575015124016938",
         null
        ],
        [
         "8",
         "8",
         "-0.4104658197217181",
         null
        ],
        [
         "9",
         "9",
         "-0.2545372050816697",
         null
        ],
        [
         "10",
         "10",
         "-0.1140350877192983",
         null
        ],
        [
         "11",
         "11",
         "-0.027979431336963165",
         null
        ]
       ],
       "shape": {
        "columns": 3,
        "rows": 12
       }
      },
      "text/html": [
       "<div>\n",
       "<style scoped>\n",
       "    .dataframe tbody tr th:only-of-type {\n",
       "        vertical-align: middle;\n",
       "    }\n",
       "\n",
       "    .dataframe tbody tr th {\n",
       "        vertical-align: top;\n",
       "    }\n",
       "\n",
       "    .dataframe thead th {\n",
       "        text-align: right;\n",
       "    }\n",
       "</style>\n",
       "<table border=\"1\" class=\"dataframe\">\n",
       "  <thead>\n",
       "    <tr style=\"text-align: right;\">\n",
       "      <th></th>\n",
       "      <th>lag</th>\n",
       "      <th>acf</th>\n",
       "      <th>pacf</th>\n",
       "    </tr>\n",
       "  </thead>\n",
       "  <tbody>\n",
       "    <tr>\n",
       "      <th>0</th>\n",
       "      <td>0</td>\n",
       "      <td>1.000000</td>\n",
       "      <td>1.000000</td>\n",
       "    </tr>\n",
       "    <tr>\n",
       "      <th>1</th>\n",
       "      <td>1</td>\n",
       "      <td>0.744858</td>\n",
       "      <td>0.744858</td>\n",
       "    </tr>\n",
       "    <tr>\n",
       "      <th>2</th>\n",
       "      <td>2</td>\n",
       "      <td>0.520569</td>\n",
       "      <td>-0.076922</td>\n",
       "    </tr>\n",
       "    <tr>\n",
       "      <th>3</th>\n",
       "      <td>3</td>\n",
       "      <td>0.187387</td>\n",
       "      <td>-0.390674</td>\n",
       "    </tr>\n",
       "    <tr>\n",
       "      <th>4</th>\n",
       "      <td>4</td>\n",
       "      <td>-0.065033</td>\n",
       "      <td>-0.111495</td>\n",
       "    </tr>\n",
       "    <tr>\n",
       "      <th>5</th>\n",
       "      <td>5</td>\n",
       "      <td>-0.214005</td>\n",
       "      <td>0.069482</td>\n",
       "    </tr>\n",
       "    <tr>\n",
       "      <th>6</th>\n",
       "      <td>6</td>\n",
       "      <td>-0.409256</td>\n",
       "      <td>-0.380080</td>\n",
       "    </tr>\n",
       "    <tr>\n",
       "      <th>7</th>\n",
       "      <td>7</td>\n",
       "      <td>-0.457502</td>\n",
       "      <td>NaN</td>\n",
       "    </tr>\n",
       "    <tr>\n",
       "      <th>8</th>\n",
       "      <td>8</td>\n",
       "      <td>-0.410466</td>\n",
       "      <td>NaN</td>\n",
       "    </tr>\n",
       "    <tr>\n",
       "      <th>9</th>\n",
       "      <td>9</td>\n",
       "      <td>-0.254537</td>\n",
       "      <td>NaN</td>\n",
       "    </tr>\n",
       "    <tr>\n",
       "      <th>10</th>\n",
       "      <td>10</td>\n",
       "      <td>-0.114035</td>\n",
       "      <td>NaN</td>\n",
       "    </tr>\n",
       "    <tr>\n",
       "      <th>11</th>\n",
       "      <td>11</td>\n",
       "      <td>-0.027979</td>\n",
       "      <td>NaN</td>\n",
       "    </tr>\n",
       "  </tbody>\n",
       "</table>\n",
       "</div>"
      ],
      "text/plain": [
       "    lag       acf      pacf\n",
       "0     0  1.000000  1.000000\n",
       "1     1  0.744858  0.744858\n",
       "2     2  0.520569 -0.076922\n",
       "3     3  0.187387 -0.390674\n",
       "4     4 -0.065033 -0.111495\n",
       "5     5 -0.214005  0.069482\n",
       "6     6 -0.409256 -0.380080\n",
       "7     7 -0.457502       NaN\n",
       "8     8 -0.410466       NaN\n",
       "9     9 -0.254537       NaN\n",
       "10   10 -0.114035       NaN\n",
       "11   11 -0.027979       NaN"
      ]
     },
     "execution_count": 51,
     "metadata": {},
     "output_type": "execute_result"
    }
   ],
   "source": [
    "from statsmodels.tsa.stattools import acf as sm_acf, pacf_yw\n",
    "\n",
    "# Use the same lag setting as the plots (0..6)\n",
    "lags = min(len(series) - 1, 6)\n",
    "\n",
    "# Compute ACF and PACF values\n",
    "acf_vals = sm_acf(series, nlags=11, fft=False)\n",
    "pacf_vals = pacf_yw(series, nlags=lags, method='mle')  # matches plot_pacf(method='ywm')\n",
    "\n",
    "# Extend PACF to lags 0..11 with NaN for lags 7..11 and rebuild the DataFrame\n",
    "pacf_full = np.full(len(acf_vals), np.nan, dtype=float)\n",
    "pacf_full[:len(pacf_vals)] = pacf_vals\n",
    "\n",
    "acf_pacf_df = pd.DataFrame({\n",
    "    'lag': np.arange(len(acf_vals)),\n",
    "    'acf': acf_vals,\n",
    "    'pacf': pacf_full\n",
    "})\n",
    "acf_pacf_df"
   ]
  },
  {
   "cell_type": "code",
   "execution_count": 57,
   "id": "a2c94826",
   "metadata": {},
   "outputs": [
    {
     "data": {
      "text/plain": [
       "2.5802632266414762"
      ]
     },
     "execution_count": 57,
     "metadata": {},
     "output_type": "execute_result"
    }
   ],
   "source": [
    "sr1=1*(len(series)**(-1/2)) # standard error\n",
    "t_r1= acf_pacf_df.loc[1, 'acf'] / sr1\n",
    "t_r1"
   ]
  },
  {
   "cell_type": "code",
   "execution_count": 58,
   "id": "328a73c1",
   "metadata": {},
   "outputs": [
    {
     "data": {
      "text/plain": [
       "0.28867513459481287"
      ]
     },
     "execution_count": 58,
     "metadata": {},
     "output_type": "execute_result"
    }
   ],
   "source": [
    "sr1"
   ]
  },
  {
   "cell_type": "code",
   "execution_count": 61,
   "id": "5992f421",
   "metadata": {},
   "outputs": [
    {
     "data": {
      "application/vnd.microsoft.datawrangler.viewer.v0+json": {
       "columns": [
        {
         "name": "index",
         "rawType": "int64",
         "type": "integer"
        },
        {
         "name": "lag",
         "rawType": "int32",
         "type": "integer"
        },
        {
         "name": "acf",
         "rawType": "float64",
         "type": "float"
        },
        {
         "name": "pacf",
         "rawType": "float64",
         "type": "float"
        },
        {
         "name": "acf_se",
         "rawType": "float64",
         "type": "float"
        },
        {
         "name": "acf_t",
         "rawType": "float64",
         "type": "float"
        },
        {
         "name": "pacf_se",
         "rawType": "float64",
         "type": "float"
        },
        {
         "name": "pacf_t",
         "rawType": "float64",
         "type": "float"
        }
       ],
       "ref": "71cf388e-955c-4010-ac0c-aaf1f217b0d9",
       "rows": [
        [
         "0",
         "0",
         "1.0",
         "1.0",
         null,
         null,
         null,
         null
        ],
        [
         "1",
         "1",
         "0.7448578342407743",
         "0.7448578342407743",
         "0.2581988897471611",
         "2.5802632266414762",
         "0.2581988897471611",
         "2.5802632266414762"
        ],
        [
         "2",
         "2",
         "0.5205686630369026",
         "-0.07692170943114933",
         "0.3750223447973657",
         "1.803302746416236",
         "0.2581988897471611",
         "-0.2664646178796014"
        ],
        [
         "3",
         "3",
         "0.18738656987295835",
         "-0.39067374543127803",
         "0.4204449906414052",
         "0.6491261193520387",
         "0.2581988897471611",
         "-1.3533335525404062"
        ],
        [
         "4",
         "4",
         "-0.06503327283726552",
         "-0.11149486313713343",
         "0.4259763143234826",
         "-0.22528186547326576",
         "0.2581988897471611",
         "-0.3862295354729068"
        ],
        [
         "5",
         "5",
         "-0.2140048396854204",
         "0.06948182040032282",
         "0.42663770411760604",
         "-0.741334510801561",
         "0.2581988897471611",
         "0.24069208627146965"
        ],
        [
         "6",
         "6",
         "-0.40925589836660614",
         "-0.38008049822469786",
         "0.4337351036011645",
         "-1.417704018536413",
         "0.2581988897471611",
         "-1.3166374677825383"
        ],
        [
         "7",
         "7",
         "-0.4575015124016938",
         null,
         "0.4587572257112622",
         "-1.5848317280386728",
         null,
         null
        ],
        [
         "8",
         "8",
         "-0.4104658197217181",
         null,
         "0.48822727971264124",
         "-1.421895309056846",
         null,
         null
        ],
        [
         "9",
         "9",
         "-0.2545372050816697",
         null,
         "0.5107153498217788",
         "-0.8817427432360618",
         null,
         null
        ],
        [
         "10",
         "10",
         "-0.1140350877192983",
         null,
         "0.5191037729070688",
         "-0.3950291315507967",
         null,
         null
        ],
        [
         "11",
         "11",
         "-0.027979431336963165",
         null,
         "0.5207711530770242",
         "-0.09692359328501",
         null,
         null
        ]
       ],
       "shape": {
        "columns": 7,
        "rows": 12
       }
      },
      "text/html": [
       "<div>\n",
       "<style scoped>\n",
       "    .dataframe tbody tr th:only-of-type {\n",
       "        vertical-align: middle;\n",
       "    }\n",
       "\n",
       "    .dataframe tbody tr th {\n",
       "        vertical-align: top;\n",
       "    }\n",
       "\n",
       "    .dataframe thead th {\n",
       "        text-align: right;\n",
       "    }\n",
       "</style>\n",
       "<table border=\"1\" class=\"dataframe\">\n",
       "  <thead>\n",
       "    <tr style=\"text-align: right;\">\n",
       "      <th></th>\n",
       "      <th>lag</th>\n",
       "      <th>acf</th>\n",
       "      <th>pacf</th>\n",
       "      <th>acf_se</th>\n",
       "      <th>acf_t</th>\n",
       "      <th>pacf_se</th>\n",
       "      <th>pacf_t</th>\n",
       "    </tr>\n",
       "  </thead>\n",
       "  <tbody>\n",
       "    <tr>\n",
       "      <th>0</th>\n",
       "      <td>0</td>\n",
       "      <td>1.000000</td>\n",
       "      <td>1.000000</td>\n",
       "      <td>NaN</td>\n",
       "      <td>NaN</td>\n",
       "      <td>NaN</td>\n",
       "      <td>NaN</td>\n",
       "    </tr>\n",
       "    <tr>\n",
       "      <th>1</th>\n",
       "      <td>1</td>\n",
       "      <td>0.744858</td>\n",
       "      <td>0.744858</td>\n",
       "      <td>0.258199</td>\n",
       "      <td>2.580263</td>\n",
       "      <td>0.258199</td>\n",
       "      <td>2.580263</td>\n",
       "    </tr>\n",
       "    <tr>\n",
       "      <th>2</th>\n",
       "      <td>2</td>\n",
       "      <td>0.520569</td>\n",
       "      <td>-0.076922</td>\n",
       "      <td>0.375022</td>\n",
       "      <td>1.803303</td>\n",
       "      <td>0.258199</td>\n",
       "      <td>-0.266465</td>\n",
       "    </tr>\n",
       "    <tr>\n",
       "      <th>3</th>\n",
       "      <td>3</td>\n",
       "      <td>0.187387</td>\n",
       "      <td>-0.390674</td>\n",
       "      <td>0.420445</td>\n",
       "      <td>0.649126</td>\n",
       "      <td>0.258199</td>\n",
       "      <td>-1.353334</td>\n",
       "    </tr>\n",
       "    <tr>\n",
       "      <th>4</th>\n",
       "      <td>4</td>\n",
       "      <td>-0.065033</td>\n",
       "      <td>-0.111495</td>\n",
       "      <td>0.425976</td>\n",
       "      <td>-0.225282</td>\n",
       "      <td>0.258199</td>\n",
       "      <td>-0.386230</td>\n",
       "    </tr>\n",
       "    <tr>\n",
       "      <th>5</th>\n",
       "      <td>5</td>\n",
       "      <td>-0.214005</td>\n",
       "      <td>0.069482</td>\n",
       "      <td>0.426638</td>\n",
       "      <td>-0.741335</td>\n",
       "      <td>0.258199</td>\n",
       "      <td>0.240692</td>\n",
       "    </tr>\n",
       "    <tr>\n",
       "      <th>6</th>\n",
       "      <td>6</td>\n",
       "      <td>-0.409256</td>\n",
       "      <td>-0.380080</td>\n",
       "      <td>0.433735</td>\n",
       "      <td>-1.417704</td>\n",
       "      <td>0.258199</td>\n",
       "      <td>-1.316637</td>\n",
       "    </tr>\n",
       "    <tr>\n",
       "      <th>7</th>\n",
       "      <td>7</td>\n",
       "      <td>-0.457502</td>\n",
       "      <td>NaN</td>\n",
       "      <td>0.458757</td>\n",
       "      <td>-1.584832</td>\n",
       "      <td>NaN</td>\n",
       "      <td>NaN</td>\n",
       "    </tr>\n",
       "    <tr>\n",
       "      <th>8</th>\n",
       "      <td>8</td>\n",
       "      <td>-0.410466</td>\n",
       "      <td>NaN</td>\n",
       "      <td>0.488227</td>\n",
       "      <td>-1.421895</td>\n",
       "      <td>NaN</td>\n",
       "      <td>NaN</td>\n",
       "    </tr>\n",
       "    <tr>\n",
       "      <th>9</th>\n",
       "      <td>9</td>\n",
       "      <td>-0.254537</td>\n",
       "      <td>NaN</td>\n",
       "      <td>0.510715</td>\n",
       "      <td>-0.881743</td>\n",
       "      <td>NaN</td>\n",
       "      <td>NaN</td>\n",
       "    </tr>\n",
       "    <tr>\n",
       "      <th>10</th>\n",
       "      <td>10</td>\n",
       "      <td>-0.114035</td>\n",
       "      <td>NaN</td>\n",
       "      <td>0.519104</td>\n",
       "      <td>-0.395029</td>\n",
       "      <td>NaN</td>\n",
       "      <td>NaN</td>\n",
       "    </tr>\n",
       "    <tr>\n",
       "      <th>11</th>\n",
       "      <td>11</td>\n",
       "      <td>-0.027979</td>\n",
       "      <td>NaN</td>\n",
       "      <td>0.520771</td>\n",
       "      <td>-0.096924</td>\n",
       "      <td>NaN</td>\n",
       "      <td>NaN</td>\n",
       "    </tr>\n",
       "  </tbody>\n",
       "</table>\n",
       "</div>"
      ],
      "text/plain": [
       "    lag       acf      pacf    acf_se     acf_t   pacf_se    pacf_t\n",
       "0     0  1.000000  1.000000       NaN       NaN       NaN       NaN\n",
       "1     1  0.744858  0.744858  0.258199  2.580263  0.258199  2.580263\n",
       "2     2  0.520569 -0.076922  0.375022  1.803303  0.258199 -0.266465\n",
       "3     3  0.187387 -0.390674  0.420445  0.649126  0.258199 -1.353334\n",
       "4     4 -0.065033 -0.111495  0.425976 -0.225282  0.258199 -0.386230\n",
       "5     5 -0.214005  0.069482  0.426638 -0.741335  0.258199  0.240692\n",
       "6     6 -0.409256 -0.380080  0.433735 -1.417704  0.258199 -1.316637\n",
       "7     7 -0.457502       NaN  0.458757 -1.584832       NaN       NaN\n",
       "8     8 -0.410466       NaN  0.488227 -1.421895       NaN       NaN\n",
       "9     9 -0.254537       NaN  0.510715 -0.881743       NaN       NaN\n",
       "10   10 -0.114035       NaN  0.519104 -0.395029       NaN       NaN\n",
       "11   11 -0.027979       NaN  0.520771 -0.096924       NaN       NaN"
      ]
     },
     "execution_count": 61,
     "metadata": {},
     "output_type": "execute_result"
    }
   ],
   "source": [
    "# Add t-statistics for ACF and PACF (approx t = value * sqrt(n), for lags > 0)\n",
    "n = len(series)\n",
    "sqrt_n = np.sqrt(n)\n",
    "mask0 = acf_pacf_df['lag'] == 0\n",
    "\n",
    "acf_pacf_df['acf_t'] = acf_pacf_df['acf'] * sqrt_n\n",
    "acf_pacf_df.loc[mask0, 'acf_t'] = np.nan\n",
    "\n",
    "acf_pacf_df['pacf_t'] = acf_pacf_df['pacf'] * sqrt_n\n",
    "acf_pacf_df.loc[mask0, 'pacf_t'] = np.nan\n",
    "\n",
    "acf_pacf_df"
   ]
  },
  {
   "cell_type": "code",
   "execution_count": 62,
   "id": "e463beb0",
   "metadata": {},
   "outputs": [
    {
     "data": {
      "application/vnd.microsoft.datawrangler.viewer.v0+json": {
       "columns": [
        {
         "name": "index",
         "rawType": "int64",
         "type": "integer"
        },
        {
         "name": "lag",
         "rawType": "int32",
         "type": "integer"
        },
        {
         "name": "acf",
         "rawType": "float64",
         "type": "float"
        },
        {
         "name": "pacf",
         "rawType": "float64",
         "type": "float"
        },
        {
         "name": "acf_se",
         "rawType": "float64",
         "type": "float"
        },
        {
         "name": "acf_t",
         "rawType": "float64",
         "type": "float"
        },
        {
         "name": "pacf_se",
         "rawType": "float64",
         "type": "float"
        },
        {
         "name": "pacf_t",
         "rawType": "float64",
         "type": "float"
        }
       ],
       "ref": "2e558f8d-145a-49fe-9253-381a915a0940",
       "rows": [
        [
         "0",
         "0",
         "1.0",
         "1.0",
         null,
         null,
         null,
         null
        ],
        [
         "1",
         "1",
         "0.7448578342407743",
         "0.7448578342407743",
         "0.28867513459481287",
         "2.5802632266414762",
         "0.2581988897471611",
         "2.5802632266414762"
        ],
        [
         "2",
         "2",
         "0.5205686630369026",
         "-0.07692170943114933",
         "0.41928772802413716",
         "1.241554732570029",
         "0.2581988897471611",
         "-0.2664646178796014"
        ],
        [
         "3",
         "3",
         "0.18738656987295835",
         "-0.39067374543127803",
         "0.4700717899367225",
         "0.39863394035660576",
         "0.2581988897471611",
         "-1.3533335525404062"
        ],
        [
         "4",
         "4",
         "-0.06503327283726552",
         "-0.11149486313713343",
         "0.4762559978160622",
         "-0.13655108415533787",
         "0.2581988897471611",
         "-0.3862295354729068"
        ],
        [
         "5",
         "5",
         "-0.2140048396854204",
         "0.06948182040032282",
         "0.4769954540857045",
         "-0.4486517384020371",
         "0.2581988897471611",
         "0.24069208627146965"
        ],
        [
         "6",
         "6",
         "-0.40925589836660614",
         "-0.38008049822469786",
         "0.4849305879400589",
         "-0.8439473783352954",
         "0.2581988897471611",
         "-1.3166374677825383"
        ],
        [
         "7",
         "7",
         "-0.4575015124016938",
         null,
         "0.5129061709297983",
         "-0.8919789589825626",
         null,
         null
        ],
        [
         "8",
         "8",
         "-0.4104658197217181",
         null,
         "0.5458546929536349",
         "-0.7519690221965046",
         null,
         null
        ],
        [
         "9",
         "9",
         "-0.2545372050816697",
         null,
         "0.5709971196770413",
         "-0.44577668837565626",
         null,
         null
        ],
        [
         "10",
         "10",
         "-0.1140350877192983",
         null,
         "0.5803756617984097",
         "-0.1964849583215427",
         null,
         null
        ],
        [
         "11",
         "11",
         "-0.027979431336963165",
         null,
         "0.5822398495005874",
         "-0.04805482029607274",
         null,
         null
        ]
       ],
       "shape": {
        "columns": 7,
        "rows": 12
       }
      },
      "text/html": [
       "<div>\n",
       "<style scoped>\n",
       "    .dataframe tbody tr th:only-of-type {\n",
       "        vertical-align: middle;\n",
       "    }\n",
       "\n",
       "    .dataframe tbody tr th {\n",
       "        vertical-align: top;\n",
       "    }\n",
       "\n",
       "    .dataframe thead th {\n",
       "        text-align: right;\n",
       "    }\n",
       "</style>\n",
       "<table border=\"1\" class=\"dataframe\">\n",
       "  <thead>\n",
       "    <tr style=\"text-align: right;\">\n",
       "      <th></th>\n",
       "      <th>lag</th>\n",
       "      <th>acf</th>\n",
       "      <th>pacf</th>\n",
       "      <th>acf_se</th>\n",
       "      <th>acf_t</th>\n",
       "      <th>pacf_se</th>\n",
       "      <th>pacf_t</th>\n",
       "    </tr>\n",
       "  </thead>\n",
       "  <tbody>\n",
       "    <tr>\n",
       "      <th>0</th>\n",
       "      <td>0</td>\n",
       "      <td>1.000000</td>\n",
       "      <td>1.000000</td>\n",
       "      <td>NaN</td>\n",
       "      <td>NaN</td>\n",
       "      <td>NaN</td>\n",
       "      <td>NaN</td>\n",
       "    </tr>\n",
       "    <tr>\n",
       "      <th>1</th>\n",
       "      <td>1</td>\n",
       "      <td>0.744858</td>\n",
       "      <td>0.744858</td>\n",
       "      <td>0.288675</td>\n",
       "      <td>2.580263</td>\n",
       "      <td>0.258199</td>\n",
       "      <td>2.580263</td>\n",
       "    </tr>\n",
       "    <tr>\n",
       "      <th>2</th>\n",
       "      <td>2</td>\n",
       "      <td>0.520569</td>\n",
       "      <td>-0.076922</td>\n",
       "      <td>0.419288</td>\n",
       "      <td>1.241555</td>\n",
       "      <td>0.258199</td>\n",
       "      <td>-0.266465</td>\n",
       "    </tr>\n",
       "    <tr>\n",
       "      <th>3</th>\n",
       "      <td>3</td>\n",
       "      <td>0.187387</td>\n",
       "      <td>-0.390674</td>\n",
       "      <td>0.470072</td>\n",
       "      <td>0.398634</td>\n",
       "      <td>0.258199</td>\n",
       "      <td>-1.353334</td>\n",
       "    </tr>\n",
       "    <tr>\n",
       "      <th>4</th>\n",
       "      <td>4</td>\n",
       "      <td>-0.065033</td>\n",
       "      <td>-0.111495</td>\n",
       "      <td>0.476256</td>\n",
       "      <td>-0.136551</td>\n",
       "      <td>0.258199</td>\n",
       "      <td>-0.386230</td>\n",
       "    </tr>\n",
       "    <tr>\n",
       "      <th>5</th>\n",
       "      <td>5</td>\n",
       "      <td>-0.214005</td>\n",
       "      <td>0.069482</td>\n",
       "      <td>0.476995</td>\n",
       "      <td>-0.448652</td>\n",
       "      <td>0.258199</td>\n",
       "      <td>0.240692</td>\n",
       "    </tr>\n",
       "    <tr>\n",
       "      <th>6</th>\n",
       "      <td>6</td>\n",
       "      <td>-0.409256</td>\n",
       "      <td>-0.380080</td>\n",
       "      <td>0.484931</td>\n",
       "      <td>-0.843947</td>\n",
       "      <td>0.258199</td>\n",
       "      <td>-1.316637</td>\n",
       "    </tr>\n",
       "    <tr>\n",
       "      <th>7</th>\n",
       "      <td>7</td>\n",
       "      <td>-0.457502</td>\n",
       "      <td>NaN</td>\n",
       "      <td>0.512906</td>\n",
       "      <td>-0.891979</td>\n",
       "      <td>NaN</td>\n",
       "      <td>NaN</td>\n",
       "    </tr>\n",
       "    <tr>\n",
       "      <th>8</th>\n",
       "      <td>8</td>\n",
       "      <td>-0.410466</td>\n",
       "      <td>NaN</td>\n",
       "      <td>0.545855</td>\n",
       "      <td>-0.751969</td>\n",
       "      <td>NaN</td>\n",
       "      <td>NaN</td>\n",
       "    </tr>\n",
       "    <tr>\n",
       "      <th>9</th>\n",
       "      <td>9</td>\n",
       "      <td>-0.254537</td>\n",
       "      <td>NaN</td>\n",
       "      <td>0.570997</td>\n",
       "      <td>-0.445777</td>\n",
       "      <td>NaN</td>\n",
       "      <td>NaN</td>\n",
       "    </tr>\n",
       "    <tr>\n",
       "      <th>10</th>\n",
       "      <td>10</td>\n",
       "      <td>-0.114035</td>\n",
       "      <td>NaN</td>\n",
       "      <td>0.580376</td>\n",
       "      <td>-0.196485</td>\n",
       "      <td>NaN</td>\n",
       "      <td>NaN</td>\n",
       "    </tr>\n",
       "    <tr>\n",
       "      <th>11</th>\n",
       "      <td>11</td>\n",
       "      <td>-0.027979</td>\n",
       "      <td>NaN</td>\n",
       "      <td>0.582240</td>\n",
       "      <td>-0.048055</td>\n",
       "      <td>NaN</td>\n",
       "      <td>NaN</td>\n",
       "    </tr>\n",
       "  </tbody>\n",
       "</table>\n",
       "</div>"
      ],
      "text/plain": [
       "    lag       acf      pacf    acf_se     acf_t   pacf_se    pacf_t\n",
       "0     0  1.000000  1.000000       NaN       NaN       NaN       NaN\n",
       "1     1  0.744858  0.744858  0.288675  2.580263  0.258199  2.580263\n",
       "2     2  0.520569 -0.076922  0.419288  1.241555  0.258199 -0.266465\n",
       "3     3  0.187387 -0.390674  0.470072  0.398634  0.258199 -1.353334\n",
       "4     4 -0.065033 -0.111495  0.476256 -0.136551  0.258199 -0.386230\n",
       "5     5 -0.214005  0.069482  0.476995 -0.448652  0.258199  0.240692\n",
       "6     6 -0.409256 -0.380080  0.484931 -0.843947  0.258199 -1.316637\n",
       "7     7 -0.457502       NaN  0.512906 -0.891979       NaN       NaN\n",
       "8     8 -0.410466       NaN  0.545855 -0.751969       NaN       NaN\n",
       "9     9 -0.254537       NaN  0.570997 -0.445777       NaN       NaN\n",
       "10   10 -0.114035       NaN  0.580376 -0.196485       NaN       NaN\n",
       "11   11 -0.027979       NaN  0.582240 -0.048055       NaN       NaN"
      ]
     },
     "execution_count": 62,
     "metadata": {},
     "output_type": "execute_result"
    }
   ],
   "source": [
    "# Fix acf_t using: se_k = sqrt((1 + 2 * sum_{j=1}^{k-1} r_j^2) / n),  t_k = r_k / se_k  for k >= 1\n",
    "r = acf_pacf_df['acf'].to_numpy()\n",
    "K = len(r) - 1\n",
    "\n",
    "cum_sq = np.cumsum(r[1:]**2)                      # r1^2, r2^2, ...\n",
    "S = np.concatenate(([0.0], cum_sq[:-1])) if K > 0 else np.array([], dtype=float)  # sum_{j=1}^{k-1} r_j^2\n",
    "\n",
    "acf_se = np.full(len(r), np.nan, dtype=float)\n",
    "if K > 0:\n",
    "    acf_se[1:] = np.sqrt((1.0 + 2.0 * S) / n)\n",
    "\n",
    "acf_t_fixed = np.full(len(r), np.nan, dtype=float)\n",
    "if K > 0:\n",
    "    acf_t_fixed[1:] = r[1:] / acf_se[1:]\n",
    "\n",
    "acf_pacf_df['acf_se'] = acf_se\n",
    "acf_pacf_df['acf_t'] = acf_t_fixed\n",
    "\n",
    "acf_pacf_df"
   ]
  },
  {
   "cell_type": "code",
   "execution_count": 63,
   "id": "0db22776",
   "metadata": {},
   "outputs": [
    {
     "data": {
      "application/vnd.microsoft.datawrangler.viewer.v0+json": {
       "columns": [
        {
         "name": "index",
         "rawType": "int64",
         "type": "integer"
        },
        {
         "name": "lag",
         "rawType": "int32",
         "type": "integer"
        },
        {
         "name": "acf",
         "rawType": "float64",
         "type": "float"
        },
        {
         "name": "pacf",
         "rawType": "float64",
         "type": "float"
        },
        {
         "name": "acf_se",
         "rawType": "float64",
         "type": "float"
        },
        {
         "name": "acf_t",
         "rawType": "float64",
         "type": "float"
        },
        {
         "name": "pacf_se",
         "rawType": "float64",
         "type": "float"
        },
        {
         "name": "pacf_t",
         "rawType": "float64",
         "type": "float"
        }
       ],
       "ref": "6d046353-92cb-46f1-a928-ac4e133e9c64",
       "rows": [
        [
         "0",
         "0",
         "1.0",
         "1.0",
         null,
         null,
         null,
         null
        ],
        [
         "1",
         "1",
         "0.7448578342407743",
         "0.7448578342407743",
         "0.28867513459481287",
         "2.5802632266414762",
         "0.2886751345948129",
         "2.580263226641476"
        ],
        [
         "2",
         "2",
         "0.5205686630369026",
         "-0.07692170943114933",
         "0.41928772802413716",
         "1.241554732570029",
         "0.2886751345948129",
         "-0.2664646178796014"
        ],
        [
         "3",
         "3",
         "0.18738656987295835",
         "-0.39067374543127803",
         "0.4700717899367225",
         "0.39863394035660576",
         "0.2886751345948129",
         "-1.353333552540406"
        ],
        [
         "4",
         "4",
         "-0.06503327283726552",
         "-0.11149486313713343",
         "0.4762559978160622",
         "-0.13655108415533787",
         "0.2886751345948129",
         "-0.3862295354729068"
        ],
        [
         "5",
         "5",
         "-0.2140048396854204",
         "0.06948182040032282",
         "0.4769954540857045",
         "-0.4486517384020371",
         "0.2886751345948129",
         "0.24069208627146962"
        ],
        [
         "6",
         "6",
         "-0.40925589836660614",
         "-0.38008049822469786",
         "0.4849305879400589",
         "-0.8439473783352954",
         "0.2886751345948129",
         "-1.316637467782538"
        ],
        [
         "7",
         "7",
         "-0.4575015124016938",
         null,
         "0.5129061709297983",
         "-0.8919789589825626",
         null,
         null
        ],
        [
         "8",
         "8",
         "-0.4104658197217181",
         null,
         "0.5458546929536349",
         "-0.7519690221965046",
         null,
         null
        ],
        [
         "9",
         "9",
         "-0.2545372050816697",
         null,
         "0.5709971196770413",
         "-0.44577668837565626",
         null,
         null
        ],
        [
         "10",
         "10",
         "-0.1140350877192983",
         null,
         "0.5803756617984097",
         "-0.1964849583215427",
         null,
         null
        ],
        [
         "11",
         "11",
         "-0.027979431336963165",
         null,
         "0.5822398495005874",
         "-0.04805482029607274",
         null,
         null
        ]
       ],
       "shape": {
        "columns": 7,
        "rows": 12
       }
      },
      "text/html": [
       "<div>\n",
       "<style scoped>\n",
       "    .dataframe tbody tr th:only-of-type {\n",
       "        vertical-align: middle;\n",
       "    }\n",
       "\n",
       "    .dataframe tbody tr th {\n",
       "        vertical-align: top;\n",
       "    }\n",
       "\n",
       "    .dataframe thead th {\n",
       "        text-align: right;\n",
       "    }\n",
       "</style>\n",
       "<table border=\"1\" class=\"dataframe\">\n",
       "  <thead>\n",
       "    <tr style=\"text-align: right;\">\n",
       "      <th></th>\n",
       "      <th>lag</th>\n",
       "      <th>acf</th>\n",
       "      <th>pacf</th>\n",
       "      <th>acf_se</th>\n",
       "      <th>acf_t</th>\n",
       "      <th>pacf_se</th>\n",
       "      <th>pacf_t</th>\n",
       "    </tr>\n",
       "  </thead>\n",
       "  <tbody>\n",
       "    <tr>\n",
       "      <th>0</th>\n",
       "      <td>0</td>\n",
       "      <td>1.000000</td>\n",
       "      <td>1.000000</td>\n",
       "      <td>NaN</td>\n",
       "      <td>NaN</td>\n",
       "      <td>NaN</td>\n",
       "      <td>NaN</td>\n",
       "    </tr>\n",
       "    <tr>\n",
       "      <th>1</th>\n",
       "      <td>1</td>\n",
       "      <td>0.744858</td>\n",
       "      <td>0.744858</td>\n",
       "      <td>0.288675</td>\n",
       "      <td>2.580263</td>\n",
       "      <td>0.288675</td>\n",
       "      <td>2.580263</td>\n",
       "    </tr>\n",
       "    <tr>\n",
       "      <th>2</th>\n",
       "      <td>2</td>\n",
       "      <td>0.520569</td>\n",
       "      <td>-0.076922</td>\n",
       "      <td>0.419288</td>\n",
       "      <td>1.241555</td>\n",
       "      <td>0.288675</td>\n",
       "      <td>-0.266465</td>\n",
       "    </tr>\n",
       "    <tr>\n",
       "      <th>3</th>\n",
       "      <td>3</td>\n",
       "      <td>0.187387</td>\n",
       "      <td>-0.390674</td>\n",
       "      <td>0.470072</td>\n",
       "      <td>0.398634</td>\n",
       "      <td>0.288675</td>\n",
       "      <td>-1.353334</td>\n",
       "    </tr>\n",
       "    <tr>\n",
       "      <th>4</th>\n",
       "      <td>4</td>\n",
       "      <td>-0.065033</td>\n",
       "      <td>-0.111495</td>\n",
       "      <td>0.476256</td>\n",
       "      <td>-0.136551</td>\n",
       "      <td>0.288675</td>\n",
       "      <td>-0.386230</td>\n",
       "    </tr>\n",
       "    <tr>\n",
       "      <th>5</th>\n",
       "      <td>5</td>\n",
       "      <td>-0.214005</td>\n",
       "      <td>0.069482</td>\n",
       "      <td>0.476995</td>\n",
       "      <td>-0.448652</td>\n",
       "      <td>0.288675</td>\n",
       "      <td>0.240692</td>\n",
       "    </tr>\n",
       "    <tr>\n",
       "      <th>6</th>\n",
       "      <td>6</td>\n",
       "      <td>-0.409256</td>\n",
       "      <td>-0.380080</td>\n",
       "      <td>0.484931</td>\n",
       "      <td>-0.843947</td>\n",
       "      <td>0.288675</td>\n",
       "      <td>-1.316637</td>\n",
       "    </tr>\n",
       "    <tr>\n",
       "      <th>7</th>\n",
       "      <td>7</td>\n",
       "      <td>-0.457502</td>\n",
       "      <td>NaN</td>\n",
       "      <td>0.512906</td>\n",
       "      <td>-0.891979</td>\n",
       "      <td>NaN</td>\n",
       "      <td>NaN</td>\n",
       "    </tr>\n",
       "    <tr>\n",
       "      <th>8</th>\n",
       "      <td>8</td>\n",
       "      <td>-0.410466</td>\n",
       "      <td>NaN</td>\n",
       "      <td>0.545855</td>\n",
       "      <td>-0.751969</td>\n",
       "      <td>NaN</td>\n",
       "      <td>NaN</td>\n",
       "    </tr>\n",
       "    <tr>\n",
       "      <th>9</th>\n",
       "      <td>9</td>\n",
       "      <td>-0.254537</td>\n",
       "      <td>NaN</td>\n",
       "      <td>0.570997</td>\n",
       "      <td>-0.445777</td>\n",
       "      <td>NaN</td>\n",
       "      <td>NaN</td>\n",
       "    </tr>\n",
       "    <tr>\n",
       "      <th>10</th>\n",
       "      <td>10</td>\n",
       "      <td>-0.114035</td>\n",
       "      <td>NaN</td>\n",
       "      <td>0.580376</td>\n",
       "      <td>-0.196485</td>\n",
       "      <td>NaN</td>\n",
       "      <td>NaN</td>\n",
       "    </tr>\n",
       "    <tr>\n",
       "      <th>11</th>\n",
       "      <td>11</td>\n",
       "      <td>-0.027979</td>\n",
       "      <td>NaN</td>\n",
       "      <td>0.582240</td>\n",
       "      <td>-0.048055</td>\n",
       "      <td>NaN</td>\n",
       "      <td>NaN</td>\n",
       "    </tr>\n",
       "  </tbody>\n",
       "</table>\n",
       "</div>"
      ],
      "text/plain": [
       "    lag       acf      pacf    acf_se     acf_t   pacf_se    pacf_t\n",
       "0     0  1.000000  1.000000       NaN       NaN       NaN       NaN\n",
       "1     1  0.744858  0.744858  0.288675  2.580263  0.288675  2.580263\n",
       "2     2  0.520569 -0.076922  0.419288  1.241555  0.288675 -0.266465\n",
       "3     3  0.187387 -0.390674  0.470072  0.398634  0.288675 -1.353334\n",
       "4     4 -0.065033 -0.111495  0.476256 -0.136551  0.288675 -0.386230\n",
       "5     5 -0.214005  0.069482  0.476995 -0.448652  0.288675  0.240692\n",
       "6     6 -0.409256 -0.380080  0.484931 -0.843947  0.288675 -1.316637\n",
       "7     7 -0.457502       NaN  0.512906 -0.891979       NaN       NaN\n",
       "8     8 -0.410466       NaN  0.545855 -0.751969       NaN       NaN\n",
       "9     9 -0.254537       NaN  0.570997 -0.445777       NaN       NaN\n",
       "10   10 -0.114035       NaN  0.580376 -0.196485       NaN       NaN\n",
       "11   11 -0.027979       NaN  0.582240 -0.048055       NaN       NaN"
      ]
     },
     "execution_count": 63,
     "metadata": {},
     "output_type": "execute_result"
    }
   ],
   "source": [
    "# Fix pacf_t using se(phi_k) ≈ 1/sqrt(n) for k ≥ 1 (white-noise null)\n",
    "sqrt_n = np.sqrt(n)\n",
    "se_const = 1.0 / sqrt_n  # sqrt_n already available\n",
    "\n",
    "mask = (acf_pacf_df['lag'] > 0) & acf_pacf_df['pacf'].notna()\n",
    "\n",
    "pacf_se = np.full(len(acf_pacf_df), np.nan, dtype=float)\n",
    "pacf_se[mask] = se_const\n",
    "\n",
    "pacf_t_fixed = np.full(len(acf_pacf_df), np.nan, dtype=float)\n",
    "pacf_t_fixed[mask] = acf_pacf_df.loc[mask, 'pacf'].to_numpy() / se_const\n",
    "\n",
    "acf_pacf_df['pacf_se'] = pacf_se\n",
    "acf_pacf_df['pacf_t'] = pacf_t_fixed\n",
    "\n",
    "acf_pacf_df"
   ]
  }
 ],
 "metadata": {
  "kernelspec": {
   "display_name": "myenv (3.11.1)",
   "language": "python",
   "name": "python3"
  },
  "language_info": {
   "codemirror_mode": {
    "name": "ipython",
    "version": 3
   },
   "file_extension": ".py",
   "mimetype": "text/x-python",
   "name": "python",
   "nbconvert_exporter": "python",
   "pygments_lexer": "ipython3",
   "version": "3.11.1"
  }
 },
 "nbformat": 4,
 "nbformat_minor": 5
}
