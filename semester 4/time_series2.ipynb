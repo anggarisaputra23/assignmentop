{
 "cells": [
  {
   "cell_type": "code",
   "execution_count": 1,
   "id": "04f19e9d",
   "metadata": {},
   "outputs": [],
   "source": [
    "import pandas as pd\n",
    "import numpy as np\n",
    "import matplotlib.pyplot as plt\n",
    "import seaborn as sns"
   ]
  },
  {
   "cell_type": "code",
   "execution_count": 2,
   "id": "7dd93e3a",
   "metadata": {},
   "outputs": [
    {
     "data": {
      "application/vnd.microsoft.datawrangler.viewer.v0+json": {
       "columns": [
        {
         "name": "index",
         "rawType": "int64",
         "type": "integer"
        },
        {
         "name": "t",
         "rawType": "int64",
         "type": "integer"
        },
        {
         "name": "zt",
         "rawType": "int64",
         "type": "integer"
        }
       ],
       "ref": "87e0f9b5-c048-4281-9872-2f7b592d7444",
       "rows": [
        [
         "0",
         "1",
         "210"
        ],
        [
         "1",
         "2",
         "225"
        ],
        [
         "2",
         "3",
         "198"
        ],
        [
         "3",
         "4",
         "240"
        ],
        [
         "4",
         "5",
         "215"
        ],
        [
         "5",
         "6",
         "180"
        ],
        [
         "6",
         "7",
         "205"
        ],
        [
         "7",
         "8",
         "250"
        ],
        [
         "8",
         "9",
         "195"
        ],
        [
         "9",
         "10",
         "230"
        ],
        [
         "10",
         "11",
         "200"
        ],
        [
         "11",
         "12",
         "245"
        ]
       ],
       "shape": {
        "columns": 2,
        "rows": 12
       }
      },
      "text/html": [
       "<div>\n",
       "<style scoped>\n",
       "    .dataframe tbody tr th:only-of-type {\n",
       "        vertical-align: middle;\n",
       "    }\n",
       "\n",
       "    .dataframe tbody tr th {\n",
       "        vertical-align: top;\n",
       "    }\n",
       "\n",
       "    .dataframe thead th {\n",
       "        text-align: right;\n",
       "    }\n",
       "</style>\n",
       "<table border=\"1\" class=\"dataframe\">\n",
       "  <thead>\n",
       "    <tr style=\"text-align: right;\">\n",
       "      <th></th>\n",
       "      <th>t</th>\n",
       "      <th>zt</th>\n",
       "    </tr>\n",
       "  </thead>\n",
       "  <tbody>\n",
       "    <tr>\n",
       "      <th>0</th>\n",
       "      <td>1</td>\n",
       "      <td>210</td>\n",
       "    </tr>\n",
       "    <tr>\n",
       "      <th>1</th>\n",
       "      <td>2</td>\n",
       "      <td>225</td>\n",
       "    </tr>\n",
       "    <tr>\n",
       "      <th>2</th>\n",
       "      <td>3</td>\n",
       "      <td>198</td>\n",
       "    </tr>\n",
       "    <tr>\n",
       "      <th>3</th>\n",
       "      <td>4</td>\n",
       "      <td>240</td>\n",
       "    </tr>\n",
       "    <tr>\n",
       "      <th>4</th>\n",
       "      <td>5</td>\n",
       "      <td>215</td>\n",
       "    </tr>\n",
       "    <tr>\n",
       "      <th>5</th>\n",
       "      <td>6</td>\n",
       "      <td>180</td>\n",
       "    </tr>\n",
       "    <tr>\n",
       "      <th>6</th>\n",
       "      <td>7</td>\n",
       "      <td>205</td>\n",
       "    </tr>\n",
       "    <tr>\n",
       "      <th>7</th>\n",
       "      <td>8</td>\n",
       "      <td>250</td>\n",
       "    </tr>\n",
       "    <tr>\n",
       "      <th>8</th>\n",
       "      <td>9</td>\n",
       "      <td>195</td>\n",
       "    </tr>\n",
       "    <tr>\n",
       "      <th>9</th>\n",
       "      <td>10</td>\n",
       "      <td>230</td>\n",
       "    </tr>\n",
       "    <tr>\n",
       "      <th>10</th>\n",
       "      <td>11</td>\n",
       "      <td>200</td>\n",
       "    </tr>\n",
       "    <tr>\n",
       "      <th>11</th>\n",
       "      <td>12</td>\n",
       "      <td>245</td>\n",
       "    </tr>\n",
       "  </tbody>\n",
       "</table>\n",
       "</div>"
      ],
      "text/plain": [
       "     t   zt\n",
       "0    1  210\n",
       "1    2  225\n",
       "2    3  198\n",
       "3    4  240\n",
       "4    5  215\n",
       "5    6  180\n",
       "6    7  205\n",
       "7    8  250\n",
       "8    9  195\n",
       "9   10  230\n",
       "10  11  200\n",
       "11  12  245"
      ]
     },
     "execution_count": 2,
     "metadata": {},
     "output_type": "execute_result"
    }
   ],
   "source": [
    "# DataFrame penjualan bulanan smartphone (unit) tahun 2025\n",
    "df = pd.DataFrame({\n",
    "    't': [1, 2, 3, 4, 5, 6, 7, 8, 9, 10, 11, 12],\n",
    "    'zt': [210, 225, 198, 240, 215, 180, 205, 250, 195, 230, 200, 245]\n",
    "})\n",
    "\n",
    "df"
   ]
  },
  {
   "cell_type": "code",
   "execution_count": 20,
   "id": "71bf6144",
   "metadata": {},
   "outputs": [
    {
     "data": {
      "application/vnd.microsoft.datawrangler.viewer.v0+json": {
       "columns": [
        {
         "name": "index",
         "rawType": "int64",
         "type": "integer"
        },
        {
         "name": "t",
         "rawType": "datetime64[ns]",
         "type": "datetime"
        },
        {
         "name": "zt",
         "rawType": "int64",
         "type": "integer"
        },
        {
         "name": "z̄",
         "rawType": "float64",
         "type": "float"
        },
        {
         "name": "z̄t",
         "rawType": "float64",
         "type": "float"
        },
        {
         "name": "z̄t+1",
         "rawType": "float64",
         "type": "float"
        }
       ],
       "ref": "0bb9f13c-3ef2-4c19-903f-e1ab67b574f3",
       "rows": [
        [
         "0",
         "2025-01-01 00:00:00",
         "210",
         "216.08333333333334",
         "-6.083333333333343",
         "8.916666666666657"
        ],
        [
         "1",
         "2025-02-01 00:00:00",
         "225",
         "216.08333333333334",
         "8.916666666666657",
         "-18.083333333333343"
        ],
        [
         "2",
         "2025-03-01 00:00:00",
         "198",
         "216.08333333333334",
         "-18.083333333333343",
         "23.916666666666657"
        ],
        [
         "3",
         "2025-04-01 00:00:00",
         "240",
         "216.08333333333334",
         "23.916666666666657",
         "-1.0833333333333428"
        ],
        [
         "4",
         "2025-05-01 00:00:00",
         "215",
         "216.08333333333334",
         "-1.0833333333333428",
         "-36.08333333333334"
        ],
        [
         "5",
         "2025-06-01 00:00:00",
         "180",
         "216.08333333333334",
         "-36.08333333333334",
         "-11.083333333333343"
        ],
        [
         "6",
         "2025-07-01 00:00:00",
         "205",
         "216.08333333333334",
         "-11.083333333333343",
         "33.91666666666666"
        ],
        [
         "7",
         "2025-08-01 00:00:00",
         "250",
         "216.08333333333334",
         "33.91666666666666",
         "-21.083333333333343"
        ],
        [
         "8",
         "2025-09-01 00:00:00",
         "195",
         "216.08333333333334",
         "-21.083333333333343",
         "13.916666666666657"
        ],
        [
         "9",
         "2025-10-01 00:00:00",
         "230",
         "216.08333333333334",
         "13.916666666666657",
         "-16.083333333333343"
        ],
        [
         "10",
         "2025-11-01 00:00:00",
         "200",
         "216.08333333333334",
         "-16.083333333333343",
         "28.916666666666657"
        ],
        [
         "11",
         "2025-12-01 00:00:00",
         "245",
         "216.08333333333334",
         "28.916666666666657",
         null
        ]
       ],
       "shape": {
        "columns": 5,
        "rows": 12
       }
      },
      "text/html": [
       "<div>\n",
       "<style scoped>\n",
       "    .dataframe tbody tr th:only-of-type {\n",
       "        vertical-align: middle;\n",
       "    }\n",
       "\n",
       "    .dataframe tbody tr th {\n",
       "        vertical-align: top;\n",
       "    }\n",
       "\n",
       "    .dataframe thead th {\n",
       "        text-align: right;\n",
       "    }\n",
       "</style>\n",
       "<table border=\"1\" class=\"dataframe\">\n",
       "  <thead>\n",
       "    <tr style=\"text-align: right;\">\n",
       "      <th></th>\n",
       "      <th>t</th>\n",
       "      <th>zt</th>\n",
       "      <th>z̄</th>\n",
       "      <th>z̄t</th>\n",
       "      <th>z̄t+1</th>\n",
       "    </tr>\n",
       "  </thead>\n",
       "  <tbody>\n",
       "    <tr>\n",
       "      <th>0</th>\n",
       "      <td>2025-01-01</td>\n",
       "      <td>210</td>\n",
       "      <td>216.083333</td>\n",
       "      <td>-6.083333</td>\n",
       "      <td>8.916667</td>\n",
       "    </tr>\n",
       "    <tr>\n",
       "      <th>1</th>\n",
       "      <td>2025-02-01</td>\n",
       "      <td>225</td>\n",
       "      <td>216.083333</td>\n",
       "      <td>8.916667</td>\n",
       "      <td>-18.083333</td>\n",
       "    </tr>\n",
       "    <tr>\n",
       "      <th>2</th>\n",
       "      <td>2025-03-01</td>\n",
       "      <td>198</td>\n",
       "      <td>216.083333</td>\n",
       "      <td>-18.083333</td>\n",
       "      <td>23.916667</td>\n",
       "    </tr>\n",
       "    <tr>\n",
       "      <th>3</th>\n",
       "      <td>2025-04-01</td>\n",
       "      <td>240</td>\n",
       "      <td>216.083333</td>\n",
       "      <td>23.916667</td>\n",
       "      <td>-1.083333</td>\n",
       "    </tr>\n",
       "    <tr>\n",
       "      <th>4</th>\n",
       "      <td>2025-05-01</td>\n",
       "      <td>215</td>\n",
       "      <td>216.083333</td>\n",
       "      <td>-1.083333</td>\n",
       "      <td>-36.083333</td>\n",
       "    </tr>\n",
       "    <tr>\n",
       "      <th>5</th>\n",
       "      <td>2025-06-01</td>\n",
       "      <td>180</td>\n",
       "      <td>216.083333</td>\n",
       "      <td>-36.083333</td>\n",
       "      <td>-11.083333</td>\n",
       "    </tr>\n",
       "    <tr>\n",
       "      <th>6</th>\n",
       "      <td>2025-07-01</td>\n",
       "      <td>205</td>\n",
       "      <td>216.083333</td>\n",
       "      <td>-11.083333</td>\n",
       "      <td>33.916667</td>\n",
       "    </tr>\n",
       "    <tr>\n",
       "      <th>7</th>\n",
       "      <td>2025-08-01</td>\n",
       "      <td>250</td>\n",
       "      <td>216.083333</td>\n",
       "      <td>33.916667</td>\n",
       "      <td>-21.083333</td>\n",
       "    </tr>\n",
       "    <tr>\n",
       "      <th>8</th>\n",
       "      <td>2025-09-01</td>\n",
       "      <td>195</td>\n",
       "      <td>216.083333</td>\n",
       "      <td>-21.083333</td>\n",
       "      <td>13.916667</td>\n",
       "    </tr>\n",
       "    <tr>\n",
       "      <th>9</th>\n",
       "      <td>2025-10-01</td>\n",
       "      <td>230</td>\n",
       "      <td>216.083333</td>\n",
       "      <td>13.916667</td>\n",
       "      <td>-16.083333</td>\n",
       "    </tr>\n",
       "    <tr>\n",
       "      <th>10</th>\n",
       "      <td>2025-11-01</td>\n",
       "      <td>200</td>\n",
       "      <td>216.083333</td>\n",
       "      <td>-16.083333</td>\n",
       "      <td>28.916667</td>\n",
       "    </tr>\n",
       "    <tr>\n",
       "      <th>11</th>\n",
       "      <td>2025-12-01</td>\n",
       "      <td>245</td>\n",
       "      <td>216.083333</td>\n",
       "      <td>28.916667</td>\n",
       "      <td>NaN</td>\n",
       "    </tr>\n",
       "  </tbody>\n",
       "</table>\n",
       "</div>"
      ],
      "text/plain": [
       "            t   zt          z̄        z̄t      z̄t+1\n",
       "0  2025-01-01  210  216.083333  -6.083333   8.916667\n",
       "1  2025-02-01  225  216.083333   8.916667 -18.083333\n",
       "2  2025-03-01  198  216.083333 -18.083333  23.916667\n",
       "3  2025-04-01  240  216.083333  23.916667  -1.083333\n",
       "4  2025-05-01  215  216.083333  -1.083333 -36.083333\n",
       "5  2025-06-01  180  216.083333 -36.083333 -11.083333\n",
       "6  2025-07-01  205  216.083333 -11.083333  33.916667\n",
       "7  2025-08-01  250  216.083333  33.916667 -21.083333\n",
       "8  2025-09-01  195  216.083333 -21.083333  13.916667\n",
       "9  2025-10-01  230  216.083333  13.916667 -16.083333\n",
       "10 2025-11-01  200  216.083333 -16.083333  28.916667\n",
       "11 2025-12-01  245  216.083333  28.916667        NaN"
      ]
     },
     "execution_count": 20,
     "metadata": {},
     "output_type": "execute_result"
    }
   ],
   "source": [
    "zbar = df['zt'].mean()\n",
    "df['z̄']= zbar\n",
    "df['z̄t']=df['zt'] - df['z̄']\n",
    "df['z̄t+1']=df['z̄t'].shift(-1)\n",
    "df"
   ]
  },
  {
   "cell_type": "code",
   "execution_count": 3,
   "id": "d216ce2e",
   "metadata": {
    "vscode": {
     "languageId": "ruby"
    }
   },
   "outputs": [
    {
     "data": {
      "application/vnd.microsoft.datawrangler.viewer.v0+json": {
       "columns": [
        {
         "name": "index",
         "rawType": "int64",
         "type": "integer"
        },
        {
         "name": "t",
         "rawType": "datetime64[ns]",
         "type": "datetime"
        },
        {
         "name": "zt",
         "rawType": "int64",
         "type": "integer"
        }
       ],
       "ref": "9184f1ae-78a1-41da-9fb2-e249540588b9",
       "rows": [
        [
         "0",
         "2025-01-01 00:00:00",
         "210"
        ],
        [
         "1",
         "2025-02-01 00:00:00",
         "225"
        ],
        [
         "2",
         "2025-03-01 00:00:00",
         "198"
        ],
        [
         "3",
         "2025-04-01 00:00:00",
         "240"
        ],
        [
         "4",
         "2025-05-01 00:00:00",
         "215"
        ],
        [
         "5",
         "2025-06-01 00:00:00",
         "180"
        ],
        [
         "6",
         "2025-07-01 00:00:00",
         "205"
        ],
        [
         "7",
         "2025-08-01 00:00:00",
         "250"
        ],
        [
         "8",
         "2025-09-01 00:00:00",
         "195"
        ],
        [
         "9",
         "2025-10-01 00:00:00",
         "230"
        ],
        [
         "10",
         "2025-11-01 00:00:00",
         "200"
        ],
        [
         "11",
         "2025-12-01 00:00:00",
         "245"
        ]
       ],
       "shape": {
        "columns": 2,
        "rows": 12
       }
      },
      "text/html": [
       "<div>\n",
       "<style scoped>\n",
       "    .dataframe tbody tr th:only-of-type {\n",
       "        vertical-align: middle;\n",
       "    }\n",
       "\n",
       "    .dataframe tbody tr th {\n",
       "        vertical-align: top;\n",
       "    }\n",
       "\n",
       "    .dataframe thead th {\n",
       "        text-align: right;\n",
       "    }\n",
       "</style>\n",
       "<table border=\"1\" class=\"dataframe\">\n",
       "  <thead>\n",
       "    <tr style=\"text-align: right;\">\n",
       "      <th></th>\n",
       "      <th>t</th>\n",
       "      <th>zt</th>\n",
       "    </tr>\n",
       "  </thead>\n",
       "  <tbody>\n",
       "    <tr>\n",
       "      <th>0</th>\n",
       "      <td>2025-01-01</td>\n",
       "      <td>210</td>\n",
       "    </tr>\n",
       "    <tr>\n",
       "      <th>1</th>\n",
       "      <td>2025-02-01</td>\n",
       "      <td>225</td>\n",
       "    </tr>\n",
       "    <tr>\n",
       "      <th>2</th>\n",
       "      <td>2025-03-01</td>\n",
       "      <td>198</td>\n",
       "    </tr>\n",
       "    <tr>\n",
       "      <th>3</th>\n",
       "      <td>2025-04-01</td>\n",
       "      <td>240</td>\n",
       "    </tr>\n",
       "    <tr>\n",
       "      <th>4</th>\n",
       "      <td>2025-05-01</td>\n",
       "      <td>215</td>\n",
       "    </tr>\n",
       "    <tr>\n",
       "      <th>5</th>\n",
       "      <td>2025-06-01</td>\n",
       "      <td>180</td>\n",
       "    </tr>\n",
       "    <tr>\n",
       "      <th>6</th>\n",
       "      <td>2025-07-01</td>\n",
       "      <td>205</td>\n",
       "    </tr>\n",
       "    <tr>\n",
       "      <th>7</th>\n",
       "      <td>2025-08-01</td>\n",
       "      <td>250</td>\n",
       "    </tr>\n",
       "    <tr>\n",
       "      <th>8</th>\n",
       "      <td>2025-09-01</td>\n",
       "      <td>195</td>\n",
       "    </tr>\n",
       "    <tr>\n",
       "      <th>9</th>\n",
       "      <td>2025-10-01</td>\n",
       "      <td>230</td>\n",
       "    </tr>\n",
       "    <tr>\n",
       "      <th>10</th>\n",
       "      <td>2025-11-01</td>\n",
       "      <td>200</td>\n",
       "    </tr>\n",
       "    <tr>\n",
       "      <th>11</th>\n",
       "      <td>2025-12-01</td>\n",
       "      <td>245</td>\n",
       "    </tr>\n",
       "  </tbody>\n",
       "</table>\n",
       "</div>"
      ],
      "text/plain": [
       "            t   zt\n",
       "0  2025-01-01  210\n",
       "1  2025-02-01  225\n",
       "2  2025-03-01  198\n",
       "3  2025-04-01  240\n",
       "4  2025-05-01  215\n",
       "5  2025-06-01  180\n",
       "6  2025-07-01  205\n",
       "7  2025-08-01  250\n",
       "8  2025-09-01  195\n",
       "9  2025-10-01  230\n",
       "10 2025-11-01  200\n",
       "11 2025-12-01  245"
      ]
     },
     "execution_count": 3,
     "metadata": {},
     "output_type": "execute_result"
    }
   ],
   "source": [
    "# Convert 't' (1..12) to monthly datetimes in 2025 without specifying a day\n",
    "df['t'] = pd.to_datetime('2025-' + df['t'].astype(str).str.zfill(2), format='%Y-%m')\n",
    "df"
   ]
  },
  {
   "cell_type": "code",
   "execution_count": 24,
   "id": "a7ec6eed",
   "metadata": {
    "vscode": {
     "languageId": "ruby"
    }
   },
   "outputs": [
    {
     "data": {
      "text/plain": [
       "Text(0.5, 1.0, 'Lag Plot of Demeaned Smartphone Sales')"
      ]
     },
     "execution_count": 24,
     "metadata": {},
     "output_type": "execute_result"
    },
    {
     "data": {
      "image/png": "[encoded data removed]",
      "text/plain": [
       "<Figure size 640x480 with 1 Axes>"
      ]
     },
     "metadata": {},
     "output_type": "display_data"
    }
   ],
   "source": [
    "sns.regplot(data=df, x='z̄t', y='z̄t+1', marker='o')\n",
    "plt.title('Lag Plot of Demeaned Smartphone Sales')  "
   ]
  },
  {
   "cell_type": "code",
   "execution_count": 4,
   "id": "78765624",
   "metadata": {
    "vscode": {
     "languageId": "ruby"
    }
   },
   "outputs": [
    {
     "data": {
      "text/plain": [
       "Text(0.5, 1.0, 'Monthly Smartphone Sales in 2025')"
      ]
     },
     "execution_count": 4,
     "metadata": {},
     "output_type": "execute_result"
    },
    {
     "data": {
      "image/png": "[encoded data removed]",
      "text/plain": [
       "<Figure size 640x480 with 1 Axes>"
      ]
     },
     "metadata": {},
     "output_type": "display_data"
    }
   ],
   "source": [
    "sns.lineplot(data=df, x='t', y='zt', marker='o')\n",
    "plt.title('Monthly Smartphone Sales in 2025')"
   ]
  },
  {
   "cell_type": "code",
   "execution_count": 46,
   "id": "c36ef9a3",
   "metadata": {},
   "outputs": [
    {
     "data": {
      "image/png": "[encoded data removed]",
      "text/plain": [
       "<Figure size 1200x400 with 2 Axes>"
      ]
     },
     "metadata": {},
     "output_type": "display_data"
    }
   ],
   "source": [
    "from statsmodels.graphics.tsaplots import plot_acf, plot_pacf\n",
    "\n",
    "series = df.sort_values('t')['zt']\n",
    "\n",
    "fig, axes = plt.subplots(1, 2, figsize=(12, 4))\n",
    "axes[0].cla()\n",
    "plot_acf(series, lags=min(len(series) - 1, K), zero=False, ax=axes[0])\n",
    "axes[0].set_title('ACF of Monthly Smartphone Sales (2025)')\n",
    "\n",
    "axes[1].cla()\n",
    "plot_pacf(series, lags=min(len(series) - 1, lags), method='ywm', zero=False, ax=axes[1])\n",
    "axes[1].set_title('PACF of Monthly Smartphone Sales (2025)')\n",
    "plt.tight_layout()"
   ]
  },
  {
   "cell_type": "code",
   "execution_count": 14,
   "id": "a6bce322",
   "metadata": {},
   "outputs": [
    {
     "data": {
      "application/vnd.microsoft.datawrangler.viewer.v0+json": {
       "columns": [
        {
         "name": "index",
         "rawType": "int64",
         "type": "integer"
        },
        {
         "name": "zt",
         "rawType": "int64",
         "type": "integer"
        }
       ],
       "ref": "a354fa13-97e9-4449-aa69-a3fef78d21b9",
       "rows": [
        [
         "0",
         "210"
        ],
        [
         "1",
         "225"
        ],
        [
         "2",
         "198"
        ],
        [
         "3",
         "240"
        ],
        [
         "4",
         "215"
        ],
        [
         "5",
         "180"
        ],
        [
         "6",
         "205"
        ],
        [
         "7",
         "250"
        ],
        [
         "8",
         "195"
        ],
        [
         "9",
         "230"
        ],
        [
         "10",
         "200"
        ],
        [
         "11",
         "245"
        ]
       ],
       "shape": {
        "columns": 1,
        "rows": 12
       }
      },
      "text/plain": [
       "0     210\n",
       "1     225\n",
       "2     198\n",
       "3     240\n",
       "4     215\n",
       "5     180\n",
       "6     205\n",
       "7     250\n",
       "8     195\n",
       "9     230\n",
       "10    200\n",
       "11    245\n",
       "Name: zt, dtype: int64"
      ]
     },
     "execution_count": 14,
     "metadata": {},
     "output_type": "execute_result"
    }
   ],
   "source": [
    "series"
   ]
  },
  {
   "cell_type": "code",
   "execution_count": 18,
   "id": "43256ef4",
   "metadata": {},
   "outputs": [
    {
     "data": {
      "application/vnd.microsoft.datawrangler.viewer.v0+json": {
       "columns": [
        {
         "name": "index",
         "rawType": "int64",
         "type": "integer"
        },
        {
         "name": "lag",
         "rawType": "int32",
         "type": "integer"
        },
        {
         "name": "acf",
         "rawType": "float64",
         "type": "float"
        },
        {
         "name": "pacf",
         "rawType": "float64",
         "type": "float"
        }
       ],
       "ref": "ea0dc0e1-6e32-4fde-b84f-6d14c4adf313",
       "rows": [
        [
         "0",
         "0",
         "1.0",
         "1.0"
        ],
        [
         "1",
         "1",
         "-0.4334666165876357",
         "-0.4334666165876358"
        ],
        [
         "2",
         "2",
         "-0.053477623541317854",
         "-0.2972157889161645"
        ],
        [
         "3",
         "3",
         "-0.06631167936900421",
         "-0.3041938950989309"
        ],
        [
         "4",
         "4",
         "0.2584338826377044",
         "0.08670277379216651"
        ],
        [
         "5",
         "5",
         "-0.14124503774185299",
         "0.024900731249009454"
        ],
        [
         "6",
         "6",
         "0.010884364387549087",
         "0.047409827669585104"
        ],
        [
         "7",
         "7",
         "-0.1994332201338572",
         null
        ],
        [
         "8",
         "8",
         "0.23188677965748034",
         null
        ],
        [
         "9",
         "9",
         "-0.14103115854708215",
         null
        ],
        [
         "10",
         "10",
         "0.06679551584010182",
         null
        ],
        [
         "11",
         "11",
         "-0.03303520660208562",
         null
        ]
       ],
       "shape": {
        "columns": 3,
        "rows": 12
       }
      },
      "text/html": [
       "<div>\n",
       "<style scoped>\n",
       "    .dataframe tbody tr th:only-of-type {\n",
       "        vertical-align: middle;\n",
       "    }\n",
       "\n",
       "    .dataframe tbody tr th {\n",
       "        vertical-align: top;\n",
       "    }\n",
       "\n",
       "    .dataframe thead th {\n",
       "        text-align: right;\n",
       "    }\n",
       "</style>\n",
       "<table border=\"1\" class=\"dataframe\">\n",
       "  <thead>\n",
       "    <tr style=\"text-align: right;\">\n",
       "      <th></th>\n",
       "      <th>lag</th>\n",
       "      <th>acf</th>\n",
       "      <th>pacf</th>\n",
       "    </tr>\n",
       "  </thead>\n",
       "  <tbody>\n",
       "    <tr>\n",
       "      <th>0</th>\n",
       "      <td>0</td>\n",
       "      <td>1.000000</td>\n",
       "      <td>1.000000</td>\n",
       "    </tr>\n",
       "    <tr>\n",
       "      <th>1</th>\n",
       "      <td>1</td>\n",
       "      <td>-0.433467</td>\n",
       "      <td>-0.433467</td>\n",
       "    </tr>\n",
       "    <tr>\n",
       "      <th>2</th>\n",
       "      <td>2</td>\n",
       "      <td>-0.053478</td>\n",
       "      <td>-0.297216</td>\n",
       "    </tr>\n",
       "    <tr>\n",
       "      <th>3</th>\n",
       "      <td>3</td>\n",
       "      <td>-0.066312</td>\n",
       "      <td>-0.304194</td>\n",
       "    </tr>\n",
       "    <tr>\n",
       "      <th>4</th>\n",
       "      <td>4</td>\n",
       "      <td>0.258434</td>\n",
       "      <td>0.086703</td>\n",
       "    </tr>\n",
       "    <tr>\n",
       "      <th>5</th>\n",
       "      <td>5</td>\n",
       "      <td>-0.141245</td>\n",
       "      <td>0.024901</td>\n",
       "    </tr>\n",
       "    <tr>\n",
       "      <th>6</th>\n",
       "      <td>6</td>\n",
       "      <td>0.010884</td>\n",
       "      <td>0.047410</td>\n",
       "    </tr>\n",
       "    <tr>\n",
       "      <th>7</th>\n",
       "      <td>7</td>\n",
       "      <td>-0.199433</td>\n",
       "      <td>NaN</td>\n",
       "    </tr>\n",
       "    <tr>\n",
       "      <th>8</th>\n",
       "      <td>8</td>\n",
       "      <td>0.231887</td>\n",
       "      <td>NaN</td>\n",
       "    </tr>\n",
       "    <tr>\n",
       "      <th>9</th>\n",
       "      <td>9</td>\n",
       "      <td>-0.141031</td>\n",
       "      <td>NaN</td>\n",
       "    </tr>\n",
       "    <tr>\n",
       "      <th>10</th>\n",
       "      <td>10</td>\n",
       "      <td>0.066796</td>\n",
       "      <td>NaN</td>\n",
       "    </tr>\n",
       "    <tr>\n",
       "      <th>11</th>\n",
       "      <td>11</td>\n",
       "      <td>-0.033035</td>\n",
       "      <td>NaN</td>\n",
       "    </tr>\n",
       "  </tbody>\n",
       "</table>\n",
       "</div>"
      ],
      "text/plain": [
       "    lag       acf      pacf\n",
       "0     0  1.000000  1.000000\n",
       "1     1 -0.433467 -0.433467\n",
       "2     2 -0.053478 -0.297216\n",
       "3     3 -0.066312 -0.304194\n",
       "4     4  0.258434  0.086703\n",
       "5     5 -0.141245  0.024901\n",
       "6     6  0.010884  0.047410\n",
       "7     7 -0.199433       NaN\n",
       "8     8  0.231887       NaN\n",
       "9     9 -0.141031       NaN\n",
       "10   10  0.066796       NaN\n",
       "11   11 -0.033035       NaN"
      ]
     },
     "execution_count": 18,
     "metadata": {},
     "output_type": "execute_result"
    }
   ],
   "source": [
    "from statsmodels.tsa.stattools import acf as sm_acf, pacf_yw\n",
    "\n",
    "# Use the same lag setting as the plots (0..6)\n",
    "lags = min(len(series) - 1, 6)\n",
    "\n",
    "# Compute ACF and PACF values\n",
    "acf_vals = sm_acf(series, nlags=11, fft=False)\n",
    "pacf_vals = pacf_yw(series, nlags=lags, method='mle')  # matches plot_pacf(method='ywm')\n",
    "\n",
    "# Extend PACF to lags 0..11 with NaN for lags 7..11 and rebuild the DataFrame\n",
    "pacf_full = np.full(len(acf_vals), np.nan, dtype=float)\n",
    "pacf_full[:len(pacf_vals)] = pacf_vals\n",
    "\n",
    "acf_pacf_df = pd.DataFrame({\n",
    "    'lag': np.arange(len(acf_vals)),\n",
    "    'acf': acf_vals,\n",
    "    'pacf': pacf_full\n",
    "})\n",
    "acf_pacf_df"
   ]
  },
  {
   "cell_type": "code",
   "execution_count": 32,
   "id": "c7e8c97f",
   "metadata": {},
   "outputs": [
    {
     "data": {
      "application/vnd.microsoft.datawrangler.viewer.v0+json": {
       "columns": [
        {
         "name": "index",
         "rawType": "int64",
         "type": "integer"
        },
        {
         "name": "lag",
         "rawType": "int32",
         "type": "integer"
        },
        {
         "name": "acf",
         "rawType": "float64",
         "type": "float"
        },
        {
         "name": "pacf",
         "rawType": "float64",
         "type": "float"
        },
        {
         "name": "acf_t",
         "rawType": "float64",
         "type": "float"
        },
        {
         "name": "pacf_t",
         "rawType": "float64",
         "type": "float"
        }
       ],
       "ref": "eff0e852-6a75-4c46-be15-ce83dc286a24",
       "rows": [
        [
         "0",
         "0",
         "1.0",
         "1.0",
         null,
         null
        ],
        [
         "1",
         "1",
         "-0.4334666165876357",
         "-0.4334666165876358",
         "-1.5015724066295264",
         "-1.5015724066295268"
        ],
        [
         "2",
         "2",
         "-0.053477623541317854",
         "-0.2972157889161645",
         "-0.18525192208320798",
         "-1.0295856944289274"
        ],
        [
         "3",
         "3",
         "-0.06631167936900421",
         "-0.3041938950989309",
         "-0.2297103956046644",
         "-1.0537585633272513"
        ],
        [
         "4",
         "4",
         "0.2584338826377044",
         "0.08670277379216651",
         "0.8952412302515926",
         "0.30034721873036735"
        ],
        [
         "5",
         "5",
         "-0.14124503774185299",
         "0.024900731249009454",
         "-0.489287163371746",
         "0.0862586633378048"
        ],
        [
         "6",
         "6",
         "0.010884364387549087",
         "0.047409827669585104",
         "0.03770454425465665",
         "0.16423246060361235"
        ],
        [
         "7",
         "7",
         "-0.1994332201338572",
         null,
         "-0.690856939977818",
         null
        ],
        [
         "8",
         "8",
         "0.23188677965748034",
         null,
         "0.8032793679405702",
         null
        ],
        [
         "9",
         "9",
         "-0.14103115854708215",
         null,
         "-0.48854626410769597",
         null
        ],
        [
         "10",
         "10",
         "0.06679551584010182",
         null,
         "0.2313864543056562",
         null
        ],
        [
         "11",
         "11",
         "-0.03303520660208562",
         null,
         "-0.1144373125466942",
         null
        ]
       ],
       "shape": {
        "columns": 5,
        "rows": 12
       }
      },
      "text/html": [
       "<div>\n",
       "<style scoped>\n",
       "    .dataframe tbody tr th:only-of-type {\n",
       "        vertical-align: middle;\n",
       "    }\n",
       "\n",
       "    .dataframe tbody tr th {\n",
       "        vertical-align: top;\n",
       "    }\n",
       "\n",
       "    .dataframe thead th {\n",
       "        text-align: right;\n",
       "    }\n",
       "</style>\n",
       "<table border=\"1\" class=\"dataframe\">\n",
       "  <thead>\n",
       "    <tr style=\"text-align: right;\">\n",
       "      <th></th>\n",
       "      <th>lag</th>\n",
       "      <th>acf</th>\n",
       "      <th>pacf</th>\n",
       "      <th>acf_t</th>\n",
       "      <th>pacf_t</th>\n",
       "    </tr>\n",
       "  </thead>\n",
       "  <tbody>\n",
       "    <tr>\n",
       "      <th>0</th>\n",
       "      <td>0</td>\n",
       "      <td>1.000000</td>\n",
       "      <td>1.000000</td>\n",
       "      <td>NaN</td>\n",
       "      <td>NaN</td>\n",
       "    </tr>\n",
       "    <tr>\n",
       "      <th>1</th>\n",
       "      <td>1</td>\n",
       "      <td>-0.433467</td>\n",
       "      <td>-0.433467</td>\n",
       "      <td>-1.501572</td>\n",
       "      <td>-1.501572</td>\n",
       "    </tr>\n",
       "    <tr>\n",
       "      <th>2</th>\n",
       "      <td>2</td>\n",
       "      <td>-0.053478</td>\n",
       "      <td>-0.297216</td>\n",
       "      <td>-0.185252</td>\n",
       "      <td>-1.029586</td>\n",
       "    </tr>\n",
       "    <tr>\n",
       "      <th>3</th>\n",
       "      <td>3</td>\n",
       "      <td>-0.066312</td>\n",
       "      <td>-0.304194</td>\n",
       "      <td>-0.229710</td>\n",
       "      <td>-1.053759</td>\n",
       "    </tr>\n",
       "    <tr>\n",
       "      <th>4</th>\n",
       "      <td>4</td>\n",
       "      <td>0.258434</td>\n",
       "      <td>0.086703</td>\n",
       "      <td>0.895241</td>\n",
       "      <td>0.300347</td>\n",
       "    </tr>\n",
       "    <tr>\n",
       "      <th>5</th>\n",
       "      <td>5</td>\n",
       "      <td>-0.141245</td>\n",
       "      <td>0.024901</td>\n",
       "      <td>-0.489287</td>\n",
       "      <td>0.086259</td>\n",
       "    </tr>\n",
       "    <tr>\n",
       "      <th>6</th>\n",
       "      <td>6</td>\n",
       "      <td>0.010884</td>\n",
       "      <td>0.047410</td>\n",
       "      <td>0.037705</td>\n",
       "      <td>0.164232</td>\n",
       "    </tr>\n",
       "    <tr>\n",
       "      <th>7</th>\n",
       "      <td>7</td>\n",
       "      <td>-0.199433</td>\n",
       "      <td>NaN</td>\n",
       "      <td>-0.690857</td>\n",
       "      <td>NaN</td>\n",
       "    </tr>\n",
       "    <tr>\n",
       "      <th>8</th>\n",
       "      <td>8</td>\n",
       "      <td>0.231887</td>\n",
       "      <td>NaN</td>\n",
       "      <td>0.803279</td>\n",
       "      <td>NaN</td>\n",
       "    </tr>\n",
       "    <tr>\n",
       "      <th>9</th>\n",
       "      <td>9</td>\n",
       "      <td>-0.141031</td>\n",
       "      <td>NaN</td>\n",
       "      <td>-0.488546</td>\n",
       "      <td>NaN</td>\n",
       "    </tr>\n",
       "    <tr>\n",
       "      <th>10</th>\n",
       "      <td>10</td>\n",
       "      <td>0.066796</td>\n",
       "      <td>NaN</td>\n",
       "      <td>0.231386</td>\n",
       "      <td>NaN</td>\n",
       "    </tr>\n",
       "    <tr>\n",
       "      <th>11</th>\n",
       "      <td>11</td>\n",
       "      <td>-0.033035</td>\n",
       "      <td>NaN</td>\n",
       "      <td>-0.114437</td>\n",
       "      <td>NaN</td>\n",
       "    </tr>\n",
       "  </tbody>\n",
       "</table>\n",
       "</div>"
      ],
      "text/plain": [
       "    lag       acf      pacf     acf_t    pacf_t\n",
       "0     0  1.000000  1.000000       NaN       NaN\n",
       "1     1 -0.433467 -0.433467 -1.501572 -1.501572\n",
       "2     2 -0.053478 -0.297216 -0.185252 -1.029586\n",
       "3     3 -0.066312 -0.304194 -0.229710 -1.053759\n",
       "4     4  0.258434  0.086703  0.895241  0.300347\n",
       "5     5 -0.141245  0.024901 -0.489287  0.086259\n",
       "6     6  0.010884  0.047410  0.037705  0.164232\n",
       "7     7 -0.199433       NaN -0.690857       NaN\n",
       "8     8  0.231887       NaN  0.803279       NaN\n",
       "9     9 -0.141031       NaN -0.488546       NaN\n",
       "10   10  0.066796       NaN  0.231386       NaN\n",
       "11   11 -0.033035       NaN -0.114437       NaN"
      ]
     },
     "execution_count": 32,
     "metadata": {},
     "output_type": "execute_result"
    }
   ],
   "source": [
    "# Add t-statistics for ACF and PACF (approx t = value * sqrt(n), for lags > 0)\n",
    "n = len(series)\n",
    "sqrt_n = np.sqrt(n)\n",
    "mask0 = acf_pacf_df['lag'] == 0\n",
    "\n",
    "acf_pacf_df['acf_t'] = acf_pacf_df['acf'] * sqrt_n\n",
    "acf_pacf_df.loc[mask0, 'acf_t'] = np.nan\n",
    "\n",
    "acf_pacf_df['pacf_t'] = acf_pacf_df['pacf'] * sqrt_n\n",
    "acf_pacf_df.loc[mask0, 'pacf_t'] = np.nan\n",
    "\n",
    "acf_pacf_df"
   ]
  },
  {
   "cell_type": "code",
   "execution_count": 38,
   "id": "4eceaa36",
   "metadata": {},
   "outputs": [
    {
     "data": {
      "text/plain": [
       "-1.5015724066295266"
      ]
     },
     "execution_count": 38,
     "metadata": {},
     "output_type": "execute_result"
    }
   ],
   "source": [
    "sr1=1*(len(series)**(-1/2)) # standard error\n",
    "t_r1= acf_pacf_df.loc[1, 'acf'] / sr1\n",
    "t_r1"
   ]
  },
  {
   "cell_type": "code",
   "execution_count": 39,
   "id": "d5118aac",
   "metadata": {},
   "outputs": [
    {
     "data": {
      "text/plain": [
       "-0.1579381994847326"
      ]
     },
     "execution_count": 39,
     "metadata": {},
     "output_type": "execute_result"
    }
   ],
   "source": [
    "sr2=(1+2*(acf_pacf_df.loc[1,'acf']**2))**0.5 * (len(series)**(-1/2)) # standard error\n",
    "t_r2= acf_pacf_df.loc[2, 'acf'] / sr2\n",
    "t_r2"
   ]
  },
  {
   "cell_type": "code",
   "execution_count": 40,
   "id": "59285d80",
   "metadata": {},
   "outputs": [
    {
     "data": {
      "application/vnd.microsoft.datawrangler.viewer.v0+json": {
       "columns": [
        {
         "name": "index",
         "rawType": "int64",
         "type": "integer"
        },
        {
         "name": "lag",
         "rawType": "int32",
         "type": "integer"
        },
        {
         "name": "acf",
         "rawType": "float64",
         "type": "float"
        },
        {
         "name": "pacf",
         "rawType": "float64",
         "type": "float"
        },
        {
         "name": "acf_t",
         "rawType": "float64",
         "type": "float"
        },
        {
         "name": "pacf_t",
         "rawType": "float64",
         "type": "float"
        },
        {
         "name": "acf_se",
         "rawType": "float64",
         "type": "float"
        }
       ],
       "ref": "263e5e76-b068-49e7-98fe-4f4d65d9301c",
       "rows": [
        [
         "0",
         "0",
         "1.0",
         "1.0",
         null,
         null,
         null
        ],
        [
         "1",
         "1",
         "-0.4334666165876357",
         "-0.4334666165876358",
         "-1.5015724066295266",
         "-1.5015724066295268",
         "0.28867513459481287"
        ],
        [
         "2",
         "2",
         "-0.053477623541317854",
         "-0.2972157889161645",
         "-0.1579381994847326",
         "-1.0295856944289274",
         "0.3385984120104356"
        ],
        [
         "3",
         "3",
         "-0.06631167936900421",
         "-0.3041938950989309",
         "-0.1954358403277256",
         "-1.0537585633272513",
         "0.3393015286132084"
        ],
        [
         "4",
         "4",
         "0.2584338826377044",
         "0.08670277379216651",
         "0.7592515517316709",
         "0.30034721873036735",
         "0.3403797885539761"
        ],
        [
         "5",
         "5",
         "-0.14124503774185299",
         "0.024900731249009454",
         "-0.396359135217639",
         "0.0862586633378048",
         "0.35635620625798364"
        ],
        [
         "6",
         "6",
         "0.010884364387549087",
         "0.047409827669585104",
         "0.030151314280773524",
         "0.16423246060361235",
         "0.36099137457797914"
        ],
        [
         "7",
         "7",
         "-0.1994332201338572",
         null,
         "-0.552417944407112",
         null,
         "0.36101872169974647"
        ],
        [
         "8",
         "8",
         "0.23188677965748034",
         null,
         "0.6265758359185162",
         null,
         "0.3700857364177643"
        ],
        [
         "9",
         "9",
         "-0.14103115854708215",
         null,
         "-0.36918978728891344",
         null,
         "0.3820017871640547"
        ],
        [
         "10",
         "10",
         "0.06679551584010182",
         null,
         "0.17290366848214417",
         null,
         "0.3863163600082888"
        ],
        [
         "11",
         "11",
         "-0.03303520660208562",
         null,
         "-0.0853011041475499",
         null,
         "0.38727759660581706"
        ]
       ],
       "shape": {
        "columns": 6,
        "rows": 12
       }
      },
      "text/html": [
       "<div>\n",
       "<style scoped>\n",
       "    .dataframe tbody tr th:only-of-type {\n",
       "        vertical-align: middle;\n",
       "    }\n",
       "\n",
       "    .dataframe tbody tr th {\n",
       "        vertical-align: top;\n",
       "    }\n",
       "\n",
       "    .dataframe thead th {\n",
       "        text-align: right;\n",
       "    }\n",
       "</style>\n",
       "<table border=\"1\" class=\"dataframe\">\n",
       "  <thead>\n",
       "    <tr style=\"text-align: right;\">\n",
       "      <th></th>\n",
       "      <th>lag</th>\n",
       "      <th>acf</th>\n",
       "      <th>pacf</th>\n",
       "      <th>acf_t</th>\n",
       "      <th>pacf_t</th>\n",
       "      <th>acf_se</th>\n",
       "    </tr>\n",
       "  </thead>\n",
       "  <tbody>\n",
       "    <tr>\n",
       "      <th>0</th>\n",
       "      <td>0</td>\n",
       "      <td>1.000000</td>\n",
       "      <td>1.000000</td>\n",
       "      <td>NaN</td>\n",
       "      <td>NaN</td>\n",
       "      <td>NaN</td>\n",
       "    </tr>\n",
       "    <tr>\n",
       "      <th>1</th>\n",
       "      <td>1</td>\n",
       "      <td>-0.433467</td>\n",
       "      <td>-0.433467</td>\n",
       "      <td>-1.501572</td>\n",
       "      <td>-1.501572</td>\n",
       "      <td>0.288675</td>\n",
       "    </tr>\n",
       "    <tr>\n",
       "      <th>2</th>\n",
       "      <td>2</td>\n",
       "      <td>-0.053478</td>\n",
       "      <td>-0.297216</td>\n",
       "      <td>-0.157938</td>\n",
       "      <td>-1.029586</td>\n",
       "      <td>0.338598</td>\n",
       "    </tr>\n",
       "    <tr>\n",
       "      <th>3</th>\n",
       "      <td>3</td>\n",
       "      <td>-0.066312</td>\n",
       "      <td>-0.304194</td>\n",
       "      <td>-0.195436</td>\n",
       "      <td>-1.053759</td>\n",
       "      <td>0.339302</td>\n",
       "    </tr>\n",
       "    <tr>\n",
       "      <th>4</th>\n",
       "      <td>4</td>\n",
       "      <td>0.258434</td>\n",
       "      <td>0.086703</td>\n",
       "      <td>0.759252</td>\n",
       "      <td>0.300347</td>\n",
       "      <td>0.340380</td>\n",
       "    </tr>\n",
       "    <tr>\n",
       "      <th>5</th>\n",
       "      <td>5</td>\n",
       "      <td>-0.141245</td>\n",
       "      <td>0.024901</td>\n",
       "      <td>-0.396359</td>\n",
       "      <td>0.086259</td>\n",
       "      <td>0.356356</td>\n",
       "    </tr>\n",
       "    <tr>\n",
       "      <th>6</th>\n",
       "      <td>6</td>\n",
       "      <td>0.010884</td>\n",
       "      <td>0.047410</td>\n",
       "      <td>0.030151</td>\n",
       "      <td>0.164232</td>\n",
       "      <td>0.360991</td>\n",
       "    </tr>\n",
       "    <tr>\n",
       "      <th>7</th>\n",
       "      <td>7</td>\n",
       "      <td>-0.199433</td>\n",
       "      <td>NaN</td>\n",
       "      <td>-0.552418</td>\n",
       "      <td>NaN</td>\n",
       "      <td>0.361019</td>\n",
       "    </tr>\n",
       "    <tr>\n",
       "      <th>8</th>\n",
       "      <td>8</td>\n",
       "      <td>0.231887</td>\n",
       "      <td>NaN</td>\n",
       "      <td>0.626576</td>\n",
       "      <td>NaN</td>\n",
       "      <td>0.370086</td>\n",
       "    </tr>\n",
       "    <tr>\n",
       "      <th>9</th>\n",
       "      <td>9</td>\n",
       "      <td>-0.141031</td>\n",
       "      <td>NaN</td>\n",
       "      <td>-0.369190</td>\n",
       "      <td>NaN</td>\n",
       "      <td>0.382002</td>\n",
       "    </tr>\n",
       "    <tr>\n",
       "      <th>10</th>\n",
       "      <td>10</td>\n",
       "      <td>0.066796</td>\n",
       "      <td>NaN</td>\n",
       "      <td>0.172904</td>\n",
       "      <td>NaN</td>\n",
       "      <td>0.386316</td>\n",
       "    </tr>\n",
       "    <tr>\n",
       "      <th>11</th>\n",
       "      <td>11</td>\n",
       "      <td>-0.033035</td>\n",
       "      <td>NaN</td>\n",
       "      <td>-0.085301</td>\n",
       "      <td>NaN</td>\n",
       "      <td>0.387278</td>\n",
       "    </tr>\n",
       "  </tbody>\n",
       "</table>\n",
       "</div>"
      ],
      "text/plain": [
       "    lag       acf      pacf     acf_t    pacf_t    acf_se\n",
       "0     0  1.000000  1.000000       NaN       NaN       NaN\n",
       "1     1 -0.433467 -0.433467 -1.501572 -1.501572  0.288675\n",
       "2     2 -0.053478 -0.297216 -0.157938 -1.029586  0.338598\n",
       "3     3 -0.066312 -0.304194 -0.195436 -1.053759  0.339302\n",
       "4     4  0.258434  0.086703  0.759252  0.300347  0.340380\n",
       "5     5 -0.141245  0.024901 -0.396359  0.086259  0.356356\n",
       "6     6  0.010884  0.047410  0.030151  0.164232  0.360991\n",
       "7     7 -0.199433       NaN -0.552418       NaN  0.361019\n",
       "8     8  0.231887       NaN  0.626576       NaN  0.370086\n",
       "9     9 -0.141031       NaN -0.369190       NaN  0.382002\n",
       "10   10  0.066796       NaN  0.172904       NaN  0.386316\n",
       "11   11 -0.033035       NaN -0.085301       NaN  0.387278"
      ]
     },
     "execution_count": 40,
     "metadata": {},
     "output_type": "execute_result"
    }
   ],
   "source": [
    "# Fix acf_t using: se_k = sqrt((1 + 2 * sum_{j=1}^{k-1} r_j^2) / n),  t_k = r_k / se_k  for k >= 1\n",
    "r = acf_pacf_df['acf'].to_numpy()\n",
    "K = len(r) - 1\n",
    "\n",
    "cum_sq = np.cumsum(r[1:]**2)                      # r1^2, r2^2, ...\n",
    "S = np.concatenate(([0.0], cum_sq[:-1])) if K > 0 else np.array([], dtype=float)  # sum_{j=1}^{k-1} r_j^2\n",
    "\n",
    "acf_se = np.full(len(r), np.nan, dtype=float)\n",
    "if K > 0:\n",
    "    acf_se[1:] = np.sqrt((1.0 + 2.0 * S) / n)\n",
    "\n",
    "acf_t_fixed = np.full(len(r), np.nan, dtype=float)\n",
    "if K > 0:\n",
    "    acf_t_fixed[1:] = r[1:] / acf_se[1:]\n",
    "\n",
    "acf_pacf_df['acf_se'] = acf_se\n",
    "acf_pacf_df['acf_t'] = acf_t_fixed\n",
    "\n",
    "acf_pacf_df"
   ]
  },
  {
   "cell_type": "code",
   "execution_count": 41,
   "id": "bcf9a9c5",
   "metadata": {},
   "outputs": [
    {
     "data": {
      "application/vnd.microsoft.datawrangler.viewer.v0+json": {
       "columns": [
        {
         "name": "index",
         "rawType": "int64",
         "type": "integer"
        },
        {
         "name": "lag",
         "rawType": "int32",
         "type": "integer"
        },
        {
         "name": "acf",
         "rawType": "float64",
         "type": "float"
        },
        {
         "name": "pacf",
         "rawType": "float64",
         "type": "float"
        },
        {
         "name": "acf_t",
         "rawType": "float64",
         "type": "float"
        },
        {
         "name": "pacf_t",
         "rawType": "float64",
         "type": "float"
        },
        {
         "name": "acf_se",
         "rawType": "float64",
         "type": "float"
        },
        {
         "name": "pacf_se",
         "rawType": "float64",
         "type": "float"
        }
       ],
       "ref": "5767e8c8-5b0d-4c5e-965d-add1b53f1596",
       "rows": [
        [
         "0",
         "0",
         "1.0",
         "1.0",
         null,
         null,
         null,
         null
        ],
        [
         "1",
         "1",
         "-0.4334666165876357",
         "-0.4334666165876358",
         "-1.5015724066295266",
         "-1.5015724066295268",
         "0.28867513459481287",
         "0.2886751345948129"
        ],
        [
         "2",
         "2",
         "-0.053477623541317854",
         "-0.2972157889161645",
         "-0.1579381994847326",
         "-1.0295856944289272",
         "0.3385984120104356",
         "0.2886751345948129"
        ],
        [
         "3",
         "3",
         "-0.06631167936900421",
         "-0.3041938950989309",
         "-0.1954358403277256",
         "-1.053758563327251",
         "0.3393015286132084",
         "0.2886751345948129"
        ],
        [
         "4",
         "4",
         "0.2584338826377044",
         "0.08670277379216651",
         "0.7592515517316709",
         "0.30034721873036735",
         "0.3403797885539761",
         "0.2886751345948129"
        ],
        [
         "5",
         "5",
         "-0.14124503774185299",
         "0.024900731249009454",
         "-0.396359135217639",
         "0.0862586633378048",
         "0.35635620625798364",
         "0.2886751345948129"
        ],
        [
         "6",
         "6",
         "0.010884364387549087",
         "0.047409827669585104",
         "0.030151314280773524",
         "0.16423246060361235",
         "0.36099137457797914",
         "0.2886751345948129"
        ],
        [
         "7",
         "7",
         "-0.1994332201338572",
         null,
         "-0.552417944407112",
         null,
         "0.36101872169974647",
         null
        ],
        [
         "8",
         "8",
         "0.23188677965748034",
         null,
         "0.6265758359185162",
         null,
         "0.3700857364177643",
         null
        ],
        [
         "9",
         "9",
         "-0.14103115854708215",
         null,
         "-0.36918978728891344",
         null,
         "0.3820017871640547",
         null
        ],
        [
         "10",
         "10",
         "0.06679551584010182",
         null,
         "0.17290366848214417",
         null,
         "0.3863163600082888",
         null
        ],
        [
         "11",
         "11",
         "-0.03303520660208562",
         null,
         "-0.0853011041475499",
         null,
         "0.38727759660581706",
         null
        ]
       ],
       "shape": {
        "columns": 7,
        "rows": 12
       }
      },
      "text/html": [
       "<div>\n",
       "<style scoped>\n",
       "    .dataframe tbody tr th:only-of-type {\n",
       "        vertical-align: middle;\n",
       "    }\n",
       "\n",
       "    .dataframe tbody tr th {\n",
       "        vertical-align: top;\n",
       "    }\n",
       "\n",
       "    .dataframe thead th {\n",
       "        text-align: right;\n",
       "    }\n",
       "</style>\n",
       "<table border=\"1\" class=\"dataframe\">\n",
       "  <thead>\n",
       "    <tr style=\"text-align: right;\">\n",
       "      <th></th>\n",
       "      <th>lag</th>\n",
       "      <th>acf</th>\n",
       "      <th>pacf</th>\n",
       "      <th>acf_t</th>\n",
       "      <th>pacf_t</th>\n",
       "      <th>acf_se</th>\n",
       "      <th>pacf_se</th>\n",
       "    </tr>\n",
       "  </thead>\n",
       "  <tbody>\n",
       "    <tr>\n",
       "      <th>0</th>\n",
       "      <td>0</td>\n",
       "      <td>1.000000</td>\n",
       "      <td>1.000000</td>\n",
       "      <td>NaN</td>\n",
       "      <td>NaN</td>\n",
       "      <td>NaN</td>\n",
       "      <td>NaN</td>\n",
       "    </tr>\n",
       "    <tr>\n",
       "      <th>1</th>\n",
       "      <td>1</td>\n",
       "      <td>-0.433467</td>\n",
       "      <td>-0.433467</td>\n",
       "      <td>-1.501572</td>\n",
       "      <td>-1.501572</td>\n",
       "      <td>0.288675</td>\n",
       "      <td>0.288675</td>\n",
       "    </tr>\n",
       "    <tr>\n",
       "      <th>2</th>\n",
       "      <td>2</td>\n",
       "      <td>-0.053478</td>\n",
       "      <td>-0.297216</td>\n",
       "      <td>-0.157938</td>\n",
       "      <td>-1.029586</td>\n",
       "      <td>0.338598</td>\n",
       "      <td>0.288675</td>\n",
       "    </tr>\n",
       "    <tr>\n",
       "      <th>3</th>\n",
       "      <td>3</td>\n",
       "      <td>-0.066312</td>\n",
       "      <td>-0.304194</td>\n",
       "      <td>-0.195436</td>\n",
       "      <td>-1.053759</td>\n",
       "      <td>0.339302</td>\n",
       "      <td>0.288675</td>\n",
       "    </tr>\n",
       "    <tr>\n",
       "      <th>4</th>\n",
       "      <td>4</td>\n",
       "      <td>0.258434</td>\n",
       "      <td>0.086703</td>\n",
       "      <td>0.759252</td>\n",
       "      <td>0.300347</td>\n",
       "      <td>0.340380</td>\n",
       "      <td>0.288675</td>\n",
       "    </tr>\n",
       "    <tr>\n",
       "      <th>5</th>\n",
       "      <td>5</td>\n",
       "      <td>-0.141245</td>\n",
       "      <td>0.024901</td>\n",
       "      <td>-0.396359</td>\n",
       "      <td>0.086259</td>\n",
       "      <td>0.356356</td>\n",
       "      <td>0.288675</td>\n",
       "    </tr>\n",
       "    <tr>\n",
       "      <th>6</th>\n",
       "      <td>6</td>\n",
       "      <td>0.010884</td>\n",
       "      <td>0.047410</td>\n",
       "      <td>0.030151</td>\n",
       "      <td>0.164232</td>\n",
       "      <td>0.360991</td>\n",
       "      <td>0.288675</td>\n",
       "    </tr>\n",
       "    <tr>\n",
       "      <th>7</th>\n",
       "      <td>7</td>\n",
       "      <td>-0.199433</td>\n",
       "      <td>NaN</td>\n",
       "      <td>-0.552418</td>\n",
       "      <td>NaN</td>\n",
       "      <td>0.361019</td>\n",
       "      <td>NaN</td>\n",
       "    </tr>\n",
       "    <tr>\n",
       "      <th>8</th>\n",
       "      <td>8</td>\n",
       "      <td>0.231887</td>\n",
       "      <td>NaN</td>\n",
       "      <td>0.626576</td>\n",
       "      <td>NaN</td>\n",
       "      <td>0.370086</td>\n",
       "      <td>NaN</td>\n",
       "    </tr>\n",
       "    <tr>\n",
       "      <th>9</th>\n",
       "      <td>9</td>\n",
       "      <td>-0.141031</td>\n",
       "      <td>NaN</td>\n",
       "      <td>-0.369190</td>\n",
       "      <td>NaN</td>\n",
       "      <td>0.382002</td>\n",
       "      <td>NaN</td>\n",
       "    </tr>\n",
       "    <tr>\n",
       "      <th>10</th>\n",
       "      <td>10</td>\n",
       "      <td>0.066796</td>\n",
       "      <td>NaN</td>\n",
       "      <td>0.172904</td>\n",
       "      <td>NaN</td>\n",
       "      <td>0.386316</td>\n",
       "      <td>NaN</td>\n",
       "    </tr>\n",
       "    <tr>\n",
       "      <th>11</th>\n",
       "      <td>11</td>\n",
       "      <td>-0.033035</td>\n",
       "      <td>NaN</td>\n",
       "      <td>-0.085301</td>\n",
       "      <td>NaN</td>\n",
       "      <td>0.387278</td>\n",
       "      <td>NaN</td>\n",
       "    </tr>\n",
       "  </tbody>\n",
       "</table>\n",
       "</div>"
      ],
      "text/plain": [
       "    lag       acf      pacf     acf_t    pacf_t    acf_se   pacf_se\n",
       "0     0  1.000000  1.000000       NaN       NaN       NaN       NaN\n",
       "1     1 -0.433467 -0.433467 -1.501572 -1.501572  0.288675  0.288675\n",
       "2     2 -0.053478 -0.297216 -0.157938 -1.029586  0.338598  0.288675\n",
       "3     3 -0.066312 -0.304194 -0.195436 -1.053759  0.339302  0.288675\n",
       "4     4  0.258434  0.086703  0.759252  0.300347  0.340380  0.288675\n",
       "5     5 -0.141245  0.024901 -0.396359  0.086259  0.356356  0.288675\n",
       "6     6  0.010884  0.047410  0.030151  0.164232  0.360991  0.288675\n",
       "7     7 -0.199433       NaN -0.552418       NaN  0.361019       NaN\n",
       "8     8  0.231887       NaN  0.626576       NaN  0.370086       NaN\n",
       "9     9 -0.141031       NaN -0.369190       NaN  0.382002       NaN\n",
       "10   10  0.066796       NaN  0.172904       NaN  0.386316       NaN\n",
       "11   11 -0.033035       NaN -0.085301       NaN  0.387278       NaN"
      ]
     },
     "execution_count": 41,
     "metadata": {},
     "output_type": "execute_result"
    }
   ],
   "source": [
    "# Fix pacf_t using se(phi_k) ≈ 1/sqrt(n) for k ≥ 1 (white-noise null)\n",
    "sqrt_n = np.sqrt(n)\n",
    "se_const = 1.0 / sqrt_n  # sqrt_n already available\n",
    "\n",
    "mask = (acf_pacf_df['lag'] > 0) & acf_pacf_df['pacf'].notna()\n",
    "\n",
    "pacf_se = np.full(len(acf_pacf_df), np.nan, dtype=float)\n",
    "pacf_se[mask] = se_const\n",
    "\n",
    "pacf_t_fixed = np.full(len(acf_pacf_df), np.nan, dtype=float)\n",
    "pacf_t_fixed[mask] = acf_pacf_df.loc[mask, 'pacf'].to_numpy() / se_const\n",
    "\n",
    "acf_pacf_df['pacf_se'] = pacf_se\n",
    "acf_pacf_df['pacf_t'] = pacf_t_fixed\n",
    "\n",
    "acf_pacf_df"
   ]
  },
  {
   "cell_type": "markdown",
   "id": "adbab063",
   "metadata": {},
   "source": [
    "# CALCULATION OF ACF"
   ]
  },
  {
   "cell_type": "code",
   "execution_count": 27,
   "id": "0d763f63",
   "metadata": {},
   "outputs": [
    {
     "data": {
      "application/vnd.microsoft.datawrangler.viewer.v0+json": {
       "columns": [
        {
         "name": "index",
         "rawType": "int64",
         "type": "integer"
        },
        {
         "name": "t",
         "rawType": "datetime64[ns]",
         "type": "datetime"
        },
        {
         "name": "zt",
         "rawType": "int64",
         "type": "integer"
        },
        {
         "name": "z̄",
         "rawType": "float64",
         "type": "float"
        },
        {
         "name": "z̄t",
         "rawType": "float64",
         "type": "float"
        },
        {
         "name": "z̄t+1",
         "rawType": "float64",
         "type": "float"
        },
        {
         "name": "z̄t + z̄t+1",
         "rawType": "float64",
         "type": "float"
        },
        {
         "name": "z̄t^2",
         "rawType": "float64",
         "type": "float"
        },
        {
         "name": "z̄t*z̄t+1",
         "rawType": "float64",
         "type": "float"
        }
       ],
       "ref": "63105b70-b165-4b89-890e-79f6957bd56c",
       "rows": [
        [
         "0",
         "2025-01-01 00:00:00",
         "210",
         "216.08333333333334",
         "-6.083333333333343",
         "8.916666666666657",
         "2.8333333333333144",
         "37.00694444444456",
         "-54.243055555555586"
        ],
        [
         "1",
         "2025-02-01 00:00:00",
         "225",
         "216.08333333333334",
         "8.916666666666657",
         "-18.083333333333343",
         "-9.166666666666686",
         "79.50694444444427",
         "-161.24305555555546"
        ],
        [
         "2",
         "2025-03-01 00:00:00",
         "198",
         "216.08333333333334",
         "-18.083333333333343",
         "23.916666666666657",
         "5.833333333333314",
         "327.0069444444448",
         "-432.4930555555556"
        ],
        [
         "3",
         "2025-04-01 00:00:00",
         "240",
         "216.08333333333334",
         "23.916666666666657",
         "-1.0833333333333428",
         "22.833333333333314",
         "572.006944444444",
         "-25.909722222222438"
        ],
        [
         "4",
         "2025-05-01 00:00:00",
         "215",
         "216.08333333333334",
         "-1.0833333333333428",
         "-36.08333333333334",
         "-37.166666666666686",
         "1.1736111111111316",
         "39.09027777777813"
        ],
        [
         "5",
         "2025-06-01 00:00:00",
         "180",
         "216.08333333333334",
         "-36.08333333333334",
         "-11.083333333333343",
         "-47.166666666666686",
         "1302.006944444445",
         "399.92361111111154"
        ],
        [
         "6",
         "2025-07-01 00:00:00",
         "205",
         "216.08333333333334",
         "-11.083333333333343",
         "33.91666666666666",
         "22.833333333333314",
         "122.84027777777798",
         "-375.90972222222246"
        ],
        [
         "7",
         "2025-08-01 00:00:00",
         "250",
         "216.08333333333334",
         "33.91666666666666",
         "-21.083333333333343",
         "12.833333333333314",
         "1150.3402777777771",
         "-715.076388888889"
        ],
        [
         "8",
         "2025-09-01 00:00:00",
         "195",
         "216.08333333333334",
         "-21.083333333333343",
         "13.916666666666657",
         "-7.166666666666686",
         "444.50694444444485",
         "-293.4097222222222"
        ],
        [
         "9",
         "2025-10-01 00:00:00",
         "230",
         "216.08333333333334",
         "13.916666666666657",
         "-16.083333333333343",
         "-2.1666666666666856",
         "193.67361111111086",
         "-223.82638888888886"
        ],
        [
         "10",
         "2025-11-01 00:00:00",
         "200",
         "216.08333333333334",
         "-16.083333333333343",
         "28.916666666666657",
         "12.833333333333314",
         "258.6736111111114",
         "-465.076388888889"
        ],
        [
         "11",
         "2025-12-01 00:00:00",
         "245",
         "216.08333333333334",
         "28.916666666666657",
         null,
         null,
         "836.1736111111105",
         null
        ]
       ],
       "shape": {
        "columns": 8,
        "rows": 12
       }
      },
      "text/html": [
       "<div>\n",
       "<style scoped>\n",
       "    .dataframe tbody tr th:only-of-type {\n",
       "        vertical-align: middle;\n",
       "    }\n",
       "\n",
       "    .dataframe tbody tr th {\n",
       "        vertical-align: top;\n",
       "    }\n",
       "\n",
       "    .dataframe thead th {\n",
       "        text-align: right;\n",
       "    }\n",
       "</style>\n",
       "<table border=\"1\" class=\"dataframe\">\n",
       "  <thead>\n",
       "    <tr style=\"text-align: right;\">\n",
       "      <th></th>\n",
       "      <th>t</th>\n",
       "      <th>zt</th>\n",
       "      <th>z̄</th>\n",
       "      <th>z̄t</th>\n",
       "      <th>z̄t+1</th>\n",
       "      <th>z̄t + z̄t+1</th>\n",
       "      <th>z̄t^2</th>\n",
       "      <th>z̄t*z̄t+1</th>\n",
       "    </tr>\n",
       "  </thead>\n",
       "  <tbody>\n",
       "    <tr>\n",
       "      <th>0</th>\n",
       "      <td>2025-01-01</td>\n",
       "      <td>210</td>\n",
       "      <td>216.083333</td>\n",
       "      <td>-6.083333</td>\n",
       "      <td>8.916667</td>\n",
       "      <td>2.833333</td>\n",
       "      <td>37.006944</td>\n",
       "      <td>-54.243056</td>\n",
       "    </tr>\n",
       "    <tr>\n",
       "      <th>1</th>\n",
       "      <td>2025-02-01</td>\n",
       "      <td>225</td>\n",
       "      <td>216.083333</td>\n",
       "      <td>8.916667</td>\n",
       "      <td>-18.083333</td>\n",
       "      <td>-9.166667</td>\n",
       "      <td>79.506944</td>\n",
       "      <td>-161.243056</td>\n",
       "    </tr>\n",
       "    <tr>\n",
       "      <th>2</th>\n",
       "      <td>2025-03-01</td>\n",
       "      <td>198</td>\n",
       "      <td>216.083333</td>\n",
       "      <td>-18.083333</td>\n",
       "      <td>23.916667</td>\n",
       "      <td>5.833333</td>\n",
       "      <td>327.006944</td>\n",
       "      <td>-432.493056</td>\n",
       "    </tr>\n",
       "    <tr>\n",
       "      <th>3</th>\n",
       "      <td>2025-04-01</td>\n",
       "      <td>240</td>\n",
       "      <td>216.083333</td>\n",
       "      <td>23.916667</td>\n",
       "      <td>-1.083333</td>\n",
       "      <td>22.833333</td>\n",
       "      <td>572.006944</td>\n",
       "      <td>-25.909722</td>\n",
       "    </tr>\n",
       "    <tr>\n",
       "      <th>4</th>\n",
       "      <td>2025-05-01</td>\n",
       "      <td>215</td>\n",
       "      <td>216.083333</td>\n",
       "      <td>-1.083333</td>\n",
       "      <td>-36.083333</td>\n",
       "      <td>-37.166667</td>\n",
       "      <td>1.173611</td>\n",
       "      <td>39.090278</td>\n",
       "    </tr>\n",
       "    <tr>\n",
       "      <th>5</th>\n",
       "      <td>2025-06-01</td>\n",
       "      <td>180</td>\n",
       "      <td>216.083333</td>\n",
       "      <td>-36.083333</td>\n",
       "      <td>-11.083333</td>\n",
       "      <td>-47.166667</td>\n",
       "      <td>1302.006944</td>\n",
       "      <td>399.923611</td>\n",
       "    </tr>\n",
       "    <tr>\n",
       "      <th>6</th>\n",
       "      <td>2025-07-01</td>\n",
       "      <td>205</td>\n",
       "      <td>216.083333</td>\n",
       "      <td>-11.083333</td>\n",
       "      <td>33.916667</td>\n",
       "      <td>22.833333</td>\n",
       "      <td>122.840278</td>\n",
       "      <td>-375.909722</td>\n",
       "    </tr>\n",
       "    <tr>\n",
       "      <th>7</th>\n",
       "      <td>2025-08-01</td>\n",
       "      <td>250</td>\n",
       "      <td>216.083333</td>\n",
       "      <td>33.916667</td>\n",
       "      <td>-21.083333</td>\n",
       "      <td>12.833333</td>\n",
       "      <td>1150.340278</td>\n",
       "      <td>-715.076389</td>\n",
       "    </tr>\n",
       "    <tr>\n",
       "      <th>8</th>\n",
       "      <td>2025-09-01</td>\n",
       "      <td>195</td>\n",
       "      <td>216.083333</td>\n",
       "      <td>-21.083333</td>\n",
       "      <td>13.916667</td>\n",
       "      <td>-7.166667</td>\n",
       "      <td>444.506944</td>\n",
       "      <td>-293.409722</td>\n",
       "    </tr>\n",
       "    <tr>\n",
       "      <th>9</th>\n",
       "      <td>2025-10-01</td>\n",
       "      <td>230</td>\n",
       "      <td>216.083333</td>\n",
       "      <td>13.916667</td>\n",
       "      <td>-16.083333</td>\n",
       "      <td>-2.166667</td>\n",
       "      <td>193.673611</td>\n",
       "      <td>-223.826389</td>\n",
       "    </tr>\n",
       "    <tr>\n",
       "      <th>10</th>\n",
       "      <td>2025-11-01</td>\n",
       "      <td>200</td>\n",
       "      <td>216.083333</td>\n",
       "      <td>-16.083333</td>\n",
       "      <td>28.916667</td>\n",
       "      <td>12.833333</td>\n",
       "      <td>258.673611</td>\n",
       "      <td>-465.076389</td>\n",
       "    </tr>\n",
       "    <tr>\n",
       "      <th>11</th>\n",
       "      <td>2025-12-01</td>\n",
       "      <td>245</td>\n",
       "      <td>216.083333</td>\n",
       "      <td>28.916667</td>\n",
       "      <td>NaN</td>\n",
       "      <td>NaN</td>\n",
       "      <td>836.173611</td>\n",
       "      <td>NaN</td>\n",
       "    </tr>\n",
       "  </tbody>\n",
       "</table>\n",
       "</div>"
      ],
      "text/plain": [
       "            t   zt          z̄        z̄t      z̄t+1  z̄t + z̄t+1  \\\n",
       "0  2025-01-01  210  216.083333  -6.083333   8.916667     2.833333   \n",
       "1  2025-02-01  225  216.083333   8.916667 -18.083333    -9.166667   \n",
       "2  2025-03-01  198  216.083333 -18.083333  23.916667     5.833333   \n",
       "3  2025-04-01  240  216.083333  23.916667  -1.083333    22.833333   \n",
       "4  2025-05-01  215  216.083333  -1.083333 -36.083333   -37.166667   \n",
       "5  2025-06-01  180  216.083333 -36.083333 -11.083333   -47.166667   \n",
       "6  2025-07-01  205  216.083333 -11.083333  33.916667    22.833333   \n",
       "7  2025-08-01  250  216.083333  33.916667 -21.083333    12.833333   \n",
       "8  2025-09-01  195  216.083333 -21.083333  13.916667    -7.166667   \n",
       "9  2025-10-01  230  216.083333  13.916667 -16.083333    -2.166667   \n",
       "10 2025-11-01  200  216.083333 -16.083333  28.916667    12.833333   \n",
       "11 2025-12-01  245  216.083333  28.916667        NaN          NaN   \n",
       "\n",
       "          z̄t^2   z̄t*z̄t+1  \n",
       "0     37.006944  -54.243056  \n",
       "1     79.506944 -161.243056  \n",
       "2    327.006944 -432.493056  \n",
       "3    572.006944  -25.909722  \n",
       "4      1.173611   39.090278  \n",
       "5   1302.006944  399.923611  \n",
       "6    122.840278 -375.909722  \n",
       "7   1150.340278 -715.076389  \n",
       "8    444.506944 -293.409722  \n",
       "9    193.673611 -223.826389  \n",
       "10   258.673611 -465.076389  \n",
       "11   836.173611         NaN  "
      ]
     },
     "execution_count": 27,
     "metadata": {},
     "output_type": "execute_result"
    }
   ],
   "source": [
    "df['z̄t*z̄t+1']=df['z̄t'] * df['z̄t+1']\n",
    "df['z̄t^2']=df['z̄t'] **2\n",
    "df"
   ]
  },
  {
   "cell_type": "code",
   "execution_count": 28,
   "id": "8b9d867a",
   "metadata": {},
   "outputs": [
    {
     "data": {
      "text/plain": [
       "-0.4334666165876358"
      ]
     },
     "execution_count": 28,
     "metadata": {},
     "output_type": "execute_result"
    }
   ],
   "source": [
    "r1 = df['z̄t*z̄t+1'].sum() / df['z̄t^2'].sum()\n",
    "r1"
   ]
  },
  {
   "cell_type": "code",
   "execution_count": 31,
   "id": "2719465c",
   "metadata": {},
   "outputs": [
    {
     "data": {
      "text/plain": [
       "5324.916666666666"
      ]
     },
     "execution_count": 31,
     "metadata": {},
     "output_type": "execute_result"
    }
   ],
   "source": [
    "df['z̄t^2'].sum()"
   ]
  }
 ],
 "metadata": {
  "kernelspec": {
   "display_name": "myenv (3.11.1)",
   "language": "python",
   "name": "python3"
  },
  "language_info": {
   "codemirror_mode": {
    "name": "ipython",
    "version": 3
   },
   "file_extension": ".py",
   "mimetype": "text/x-python",
   "name": "python",
   "nbconvert_exporter": "python",
   "pygments_lexer": "ipython3",
   "version": "3.11.1"
  }
 },
 "nbformat": 4,
 "nbformat_minor": 5
}
