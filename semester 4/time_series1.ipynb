{
 "cells": [
  {
   "cell_type": "code",
   "execution_count": 1,
   "id": "2c1c53c5",
   "metadata": {},
   "outputs": [],
   "source": [
    "import pandas as pd\n",
    "import numpy as np\n",
    "import matplotlib.pyplot as plt"
   ]
  },
  {
   "cell_type": "code",
   "execution_count": 2,
   "id": "d9cd5cbb",
   "metadata": {},
   "outputs": [],
   "source": [
    "# Data\n",
    "t = list(range(1,13))\n",
    "z = [150,145,160,178,182,180,192,200,214,216,240,256]\n",
    "s = pd.Series(z, index=t)"
   ]
  },
  {
   "cell_type": "code",
   "execution_count": 3,
   "id": "963de3b4",
   "metadata": {},
   "outputs": [
    {
     "data": {
      "application/vnd.microsoft.datawrangler.viewer.v0+json": {
       "columns": [
        {
         "name": "index",
         "rawType": "int64",
         "type": "integer"
        },
        {
         "name": "0",
         "rawType": "int64",
         "type": "integer"
        }
       ],
       "ref": "075eb7ed-d1ec-445f-a8ab-be0f313d709c",
       "rows": [
        [
         "1",
         "150"
        ],
        [
         "2",
         "145"
        ],
        [
         "3",
         "160"
        ],
        [
         "4",
         "178"
        ],
        [
         "5",
         "182"
        ],
        [
         "6",
         "180"
        ],
        [
         "7",
         "192"
        ],
        [
         "8",
         "200"
        ],
        [
         "9",
         "214"
        ],
        [
         "10",
         "216"
        ],
        [
         "11",
         "240"
        ],
        [
         "12",
         "256"
        ]
       ],
       "shape": {
        "columns": 1,
        "rows": 12
       }
      },
      "text/plain": [
       "1     150\n",
       "2     145\n",
       "3     160\n",
       "4     178\n",
       "5     182\n",
       "6     180\n",
       "7     192\n",
       "8     200\n",
       "9     214\n",
       "10    216\n",
       "11    240\n",
       "12    256\n",
       "dtype: int64"
      ]
     },
     "execution_count": 3,
     "metadata": {},
     "output_type": "execute_result"
    }
   ],
   "source": [
    "s"
   ]
  },
  {
   "cell_type": "code",
   "execution_count": 4,
   "id": "7851e945",
   "metadata": {},
   "outputs": [
    {
     "name": "stdout",
     "output_type": "stream",
     "text": [
      "n = 12, mean = 192.75, sample variance = 1177.659090909091\n"
     ]
    }
   ],
   "source": [
    "# 1) n, mean, sample variance\n",
    "n = len(s)\n",
    "zbar = s.mean()\n",
    "s2 = s.var(ddof=1)  # sample variance\n",
    "print(f\"n = {n}, mean = {zbar}, sample variance = {s2}\")"
   ]
  },
  {
   "cell_type": "code",
   "execution_count": 5,
   "id": "66f2252a",
   "metadata": {},
   "outputs": [
    {
     "data": {
      "text/plain": [
       "Text(0, 0.5, 'z_t')"
      ]
     },
     "execution_count": 5,
     "metadata": {},
     "output_type": "execute_result"
    },
    {
     "data": {
      "image/png": "[encoded data removed]",
      "text/plain": [
       "<Figure size 640x480 with 1 Axes>"
      ]
     },
     "metadata": {},
     "output_type": "display_data"
    }
   ],
   "source": [
    "plt.figure()\n",
    "plt.plot(t, z, marker='o')\n",
    "plt.title('Runtun Waktu Pengunjung 2024')\n",
    "plt.xlabel('Bulan (t)')\n",
    "plt.ylabel('z_t')"
   ]
  },
  {
   "cell_type": "code",
   "execution_count": 6,
   "id": "450b7445",
   "metadata": {},
   "outputs": [],
   "source": [
    "# 3) First difference\n",
    "diff1 = s.diff()"
   ]
  },
  {
   "cell_type": "code",
   "execution_count": 7,
   "id": "e0a81d90",
   "metadata": {},
   "outputs": [
    {
     "data": {
      "application/vnd.microsoft.datawrangler.viewer.v0+json": {
       "columns": [
        {
         "name": "index",
         "rawType": "int64",
         "type": "integer"
        },
        {
         "name": "z",
         "rawType": "int64",
         "type": "integer"
        },
        {
         "name": "diff1",
         "rawType": "float64",
         "type": "float"
        }
       ],
       "ref": "daca874d-397b-4078-a0eb-7834471a28f3",
       "rows": [
        [
         "1",
         "150",
         null
        ],
        [
         "2",
         "145",
         "-5.0"
        ],
        [
         "3",
         "160",
         "15.0"
        ],
        [
         "4",
         "178",
         "18.0"
        ],
        [
         "5",
         "182",
         "4.0"
        ],
        [
         "6",
         "180",
         "-2.0"
        ],
        [
         "7",
         "192",
         "12.0"
        ],
        [
         "8",
         "200",
         "8.0"
        ],
        [
         "9",
         "214",
         "14.0"
        ],
        [
         "10",
         "216",
         "2.0"
        ],
        [
         "11",
         "240",
         "24.0"
        ],
        [
         "12",
         "256",
         "16.0"
        ]
       ],
       "shape": {
        "columns": 2,
        "rows": 12
       }
      },
      "text/html": [
       "<div>\n",
       "<style scoped>\n",
       "    .dataframe tbody tr th:only-of-type {\n",
       "        vertical-align: middle;\n",
       "    }\n",
       "\n",
       "    .dataframe tbody tr th {\n",
       "        vertical-align: top;\n",
       "    }\n",
       "\n",
       "    .dataframe thead th {\n",
       "        text-align: right;\n",
       "    }\n",
       "</style>\n",
       "<table border=\"1\" class=\"dataframe\">\n",
       "  <thead>\n",
       "    <tr style=\"text-align: right;\">\n",
       "      <th></th>\n",
       "      <th>z</th>\n",
       "      <th>diff1</th>\n",
       "    </tr>\n",
       "  </thead>\n",
       "  <tbody>\n",
       "    <tr>\n",
       "      <th>1</th>\n",
       "      <td>150</td>\n",
       "      <td>NaN</td>\n",
       "    </tr>\n",
       "    <tr>\n",
       "      <th>2</th>\n",
       "      <td>145</td>\n",
       "      <td>-5.0</td>\n",
       "    </tr>\n",
       "    <tr>\n",
       "      <th>3</th>\n",
       "      <td>160</td>\n",
       "      <td>15.0</td>\n",
       "    </tr>\n",
       "    <tr>\n",
       "      <th>4</th>\n",
       "      <td>178</td>\n",
       "      <td>18.0</td>\n",
       "    </tr>\n",
       "    <tr>\n",
       "      <th>5</th>\n",
       "      <td>182</td>\n",
       "      <td>4.0</td>\n",
       "    </tr>\n",
       "    <tr>\n",
       "      <th>6</th>\n",
       "      <td>180</td>\n",
       "      <td>-2.0</td>\n",
       "    </tr>\n",
       "    <tr>\n",
       "      <th>7</th>\n",
       "      <td>192</td>\n",
       "      <td>12.0</td>\n",
       "    </tr>\n",
       "    <tr>\n",
       "      <th>8</th>\n",
       "      <td>200</td>\n",
       "      <td>8.0</td>\n",
       "    </tr>\n",
       "    <tr>\n",
       "      <th>9</th>\n",
       "      <td>214</td>\n",
       "      <td>14.0</td>\n",
       "    </tr>\n",
       "    <tr>\n",
       "      <th>10</th>\n",
       "      <td>216</td>\n",
       "      <td>2.0</td>\n",
       "    </tr>\n",
       "    <tr>\n",
       "      <th>11</th>\n",
       "      <td>240</td>\n",
       "      <td>24.0</td>\n",
       "    </tr>\n",
       "    <tr>\n",
       "      <th>12</th>\n",
       "      <td>256</td>\n",
       "      <td>16.0</td>\n",
       "    </tr>\n",
       "  </tbody>\n",
       "</table>\n",
       "</div>"
      ],
      "text/plain": [
       "      z  diff1\n",
       "1   150    NaN\n",
       "2   145   -5.0\n",
       "3   160   15.0\n",
       "4   178   18.0\n",
       "5   182    4.0\n",
       "6   180   -2.0\n",
       "7   192   12.0\n",
       "8   200    8.0\n",
       "9   214   14.0\n",
       "10  216    2.0\n",
       "11  240   24.0\n",
       "12  256   16.0"
      ]
     },
     "execution_count": 7,
     "metadata": {},
     "output_type": "execute_result"
    }
   ],
   "source": [
    "# Gabungkan diff1 ke dalam tabel s sebagai kolom baru\n",
    "df_s = pd.DataFrame({'z': s, 'diff1': diff1})\n",
    "df_s"
   ]
  },
  {
   "cell_type": "code",
   "execution_count": 8,
   "id": "2a78b39d",
   "metadata": {},
   "outputs": [
    {
     "data": {
      "text/plain": [
       "Text(0, 0.5, 'Δz_t = z_t - z_{t-1}')"
      ]
     },
     "execution_count": 8,
     "metadata": {},
     "output_type": "execute_result"
    },
    {
     "data": {
      "image/png": "[encoded data removed]",
      "text/plain": [
       "<Figure size 640x480 with 1 Axes>"
      ]
     },
     "metadata": {},
     "output_type": "display_data"
    }
   ],
   "source": [
    "plt.figure()\n",
    "plt.plot(diff1.index, diff1.values, marker='o')\n",
    "plt.title('Diferensi Pertama dari z_t')\n",
    "plt.xlabel('Bulan (t)')\n",
    "plt.ylabel('Δz_t = z_t - z_{t-1}')"
   ]
  },
  {
   "cell_type": "code",
   "execution_count": 9,
   "id": "9895891a",
   "metadata": {},
   "outputs": [],
   "source": [
    "# 4) Deviations from mean (z_t - zbar)\n",
    "dev_from_mean = s - zbar\n",
    "\n",
    "# Buat DataFrame ringkasan\n",
    "df = pd.DataFrame({\n",
    "    't': t,\n",
    "    'z_t': z,\n",
    "    'Δz_t (first diff)': diff1.values,\n",
    "    'z_t - z̄ (deviasi)': dev_from_mean.values\n",
    "})"
   ]
  },
  {
   "cell_type": "code",
   "execution_count": 10,
   "id": "2d9845b7",
   "metadata": {},
   "outputs": [
    {
     "data": {
      "application/vnd.microsoft.datawrangler.viewer.v0+json": {
       "columns": [
        {
         "name": "index",
         "rawType": "int64",
         "type": "integer"
        },
        {
         "name": "t",
         "rawType": "int64",
         "type": "integer"
        },
        {
         "name": "z_t",
         "rawType": "int64",
         "type": "integer"
        },
        {
         "name": "Δz_t (first diff)",
         "rawType": "float64",
         "type": "float"
        },
        {
         "name": "z_t - z̄ (deviasi)",
         "rawType": "float64",
         "type": "float"
        }
       ],
       "ref": "ad469ffb-1275-4c94-9e4f-7aadf6184711",
       "rows": [
        [
         "0",
         "1",
         "150",
         null,
         "-42.75"
        ],
        [
         "1",
         "2",
         "145",
         "-5.0",
         "-47.75"
        ],
        [
         "2",
         "3",
         "160",
         "15.0",
         "-32.75"
        ],
        [
         "3",
         "4",
         "178",
         "18.0",
         "-14.75"
        ],
        [
         "4",
         "5",
         "182",
         "4.0",
         "-10.75"
        ],
        [
         "5",
         "6",
         "180",
         "-2.0",
         "-12.75"
        ],
        [
         "6",
         "7",
         "192",
         "12.0",
         "-0.75"
        ],
        [
         "7",
         "8",
         "200",
         "8.0",
         "7.25"
        ],
        [
         "8",
         "9",
         "214",
         "14.0",
         "21.25"
        ],
        [
         "9",
         "10",
         "216",
         "2.0",
         "23.25"
        ],
        [
         "10",
         "11",
         "240",
         "24.0",
         "47.25"
        ],
        [
         "11",
         "12",
         "256",
         "16.0",
         "63.25"
        ]
       ],
       "shape": {
        "columns": 4,
        "rows": 12
       }
      },
      "text/html": [
       "<div>\n",
       "<style scoped>\n",
       "    .dataframe tbody tr th:only-of-type {\n",
       "        vertical-align: middle;\n",
       "    }\n",
       "\n",
       "    .dataframe tbody tr th {\n",
       "        vertical-align: top;\n",
       "    }\n",
       "\n",
       "    .dataframe thead th {\n",
       "        text-align: right;\n",
       "    }\n",
       "</style>\n",
       "<table border=\"1\" class=\"dataframe\">\n",
       "  <thead>\n",
       "    <tr style=\"text-align: right;\">\n",
       "      <th></th>\n",
       "      <th>t</th>\n",
       "      <th>z_t</th>\n",
       "      <th>Δz_t (first diff)</th>\n",
       "      <th>z_t - z̄ (deviasi)</th>\n",
       "    </tr>\n",
       "  </thead>\n",
       "  <tbody>\n",
       "    <tr>\n",
       "      <th>0</th>\n",
       "      <td>1</td>\n",
       "      <td>150</td>\n",
       "      <td>NaN</td>\n",
       "      <td>-42.75</td>\n",
       "    </tr>\n",
       "    <tr>\n",
       "      <th>1</th>\n",
       "      <td>2</td>\n",
       "      <td>145</td>\n",
       "      <td>-5.0</td>\n",
       "      <td>-47.75</td>\n",
       "    </tr>\n",
       "    <tr>\n",
       "      <th>2</th>\n",
       "      <td>3</td>\n",
       "      <td>160</td>\n",
       "      <td>15.0</td>\n",
       "      <td>-32.75</td>\n",
       "    </tr>\n",
       "    <tr>\n",
       "      <th>3</th>\n",
       "      <td>4</td>\n",
       "      <td>178</td>\n",
       "      <td>18.0</td>\n",
       "      <td>-14.75</td>\n",
       "    </tr>\n",
       "    <tr>\n",
       "      <th>4</th>\n",
       "      <td>5</td>\n",
       "      <td>182</td>\n",
       "      <td>4.0</td>\n",
       "      <td>-10.75</td>\n",
       "    </tr>\n",
       "    <tr>\n",
       "      <th>5</th>\n",
       "      <td>6</td>\n",
       "      <td>180</td>\n",
       "      <td>-2.0</td>\n",
       "      <td>-12.75</td>\n",
       "    </tr>\n",
       "    <tr>\n",
       "      <th>6</th>\n",
       "      <td>7</td>\n",
       "      <td>192</td>\n",
       "      <td>12.0</td>\n",
       "      <td>-0.75</td>\n",
       "    </tr>\n",
       "    <tr>\n",
       "      <th>7</th>\n",
       "      <td>8</td>\n",
       "      <td>200</td>\n",
       "      <td>8.0</td>\n",
       "      <td>7.25</td>\n",
       "    </tr>\n",
       "    <tr>\n",
       "      <th>8</th>\n",
       "      <td>9</td>\n",
       "      <td>214</td>\n",
       "      <td>14.0</td>\n",
       "      <td>21.25</td>\n",
       "    </tr>\n",
       "    <tr>\n",
       "      <th>9</th>\n",
       "      <td>10</td>\n",
       "      <td>216</td>\n",
       "      <td>2.0</td>\n",
       "      <td>23.25</td>\n",
       "    </tr>\n",
       "    <tr>\n",
       "      <th>10</th>\n",
       "      <td>11</td>\n",
       "      <td>240</td>\n",
       "      <td>24.0</td>\n",
       "      <td>47.25</td>\n",
       "    </tr>\n",
       "    <tr>\n",
       "      <th>11</th>\n",
       "      <td>12</td>\n",
       "      <td>256</td>\n",
       "      <td>16.0</td>\n",
       "      <td>63.25</td>\n",
       "    </tr>\n",
       "  </tbody>\n",
       "</table>\n",
       "</div>"
      ],
      "text/plain": [
       "     t  z_t  Δz_t (first diff)  z_t - z̄ (deviasi)\n",
       "0    1  150                NaN              -42.75\n",
       "1    2  145               -5.0              -47.75\n",
       "2    3  160               15.0              -32.75\n",
       "3    4  178               18.0              -14.75\n",
       "4    5  182                4.0              -10.75\n",
       "5    6  180               -2.0              -12.75\n",
       "6    7  192               12.0               -0.75\n",
       "7    8  200                8.0                7.25\n",
       "8    9  214               14.0               21.25\n",
       "9   10  216                2.0               23.25\n",
       "10  11  240               24.0               47.25\n",
       "11  12  256               16.0               63.25"
      ]
     },
     "execution_count": 10,
     "metadata": {},
     "output_type": "execute_result"
    }
   ],
   "source": [
    "df"
   ]
  },
  {
   "cell_type": "code",
   "execution_count": 11,
   "id": "e5e0beae",
   "metadata": {},
   "outputs": [
    {
     "data": {
      "text/plain": [
       "Text(0.5, 1.0, 'Deviasi dari Rata-rata z̄')"
      ]
     },
     "execution_count": 11,
     "metadata": {},
     "output_type": "execute_result"
    },
    {
     "data": {
      "image/png": "[encoded data removed]",
      "text/plain": [
       "<Figure size 640x480 with 1 Axes>"
      ]
     },
     "metadata": {},
     "output_type": "display_data"
    }
   ],
   "source": [
    "plt.figure()\n",
    "plt.plot(dev_from_mean.index, dev_from_mean.values, marker='o')\n",
    "plt.title('Deviasi dari Rata-rata z̄')"
   ]
  }
 ],
 "metadata": {
  "kernelspec": {
   "display_name": "myenv (3.11.1)",
   "language": "python",
   "name": "python3"
  },
  "language_info": {
   "codemirror_mode": {
    "name": "ipython",
    "version": 3
   },
   "file_extension": ".py",
   "mimetype": "text/x-python",
   "name": "python",
   "nbconvert_exporter": "python",
   "pygments_lexer": "ipython3",
   "version": "3.11.1"
  }
 },
 "nbformat": 4,
 "nbformat_minor": 5
}
